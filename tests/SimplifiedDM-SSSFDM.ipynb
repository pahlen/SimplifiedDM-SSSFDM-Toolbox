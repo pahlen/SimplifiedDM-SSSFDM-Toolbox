{
 "cells": [
  {
   "cell_type": "markdown",
   "metadata": {},
   "source": [
    "#  Singlet Scalar Singlet (charged) fermion dark matter model\n",
    "* [arXiv:1307.6181](https://arxiv.org/abs/1307.6181)\n",
    "* [arXiv:1307.6480](https://arxiv.org/abs/1307.6480)\n",
    "* [arXiv:1306.6342](https://arxiv.org/abs/1306.6342)\n",
    "* https://arxiv.org/pdf/1405.6917.pdf : important and bad news: the constraints from LHC are alredy taking into account there.\n",
    "\n",
    "## Particle content"
   ]
  },
  {
   "cell_type": "code",
   "execution_count": 61,
   "metadata": {},
   "outputs": [
    {
     "data": {
      "text/latex": [
       "\\begin{array}{llllll}\n",
       "\\text{Name} & \\text{Symbol} & \\text{SU}(3)_c & \\text{SU}(2)_L & \\text{U}(1)_Y & Z_2 \\\\ \\hline\n",
       " \\begin{pmatrix}\\nu_L & e_L\\end{pmatrix}^{\\operatorname{T}}&\n",
       "\\begin{pmatrix}\\xi_{1\\alpha} & \\xi_{2\\alpha} \\end{pmatrix}^{\\operatorname{T}}& \\mathbf{1} & \\mathbf{2} & -1/2 & +1\\\\\n",
       "(e_R)^{\\dagger} & \\eta^{\\alpha}_1 & \\mathbf{1} & \\mathbf{1} & +1 & +1 \\\\\n",
       "(\\psi_R)^{\\dagger} & \\eta^{\\alpha}_2 & \\mathbf{1} & \\mathbf{1} & +1 & -1 \\\\\n",
       "\\psi_L & \\xi_{3\\alpha} & \\mathbf{1} & \\mathbf{1} & -1 & -1 \\\\\n",
       "\\end{array}"
      ],
      "text/plain": [
       "<IPython.core.display.Latex object>"
      ]
     },
     "metadata": {},
     "output_type": "display_data"
    }
   ],
   "source": [
    "%%latex\n",
    "\\begin{array}{llllll}\n",
    "\\text{Name} & \\text{Symbol} & \\text{SU}(3)_c & \\text{SU}(2)_L & \\text{U}(1)_Y & Z_2 \\\\ \\hline\n",
    " \\begin{pmatrix}\\nu_L & e_L\\end{pmatrix}^{\\operatorname{T}}&\n",
    "\\begin{pmatrix}\\xi_{1\\alpha} & \\xi_{2\\alpha} \\end{pmatrix}^{\\operatorname{T}}& \\mathbf{1} & \\mathbf{2} & -1/2 & +1\\\\\n",
    "(e_R)^{\\dagger} & \\eta^{\\alpha}_1 & \\mathbf{1} & \\mathbf{1} & +1 & +1 \\\\\n",
    "(\\psi_R)^{\\dagger} & \\eta^{\\alpha}_2 & \\mathbf{1} & \\mathbf{1} & +1 & -1 \\\\\n",
    "\\psi_L & \\xi_{3\\alpha} & \\mathbf{1} & \\mathbf{1} & -1 & -1 \\\\\n",
    "\\end{array}"
   ]
  },
  {
   "cell_type": "markdown",
   "metadata": {},
   "source": [
    "After the spontaneous symmetry breaking, the relevant Yukawa terms are\n",
    "\\begin{align}\n",
    "  \\mathcal{L}=&\\frac{h_e v}{\\sqrt{2}} \\left( \\eta^{\\alpha}_1 \\xi_{2\\alpha} + \\xi_{2\\dot{\\alpha}}^{\\dagger} \\eta^{\\dagger\\dot{\\alpha}}_1   \\right)+ M_{\\psi} \\left(  \\eta^{\\alpha}_2 \\xi_{3\\alpha}+  \\xi_{3\\dot{\\alpha}}^{\\dagger}\\eta^{\\dagger\\dot{\\alpha}}_2 \\right) + h_S \\left(S \\eta^{\\alpha}_1 \\xi_{3\\alpha}\n",
    " + S\\xi_{3\\dot{\\alpha}}^{\\dagger} \\eta^{\\dagger\\dot{\\alpha}}_1   \\right) \n",
    "\\nonumber\\\\\n",
    "      =&\\frac{h_e v}{\\sqrt{2}}\n",
    "      \\begin{pmatrix}\n",
    "       \\eta^{\\alpha}_1 &  \\xi_{2\\dot{\\alpha}}^{\\dagger} \n",
    "      \\end{pmatrix}\n",
    "      \\begin{pmatrix}\n",
    "        \\xi_{2\\alpha} \\\\\n",
    "         \\eta^{\\dagger\\dot{\\alpha}}_1 \n",
    "      \\end{pmatrix}+M_{\\psi}\\begin{pmatrix}\n",
    "       \\eta^{\\alpha}_2 &  \\xi_{3\\dot{\\alpha}}^{\\dagger} \n",
    "      \\end{pmatrix}\n",
    "      \\begin{pmatrix}\n",
    "        \\xi_{3\\alpha} \\\\\n",
    "         \\eta^{\\dagger\\dot{\\alpha}}_2 \n",
    "      \\end{pmatrix}\n",
    "       +\\left[ h_S S\\begin{pmatrix}\n",
    "       \\eta^{\\alpha}_1 &  \\xi_{2\\dot{\\alpha}}^{\\dagger} \n",
    "      \\end{pmatrix}\n",
    "      \\begin{pmatrix}\n",
    "        1 & 0 \\\\\n",
    "        0 & 0\\\\        \n",
    "      \\end{pmatrix}\n",
    "      \\begin{pmatrix}\n",
    "        \\xi_{3\\alpha} \\\\\n",
    "         \\eta^{\\dagger\\dot{\\alpha}}_2 \n",
    "      \\end{pmatrix} +\\text{h.c} \\right]\n",
    "     \\nonumber\\\\\n",
    "      =&\\frac{h_e v}{\\sqrt{2}}\n",
    "      \\begin{pmatrix}\n",
    "     \\xi_{2\\dot{\\alpha}}^{\\dagger} & \\eta^{\\alpha}_1\n",
    "      \\end{pmatrix}\n",
    "      \\begin{pmatrix}\n",
    "       0 & 1\\\\\n",
    "       1 & 0        \n",
    "      \\end{pmatrix}\n",
    "      \\begin{pmatrix}\n",
    "        \\xi_{2\\alpha} \\\\\n",
    "         \\eta^{\\dagger\\dot{\\alpha}}_1 \n",
    "      \\end{pmatrix}\n",
    "+M_{\\psi}\\begin{pmatrix}\n",
    "       \\xi_{3\\dot{\\alpha}}^{\\dagger}  & \\eta^{\\alpha}_2 \n",
    "      \\end{pmatrix}\n",
    "      \\begin{pmatrix}\n",
    "       0 & 1\\\\\n",
    "       1 & 0        \n",
    "      \\end{pmatrix}\n",
    "      \\begin{pmatrix}\n",
    "        \\xi_{3\\alpha} \\\\\n",
    "         \\eta^{\\dagger\\dot{\\alpha}}_2 \n",
    "      \\end{pmatrix}\\nonumber\\\\\n",
    "&+\\left[ h_S S\\begin{pmatrix}\n",
    "       \\xi_{2\\dot{\\alpha}}^{\\dagger}  & \\eta^{\\alpha}_1\n",
    "      \\end{pmatrix}\n",
    "      \\begin{pmatrix}\n",
    "       0 & 1\\\\\n",
    "       1 & 0        \n",
    "      \\end{pmatrix}\n",
    "      \\begin{pmatrix}\n",
    "       1 & 0\\\\\n",
    "       0 & 0        \n",
    "      \\end{pmatrix}\n",
    "      \\begin{pmatrix}\n",
    "        \\xi_{3\\alpha} \\\\\n",
    "         \\eta^{\\dagger\\dot{\\alpha}}_2 \n",
    "      \\end{pmatrix}+\\text{h.c}  \\right]\n",
    "     \\nonumber\n",
    "\\end{align}\n",
    "Defining\n",
    "\\begin{align}\n",
    "  e=&  \\begin{pmatrix}\n",
    "        \\xi_{2\\alpha} \\\\\n",
    "         \\eta^{\\dagger\\dot{\\alpha}}_1 \n",
    "      \\end{pmatrix}=\n",
    "      \\begin{pmatrix}\n",
    "        e_L\\\\\n",
    "        e_R\n",
    "      \\end{pmatrix}& \\Psi= \\begin{pmatrix}\n",
    "        \\xi_{3\\alpha} \\\\\n",
    "         \\eta^{\\dagger\\dot{\\alpha}}_2 \n",
    "      \\end{pmatrix}=\n",
    "      \\begin{pmatrix}\n",
    "          \\psi_L\\\\\n",
    "          \\psi_R        \n",
    "      \\end{pmatrix}\n",
    "\\end{align}\n",
    "the relevant Yukawa Lagrangian in terms of Dirac fermions is\n",
    "\\begin{align}\n",
    "  \\mathcal{L}=&\\frac{h_e v}{\\sqrt{2}} e^{\\dagger}\\gamma^{0}e + M_{\\psi} \\Psi^{\\dagger}\\gamma^{0}\\Psi\n",
    "       + \\left( h_S S e^{\\dagger} \\gamma^0 P_L \\Psi + \\text{h.c} \\right)\n",
    "\\nonumber\\\\\n",
    "      =&\\frac{h_e v}{\\sqrt{2}} \\overline{e}e+M_{\\psi}\\overline{\\Psi}\\Psi+h_S \\left(S\\, \\overline{e} \\Psi_L+\\text{h.c} \\right)\\,,\n",
    "\\end{align}\n",
    "where\n",
    "\\begin{align}\n",
    "  \\Psi_L=P_L\\Psi=\n",
    "  \\begin{pmatrix}\n",
    "    \\psi_L\\\\\n",
    "    0\n",
    "  \\end{pmatrix}\\,.\n",
    "\\end{align}\n",
    "\n",
    "The Inert Zee model extended with a scalar (neutral) singlet, give rise to the model T1-1-C with $\\alpha=1$. A triplet fermion gives an additional contribution as in the Triplet-Doublet fermion DM model, which is like the SDFDM with scalar singlet but with the fermion triplet playing the role of the singlet. The triplet fermion gives in addition a radiative type-III seesaw topology. "
   ]
  },
  {
   "cell_type": "code",
   "execution_count": 1,
   "metadata": {},
   "outputs": [
    {
     "name": "stdout",
     "output_type": "stream",
     "text": [
      "Populating the interactive namespace from numpy and matplotlib\n"
     ]
    }
   ],
   "source": [
    "%pylab inline"
   ]
  },
  {
   "cell_type": "code",
   "execution_count": 2,
   "metadata": {},
   "outputs": [],
   "source": [
    "import pandas as pd\n",
    "import numpy as np\n",
    "from matplotlib.colors import LogNorm\n",
    "import os, sys, inspect\n",
    "import commands\n",
    "from hep import *"
   ]
  },
  {
   "cell_type": "markdown",
   "metadata": {},
   "source": [
    "\n",
    "## Check one point"
   ]
  },
  {
   "cell_type": "code",
   "execution_count": 3,
   "metadata": {},
   "outputs": [],
   "source": [
    "a=hep(MODEL='SimplifiedDMSSSFDM')"
   ]
  },
  {
   "cell_type": "markdown",
   "metadata": {},
   "source": [
    "`a-object` is an object with many attributes and methods. Use the tab to explore them. Some of them are\n",
    "* a.Series: [pandas](http://pandas.pydata.org/) Series object with the \"relevant\" variables \n",
    "* a.LHA: Input LesHouces file as [pyslha](https://pypi.python.org/pypi/pyslha/) object\n",
    "* a.runSPheno() -> a.LHA_out: return LHA output files as [pyslha](https://pypi.python.org/pypi/pyslha/) object\n",
    "* a.runmicromegas() -> a.runSPheno() -> Updated the `a-object`  with micrOMEGAS \"relevant\" output"
   ]
  },
  {
   "cell_type": "code",
   "execution_count": 4,
   "metadata": {},
   "outputs": [
    {
     "data": {
      "text/plain": [
       "1    2.5500000E-01  # Lambda1IN\n",
       "2      0.0000000E+00  # LamSHIN\n",
       "3       0.0000000E+00  # LamSIN\n",
       "4     2.0000000E+02  # MS2Input\n",
       "5        2.0000000E+02  # MSFIN\n",
       "dtype: object"
      ]
     },
     "execution_count": 4,
     "metadata": {},
     "output_type": "execute_result"
    }
   ],
   "source": [
    "pd.Series(a.LHA.blocks['MINPAR'].entries)"
   ]
  },
  {
   "cell_type": "code",
   "execution_count": 5,
   "metadata": {},
   "outputs": [
    {
     "ename": "SystemExit",
     "evalue": "ERROR: CalcOmega_with_DDetection_MOv4.2 not found",
     "output_type": "error",
     "traceback": [
      "An exception has occurred, use %tb to see the full traceback.\n",
      "\u001b[0;31mSystemExit\u001b[0m\u001b[0;31m:\u001b[0m ERROR: CalcOmega_with_DDetection_MOv4.2 not found\n"
     ]
    },
    {
     "name": "stderr",
     "output_type": "stream",
     "text": [
      "/usr/local/lib/python2.7/dist-packages/IPython/core/interactiveshell.py:2889: UserWarning: To exit: use 'exit', 'quit', or Ctrl-D.\n",
      "  warn(\"To exit: use 'exit', 'quit', or Ctrl-D.\", stacklevel=1)\n"
     ]
    }
   ],
   "source": [
    "v=a.vev\n",
    "lambda_1=0.26\n",
    "lambda_SH=0.1\n",
    "MS=50**2\n",
    "MF=100\n",
    "Yse=1.\n",
    "Ymu=0\n",
    "Ytau=0\n",
    "devnull=commands.getoutput('rm -f SPheno.spc.%s' %a.MODEL)\n",
    "a.LHA.blocks['SPHENOINPUT'].entries[55]='0               # Calculate one loop masses'\n",
    "a.LHA.blocks['SPHENOINPUT'].entries[520]='0.             # Write effective Higgs couplings (HiggsBounds blocks): put 0 to use file with MadGraph! '\n",
    "a.LHA.blocks['MINPAR'][1]='%0.8E       # lambda1'  %lambda_1\n",
    "a.LHA.blocks['MINPAR'][2]='%0.8E       # lambdaSH'  %lambda_SH\n",
    "a.LHA.blocks['MINPAR'][4]='%0.8E       # MS'  %MS\n",
    "a.LHA.blocks['MINPAR'][5]='%0.8E       # MF' %MF\n",
    "a.LHA.blocks['YSIN'][1]='%0.8E       # Ys(1)' %Yse\n",
    "a.LHA.blocks['YSIN'][2]='%0.8E       # Ys(1)' %Ymu\n",
    "a.LHA.blocks['YSIN'][3]='%0.8E       # Ys(3)' %Ytau\n",
    "moc=a.runmicromegas(Direct_Detection=True)\n",
    "print 'Omega h^2, SI proton, neutron =',a.Series.Omega_h2,a.Series.proton_SI,a.Series.neutron_SI,a.Series.sigmav"
   ]
  },
  {
   "cell_type": "code",
   "execution_count": null,
   "metadata": {},
   "outputs": [],
   "source": [
    "import time\n",
    "st=time.time()\n",
    "a=hep(MODEL='SimplifiedDMSSSFDM')\n",
    "v=a.vev\n",
    "Omega_h2_delta=0.0022\n",
    "CL=3\n",
    "Omega_h2=0.1197\n",
    "Omega_h2_exp=[Omega_h2-CL*Omega_h2_delta,Omega_h2,Omega_h2+CL*Omega_h2_delta]\n",
    "lambda_1=0.26\n",
    "lambda_SH=0\n",
    "a.LHA.blocks['SPHENOINPUT'].entries[55]='0               # Calculate one loop masses'\n",
    "a.LHA.blocks['SPHENOINPUT'].entries[520]='0.             # Write effective Higgs couplings (HiggsBounds blocks): put 0 to use file with MadGraph! '\n",
    "\n",
    "df=pd.DataFrame()\n",
    "a.LHA.blocks['SPHENOINPUT'].entries[55]='0               # Calculate one loop masses'\n",
    "dfmin=100 #40\n",
    "dfmax=600 #1E4\n",
    "npoints=1000\n",
    "df_masses=np.logspace(np.log10(dfmin),np.log10(dfmax),npoints) #np.array([200]) 1E-4\n",
    "DEBUG=False\n",
    "for i in range(1):\n",
    "    for MF in df_masses:\n",
    "        rm1=10**np.random.uniform(np.log10(1E-2),np.log10(3))\n",
    "        r=rm1+1.\n",
    "        M_S=MF/r\n",
    "        MS2=M_S**2-a.vev**2*lambda_SH\n",
    "        Yse_range=np.logspace(np.log10(np.pi),np.log10(1E-3),200)\n",
    "        Omega_h2_old=1E32\n",
    "        for Yse in Yse_range:\n",
    "            devnull=commands.getoutput('rm -f SPheno.spc.%s' %a.MODEL)\n",
    "            Ymu=0. #10**np.random.uniform( log10(1E-3),np.log10(np.pi) )\n",
    "            Ytau=0. #10\n",
    "            a.LHA.blocks['MINPAR'][1]='%0.8E       # lambda1'  %lambda_1\n",
    "            a.LHA.blocks['MINPAR'][2]='%0.8E       # lambdaSH'  %lambda_SH\n",
    "            a.LHA.blocks['MINPAR'][4]='%0.8E       # MS2'  %MS2\n",
    "            a.LHA.blocks['MINPAR'][5]='%0.8E       # MF' %MF\n",
    "            a.LHA.blocks['YSIN'][1]='%0.8E       # Ys(1)' %Yse\n",
    "            a.LHA.blocks['YSIN'][2]='%0.8E       # Ys(2)' %Ymu\n",
    "            a.LHA.blocks['YSIN'][3]='%0.8E       # Ys(3)' %Ytau        \n",
    "            a.LHA.blocks['MINPAR'][5]='%0.8E       #MF' %MF  # -> Fill a.Series.MDF\n",
    "            if hasattr(a, 'Series'):\n",
    "                Omega_h2_old=a.Series.Omega_h2\n",
    "            \n",
    "            a.runmicromegas(Direct_Detection=True)\n",
    "            if DEBUG:\n",
    "                print MF,M_S,Yse,a.Series.Omega_h2,np.abs(Omega_h2_old-a.Series.Omega_h2)\n",
    "            if a.Series.Omega_h2>Omega_h2_exp[0] and a.Series.Omega_h2<Omega_h2_exp[2]:\n",
    "                \n",
    "                a.Series=a.Series.append(block_to_series(a.LHA_out_with_comments.blocks['MASS']))\n",
    "                kk=a.branchings(a.LHA_out.decays,min_pdg=25)\n",
    "                a.Series=a.Series.append(a.Br_names)\n",
    "                df=df.append(a.Series,ignore_index=True)\n",
    "                df.to_excel('tmp.xlsx',index=False)\n",
    "                #Escape small lambdas\n",
    "                if np.abs(Omega_h2_old-Omega_h2)<1E-3:\n",
    "                    break\n",
    "            if a.Series.Omega_h2>Omega_h2_exp[2]: \n",
    "                break\n",
    "                \n",
    "        if DEBUG:\n",
    "            print df.shape,MF,M_S,rm1,a.Series.Omega_h2        \n",
    "        if np.where(df_masses==MF)[0][0]%100==0: #find the index of the array entry\n",
    "            print np.where(df_masses==MF)[0][0]\n",
    "            \n",
    "print(st-time.time())"
   ]
  },
  {
   "cell_type": "code",
   "execution_count": 6,
   "metadata": {
    "collapsed": true
   },
   "outputs": [],
   "source": [
    "df=pd.read_excel('sssfdm.xlsx')"
   ]
  },
  {
   "cell_type": "code",
   "execution_count": 7,
   "metadata": {},
   "outputs": [
    {
     "data": {
      "text/plain": [
       "(3965, 71)"
      ]
     },
     "execution_count": 7,
     "metadata": {},
     "output_type": "execute_result"
    }
   ],
   "source": [
    "df.shape"
   ]
  },
  {
   "cell_type": "code",
   "execution_count": 8,
   "metadata": {},
   "outputs": [
    {
     "data": {
      "text/html": [
       "<div>\n",
       "<table border=\"1\" class=\"dataframe\">\n",
       "  <thead>\n",
       "    <tr style=\"text-align: right;\">\n",
       "      <th></th>\n",
       "      <th>Fd1</th>\n",
       "      <th>Fd2</th>\n",
       "      <th>Fd3</th>\n",
       "      <th>Fe1</th>\n",
       "      <th>Fe2</th>\n",
       "      <th>Fe3</th>\n",
       "      <th>Fre</th>\n",
       "      <th>Fre -&gt;  E- ss</th>\n",
       "      <th>Fu1</th>\n",
       "      <th>Fu2</th>\n",
       "      <th>...</th>\n",
       "      <th>lambdaSH</th>\n",
       "      <th>mbmbSMMSbar</th>\n",
       "      <th>mtaupole</th>\n",
       "      <th>mtoppole</th>\n",
       "      <th>neutron_SD</th>\n",
       "      <th>neutron_SI</th>\n",
       "      <th>proton_SD</th>\n",
       "      <th>proton_SI</th>\n",
       "      <th>sigmav</th>\n",
       "      <th>ss</th>\n",
       "    </tr>\n",
       "  </thead>\n",
       "  <tbody>\n",
       "    <tr>\n",
       "      <th>0</th>\n",
       "      <td>0.005</td>\n",
       "      <td>0.095</td>\n",
       "      <td>4.18</td>\n",
       "      <td>0.000511</td>\n",
       "      <td>0.105658</td>\n",
       "      <td>1.77669</td>\n",
       "      <td>100.926219</td>\n",
       "      <td>1</td>\n",
       "      <td>0.0025</td>\n",
       "      <td>1.27</td>\n",
       "      <td>...</td>\n",
       "      <td>0</td>\n",
       "      <td>4.18</td>\n",
       "      <td>1.77669</td>\n",
       "      <td>173.5</td>\n",
       "      <td>0</td>\n",
       "      <td>0</td>\n",
       "      <td>0</td>\n",
       "      <td>0</td>\n",
       "      <td>8.860000e-27</td>\n",
       "      <td>72.342694</td>\n",
       "    </tr>\n",
       "  </tbody>\n",
       "</table>\n",
       "<p>1 rows × 71 columns</p>\n",
       "</div>"
      ],
      "text/plain": [
       "     Fd1    Fd2   Fd3       Fe1       Fe2      Fe3         Fre  Fre ->  E- ss  \\\n",
       "0  0.005  0.095  4.18  0.000511  0.105658  1.77669  100.926219              1   \n",
       "\n",
       "      Fu1   Fu2    ...      lambdaSH  mbmbSMMSbar  mtaupole  mtoppole  \\\n",
       "0  0.0025  1.27    ...             0         4.18   1.77669     173.5   \n",
       "\n",
       "   neutron_SD  neutron_SI  proton_SD  proton_SI        sigmav         ss  \n",
       "0           0           0          0          0  8.860000e-27  72.342694  \n",
       "\n",
       "[1 rows x 71 columns]"
      ]
     },
     "execution_count": 8,
     "metadata": {},
     "output_type": "execute_result"
    }
   ],
   "source": [
    "df=df.reset_index(drop=True)\n",
    "df[:1]"
   ]
  },
  {
   "cell_type": "code",
   "execution_count": 9,
   "metadata": {},
   "outputs": [
    {
     "data": {
      "text/plain": [
       "(50, 7618.7177000000001)"
      ]
     },
     "execution_count": 9,
     "metadata": {},
     "output_type": "execute_result"
    },
    {
     "data": {
      "image/png": "[encoded data removed]",
      "text/plain": [
       "<matplotlib.figure.Figure at 0x7f2b420a82d0>"
      ]
     },
     "metadata": {},
     "output_type": "display_data"
    }
   ],
   "source": [
    "df=df[df.MF>=100]\n",
    "plt.hexbin(df.ss,df.Ys1,df.MF/df.ss-1,xscale='log',yscale='log',norm=LogNorm())\n",
    "plt.colorbar()\n",
    "plt.xlim(50,df.MF.max())"
   ]
  },
  {
   "cell_type": "code",
   "execution_count": 10,
   "metadata": {},
   "outputs": [],
   "source": [
    "x=np.linspace(80,250,10)\n",
    "excl_8=pd.DataFrame({'MF':x,'m_DM':x-50})\n",
    "excl_8_2=pd.DataFrame()\n",
    "excl_8_2=excl_8_2.append({'MF':300,'m_DM':200},ignore_index=True)\n",
    "excl_8_2=excl_8_2.append({'MF':350,'m_DM':190},ignore_index=True)\n",
    "excl_8_2=excl_8_2.append({'MF':370,'m_DM':180},ignore_index=True)\n",
    "excl_8_2=excl_8_2.append({'MF':390,'m_DM':160},ignore_index=True)\n",
    "excl_8_2=excl_8_2.append({'MF':390,'m_DM':0},ignore_index=True)\n",
    "excl_8=excl_8.append(excl_8_2).reset_index(drop=True)\n",
    "\n"
   ]
  },
  {
   "cell_type": "code",
   "execution_count": 11,
   "metadata": {
    "collapsed": true
   },
   "outputs": [],
   "source": [
    "xs=1.3\n",
    "x=np.linspace(80,250*xs,10)\n",
    "excl_13=pd.DataFrame({'MF':x,'m_DM':x-50})\n",
    "excl_13=excl_13.append({'MF':300*xs,'m_DM':200*xs},ignore_index=True)\n",
    "excl_13=excl_13.append(excl_8_2*1.3).reset_index(drop=True)\n"
   ]
  },
  {
   "cell_type": "code",
   "execution_count": 12,
   "metadata": {},
   "outputs": [
    {
     "data": {
      "image/png": "[encoded data removed]",
      "text/plain": [
       "<matplotlib.figure.Figure at 0x7f2b42146110>"
      ]
     },
     "metadata": {},
     "output_type": "display_data"
    }
   ],
   "source": [
    "MF_max=600\n",
    "plt.hexbin(df[df.MF<MF_max].MF,df[df.MF<MF_max].ss,df[df.MF<MF_max].Ys1,norm=LogNorm())\n",
    "cb=plt.colorbar()\n",
    "x=np.linspace(100,1000,10)\n",
    "plt.plot(x,x,'k--')\n",
    "\n",
    "plt.plot(excl_8.MF,excl_8.m_DM,'k-',lw=2,label=r'Run-I')\n",
    "plt.plot(excl_13.MF,excl_13.m_DM,'k--',lw=4,label=r'Run-II')\n",
    "plt.legend(loc='best')\n",
    "plt.xlabel(r'$m_{\\psi^\\pm}\\ {\\rm (GeV)}$',size=20)\n",
    "plt.ylabel(r'$m_S\\ {\\rm (GeV)}$',size=20)\n",
    "plt.text(630,680,r'$y_e$',size=20)\n",
    "plt.xlim(100,600)\n",
    "plt.ylim(0,650)\n",
    "\n",
    "plt.tight_layout()\n",
    "#plt.savefig('singlet_exc.pdf')"
   ]
  },
  {
   "cell_type": "code",
   "execution_count": 32,
   "metadata": {},
   "outputs": [
    {
     "data": {
      "text/plain": [
       "<matplotlib.text.Text at 0x7f2b24381710>"
      ]
     },
     "execution_count": 32,
     "metadata": {},
     "output_type": "execute_result"
    },
    {
     "data": {
      "image/png": "[encoded data removed]",
      "text/plain": [
       "<matplotlib.figure.Figure at 0x7f2b246da5d0>"
      ]
     },
     "metadata": {},
     "output_type": "display_data"
    }
   ],
   "source": [
    "MF_max=600\n",
    "plt.hexbin(df[df.MF<MF_max].ss,df[df.MF<MF_max].MF/df[df.MF<MF_max].ss,df[df.MF<MF_max].Ys1,norm=LogNorm())\n",
    "plt.plot(excl_8.m_DM,excl_8.MF/excl_8.m_DM,'k-',lw=2,label=r'Run-I')\n",
    "plt.plot(excl_13.m_DM,excl_13.MF/excl_13.m_DM,'k--',lw=2,label=r'Run-II')\n",
    "plt.xlabel(r'$m_s$  (GeV)',size=20)\n",
    "plt.ylabel(r'$m_{\\psi^\\pm}/m_S$',size=20)"
   ]
  },
  {
   "cell_type": "code",
   "execution_count": 3,
   "metadata": {},
   "outputs": [
    {
     "data": {
      "text/plain": [
       "True"
      ]
     },
     "execution_count": 3,
     "metadata": {},
     "output_type": "execute_result"
    }
   ],
   "source": [
    "import os.path\n",
    "os.path.isfile('SPheno.spc.SimplifiedDMSSSFDM')     \n"
   ]
  },
  {
   "cell_type": "markdown",
   "metadata": {},
   "source": [
    "WARNING: \n",
    "In the last version of MadGraph there is one issue with the systematic calculation. To disable it, just after\n",
    "\n",
    "`MG5_aMC> output MadOut -f`\n",
    "\n",
    "just edit\n",
    "\n",
    "`sed  -i 's/True  = use_syst/False  = use_syst/' MadOut/Cards/run_card.dat`"
   ]
  },
  {
   "cell_type": "code",
   "execution_count": 18,
   "metadata": {},
   "outputs": [],
   "source": [
    "def generate_cross_section(MODEL,definitions=['define p g d1 d1bar d2 d2bar u1 u1bar u2 u2bar'],\\\n",
    "                        processes=['generate p p > wrm QCD=0'],sqrts=6500.0,\\\n",
    "                        output_dir='MadOut',script_file='mdgprocess.txt',\\\n",
    "                        mg5_aMC='../madgraph/bin/mg5_aMC',systematics=False):\n",
    "    import os.path\n",
    "    import sys\n",
    "    f=open(script_file,'w')\n",
    "    f.write('import model %s -modelname\\n' %MODEL)\n",
    "    for var in [definitions,processes]:\n",
    "        try:\n",
    "            len(var)\n",
    "        except TypeError:\n",
    "            sys.exit('ERROR: wrong input for: %g' %var)\n",
    "        if type(var)==str:\n",
    "            var=[var]\n",
    "        if len(var)>0:\n",
    "            for v in var:\n",
    "                f.write(v+'\\n')\n",
    "\n",
    "\n",
    "    f.write('output %s -f\\n' %output_dir)\n",
    "    f.write('exit\\n')\n",
    "    f.close()\n",
    "    tmp=commands.getoutput('%s  mdgprocess.txt 2> /dev/null > /dev/null' %mg5_aMC)\n",
    "    tmp=commands.getoutput(\\\n",
    "     r\"sed -ri 's/\\#\\s+(automatic_html_opening\\s*=\\s*)True/\\1False/' %s/Cards/me5_configuration.txt\"\\\n",
    "                %output_dir)\n",
    "    #disable systematics. \n",
    "    if not systematics:\n",
    "        tmp=commands.getoutput(\\\n",
    "           r\"sed -i 's/True  = use_syst/False  = use_syst/' %s/Cards/run_card.dat\"\\\n",
    "                %output_dir)\n",
    "        \n",
    "    if sqrts!=6500.0:\n",
    "        tmp=commands.getoutput(r\"sed -ri 's/6500.0(\\s*=)/%s\\1/' %s/Cards/run_card.dat\" %(sqrts,output_dir) )\n"
   ]
  },
  {
   "cell_type": "code",
   "execution_count": 81,
   "metadata": {
    "collapsed": true
   },
   "outputs": [],
   "source": [
    "def launch_cross_section(MODEL,output_dir='MadOut',mg5_aMC='../madgraph/bin/mg5_aMC'):\n",
    "    import os.path\n",
    "    import sys\n",
    "    if not os.path.isfile('SPheno.spc.%s' %MODEL):\n",
    "        sys.exit('ERROR: SPheno.spc.%s not found' %MODEL)\n",
    "    tmp=commands.getoutput('cp -f SPheno.spc.%s %s/Cards/param_card.dat' %(MODEL,output_dir) )\n",
    "   \n",
    "    tmp=commands.getoutput('echo launch %s -f > launch.txt' %output_dir)\n",
    "\n",
    "    tmp=commands.getoutput('%s launch.txt > /dev/null 2>/dev/null' %mg5_aMC)\n",
    "    xsec='';delta_xsec=''\n",
    "    d=pd.read_html('%s/crossx.html' %output_dir)\n",
    "    xcs=(0,0) \n",
    "    if 'Cross section (pb)' in d[0][3][0]:\n",
    "        cs=d[0][3][-1:].values[0].split(' ')\n",
    "        if len(cs)==3:\n",
    "            xcs=[]\n",
    "            for x in cs[0:3:2]:\n",
    "                try:\n",
    "                    xcs.append(float(x))\n",
    "                except ValueError:\n",
    "                    xcs.append(0)\n",
    "    return tuple(xcs)"
   ]
  },
  {
   "cell_type": "code",
   "execution_count": 22,
   "metadata": {
    "collapsed": true
   },
   "outputs": [],
   "source": [
    "a=hep(MODEL='SimplifiedDMSSSFDM')"
   ]
  },
  {
   "cell_type": "code",
   "execution_count": 23,
   "metadata": {},
   "outputs": [
    {
     "data": {
      "text/plain": [
       "'SimplifiedDMSSSFDM'"
      ]
     },
     "execution_count": 23,
     "metadata": {},
     "output_type": "execute_result"
    }
   ],
   "source": [
    "a.MODEL"
   ]
  },
  {
   "cell_type": "code",
   "execution_count": 33,
   "metadata": {},
   "outputs": [],
   "source": [
    "generate_cross_section(a.MODEL,processes=['generate p p > fre frebar'],sqrts=4000)"
   ]
  },
  {
   "cell_type": "code",
   "execution_count": 32,
   "metadata": {},
   "outputs": [
    {
     "data": {
      "text/plain": [
       "(0.06472, 0.00013)"
      ]
     },
     "execution_count": 32,
     "metadata": {},
     "output_type": "execute_result"
    }
   ],
   "source": [
    "launch_cross_section(a.MODEL)"
   ]
  },
  {
   "cell_type": "code",
   "execution_count": 82,
   "metadata": {},
   "outputs": [
    {
     "data": {
      "text/plain": [
       "array([ 100.,  150.,  200.,  250.,  300.,  350.,  400.,  450.,  500.,\n",
       "        550.,  600.])"
      ]
     },
     "execution_count": 82,
     "metadata": {},
     "output_type": "execute_result"
    }
   ],
   "source": [
    "dfmin=100 #40\n",
    "dfmax=600 #1E4\n",
    "npoints=11\n",
    "df_masses=np.linspace(dfmin,dfmax,npoints) #np.array([200]) 1E-4\n",
    "df_masses"
   ]
  },
  {
   "cell_type": "code",
   "execution_count": 103,
   "metadata": {},
   "outputs": [
    {
     "name": "stdout",
     "output_type": "stream",
     "text": [
      "100.0 0.375\n",
      "150.0 0.08344\n",
      "200.0 0.02715\n",
      "250.0 0.0108\n",
      "300.0 0.004874\n",
      "350.0 0.002405\n",
      "400.0 0.001265\n",
      "450.0 0.000702\n",
      "500.0 0.0004034\n",
      "550.0 0.0002394\n",
      "600.0 0.0001458\n"
     ]
    }
   ],
   "source": [
    "a=hep(MODEL='SimplifiedDMSSSFDM')\n",
    "\n",
    "generate_cross_section(a.MODEL,processes=['generate p p > fre frebar'],sqrts=4000.0)\n",
    "v=a.vev\n",
    "lambda_1=0.26\n",
    "lambda_SH=0\n",
    "a.LHA.blocks['SPHENOINPUT'].entries[55]='0               # Calculate one loop masses'\n",
    "a.LHA.blocks['SPHENOINPUT'].entries[520]='0.             # Write effective Higgs couplings (HiggsBounds blocks): put 0 to use file with MadGraph! '\n",
    "df=pd.DataFrame()\n",
    "dfmin=100 #40\n",
    "dfmax=600 #1E4\n",
    "npoints=11\n",
    "df_masses=np.linspace(dfmin,dfmax,npoints) #np.array([200]) 1E-4\n",
    "for MF in df_masses:\n",
    "        M_S=20\n",
    "        MS2=M_S**2-a.vev**2*lambda_SH\n",
    "        Yse=1.\n",
    "        devnull=commands.getoutput('rm -f SPheno.spc.%s' %a.MODEL)\n",
    "        Ymu=0. #10**np.random.uniform( log10(1E-3),np.log10(np.pi) )\n",
    "        Ytau=0. #10\n",
    "        a.LHA.blocks['MINPAR'][1]='%0.8E       # lambda1'  %lambda_1\n",
    "        a.LHA.blocks['MINPAR'][2]='%0.8E       # lambdaSH'  %lambda_SH\n",
    "        a.LHA.blocks['MINPAR'][4]='%0.8E       # MS2'  %MS2\n",
    "        a.LHA.blocks['MINPAR'][5]='%0.8E       # MF' %MF\n",
    "        a.LHA.blocks['YSIN'][1]='%0.8E       # Ys(1)' %Yse\n",
    "        a.LHA.blocks['YSIN'][2]='%0.8E       # Ys(2)' %Ymu\n",
    "        a.LHA.blocks['YSIN'][3]='%0.8E       # Ys(3)' %Ytau        \n",
    "        a.LHA.blocks['MINPAR'][5]='%0.8E       #MF' %MF  # -> Fill a.Series.MDF\n",
    "            \n",
    "        a.runSPheno()\n",
    "        xs,deltaxs=launch_cross_section(a.MODEL)\n",
    "        df=df.append({'MF':MF,'cs':xs,'deltaxs':deltaxs},ignore_index=True)\n",
    "        print MF,xs\n",
    "        "
   ]
  },
  {
   "cell_type": "code",
   "execution_count": 93,
   "metadata": {},
   "outputs": [],
   "source": [
    "pr=pd.read_csv('xsmm.FF.dt',sep='  ',engine='python')#comment='#',header=0,"
   ]
  },
  {
   "cell_type": "code",
   "execution_count": 106,
   "metadata": {
    "collapsed": true
   },
   "outputs": [],
   "source": [
    "pr=pr.rename_axis({'xs':'cs'},axis='columns')"
   ]
  },
  {
   "cell_type": "code",
   "execution_count": 117,
   "metadata": {},
   "outputs": [
    {
     "data": {
      "text/html": [
       "<div>\n",
       "<table border=\"1\" class=\"dataframe\">\n",
       "  <thead>\n",
       "    <tr style=\"text-align: right;\">\n",
       "      <th></th>\n",
       "      <th># muval</th>\n",
       "      <th>m2val</th>\n",
       "      <th>m1val</th>\n",
       "      <th>m1</th>\n",
       "      <th>m2</th>\n",
       "      <th>mn1</th>\n",
       "      <th>mn2</th>\n",
       "      <th>mc1</th>\n",
       "      <th>mhl</th>\n",
       "      <th>cs</th>\n",
       "      <th>kxs</th>\n",
       "    </tr>\n",
       "  </thead>\n",
       "  <tbody>\n",
       "    <tr>\n",
       "      <th>0</th>\n",
       "      <td>5000</td>\n",
       "      <td>100,51</td>\n",
       "      <td>10</td>\n",
       "      <td>99.9</td>\n",
       "      <td>99.9</td>\n",
       "      <td>9.9746</td>\n",
       "      <td>99.8881</td>\n",
       "      <td>99.8881</td>\n",
       "      <td>124.30409</td>\n",
       "      <td>536.5000</td>\n",
       "      <td>1.283087</td>\n",
       "    </tr>\n",
       "    <tr>\n",
       "      <th>1</th>\n",
       "      <td>5000</td>\n",
       "      <td>125,55</td>\n",
       "      <td>10</td>\n",
       "      <td>124.9</td>\n",
       "      <td>124.9</td>\n",
       "      <td>9.9746</td>\n",
       "      <td>124.8816</td>\n",
       "      <td>124.8816</td>\n",
       "      <td>124.25328</td>\n",
       "      <td>240.9000</td>\n",
       "      <td>1.273256</td>\n",
       "    </tr>\n",
       "    <tr>\n",
       "      <th>2</th>\n",
       "      <td>5000</td>\n",
       "      <td>150,59</td>\n",
       "      <td>10</td>\n",
       "      <td>149.9</td>\n",
       "      <td>149.9</td>\n",
       "      <td>9.9746</td>\n",
       "      <td>149.8751</td>\n",
       "      <td>149.8751</td>\n",
       "      <td>124.21366</td>\n",
       "      <td>123.5000</td>\n",
       "      <td>1.264428</td>\n",
       "    </tr>\n",
       "    <tr>\n",
       "      <th>3</th>\n",
       "      <td>5000</td>\n",
       "      <td>175,63</td>\n",
       "      <td>10</td>\n",
       "      <td>174.9</td>\n",
       "      <td>174.9</td>\n",
       "      <td>9.9746</td>\n",
       "      <td>174.8686</td>\n",
       "      <td>174.8686</td>\n",
       "      <td>124.18093</td>\n",
       "      <td>69.1200</td>\n",
       "      <td>1.256526</td>\n",
       "    </tr>\n",
       "    <tr>\n",
       "      <th>4</th>\n",
       "      <td>5000</td>\n",
       "      <td>200,67</td>\n",
       "      <td>10</td>\n",
       "      <td>199.9</td>\n",
       "      <td>199.9</td>\n",
       "      <td>9.9746</td>\n",
       "      <td>199.8621</td>\n",
       "      <td>199.8620</td>\n",
       "      <td>124.15289</td>\n",
       "      <td>41.2200</td>\n",
       "      <td>1.249075</td>\n",
       "    </tr>\n",
       "    <tr>\n",
       "      <th>5</th>\n",
       "      <td>5000</td>\n",
       "      <td>225,71</td>\n",
       "      <td>10</td>\n",
       "      <td>224.9</td>\n",
       "      <td>224.9</td>\n",
       "      <td>9.9746</td>\n",
       "      <td>224.8555</td>\n",
       "      <td>224.8555</td>\n",
       "      <td>124.12829</td>\n",
       "      <td>25.8000</td>\n",
       "      <td>1.242583</td>\n",
       "    </tr>\n",
       "    <tr>\n",
       "      <th>6</th>\n",
       "      <td>5000</td>\n",
       "      <td>250,75</td>\n",
       "      <td>10</td>\n",
       "      <td>249.8</td>\n",
       "      <td>249.8</td>\n",
       "      <td>9.9746</td>\n",
       "      <td>249.8490</td>\n",
       "      <td>249.8490</td>\n",
       "      <td>124.10632</td>\n",
       "      <td>16.8700</td>\n",
       "      <td>1.244184</td>\n",
       "    </tr>\n",
       "    <tr>\n",
       "      <th>7</th>\n",
       "      <td>5000</td>\n",
       "      <td>275,79</td>\n",
       "      <td>10</td>\n",
       "      <td>274.8</td>\n",
       "      <td>274.8</td>\n",
       "      <td>9.9746</td>\n",
       "      <td>274.8424</td>\n",
       "      <td>274.8424</td>\n",
       "      <td>124.08643</td>\n",
       "      <td>11.1300</td>\n",
       "      <td>1.219821</td>\n",
       "    </tr>\n",
       "    <tr>\n",
       "      <th>8</th>\n",
       "      <td>5000</td>\n",
       "      <td>300,83</td>\n",
       "      <td>10</td>\n",
       "      <td>299.8</td>\n",
       "      <td>299.8</td>\n",
       "      <td>9.9746</td>\n",
       "      <td>299.8358</td>\n",
       "      <td>299.8358</td>\n",
       "      <td>124.06822</td>\n",
       "      <td>7.6160</td>\n",
       "      <td>1.210042</td>\n",
       "    </tr>\n",
       "    <tr>\n",
       "      <th>9</th>\n",
       "      <td>5000</td>\n",
       "      <td>325,87</td>\n",
       "      <td>10</td>\n",
       "      <td>324.8</td>\n",
       "      <td>324.8</td>\n",
       "      <td>9.9746</td>\n",
       "      <td>324.8293</td>\n",
       "      <td>324.8292</td>\n",
       "      <td>124.05141</td>\n",
       "      <td>5.3930</td>\n",
       "      <td>1.216992</td>\n",
       "    </tr>\n",
       "    <tr>\n",
       "      <th>10</th>\n",
       "      <td>5000</td>\n",
       "      <td>350,91</td>\n",
       "      <td>10</td>\n",
       "      <td>349.8</td>\n",
       "      <td>349.8</td>\n",
       "      <td>9.9746</td>\n",
       "      <td>349.8226</td>\n",
       "      <td>349.8226</td>\n",
       "      <td>124.03577</td>\n",
       "      <td>3.8080</td>\n",
       "      <td>1.199174</td>\n",
       "    </tr>\n",
       "    <tr>\n",
       "      <th>11</th>\n",
       "      <td>5000</td>\n",
       "      <td>375,95</td>\n",
       "      <td>10</td>\n",
       "      <td>374.8</td>\n",
       "      <td>374.8</td>\n",
       "      <td>9.9746</td>\n",
       "      <td>374.8160</td>\n",
       "      <td>374.8160</td>\n",
       "      <td>124.02113</td>\n",
       "      <td>2.7600</td>\n",
       "      <td>1.194916</td>\n",
       "    </tr>\n",
       "    <tr>\n",
       "      <th>12</th>\n",
       "      <td>5000</td>\n",
       "      <td>400,99</td>\n",
       "      <td>10</td>\n",
       "      <td>399.8</td>\n",
       "      <td>399.8</td>\n",
       "      <td>9.9746</td>\n",
       "      <td>399.8094</td>\n",
       "      <td>399.8094</td>\n",
       "      <td>124.00735</td>\n",
       "      <td>2.0560</td>\n",
       "      <td>1.208039</td>\n",
       "    </tr>\n",
       "    <tr>\n",
       "      <th>13</th>\n",
       "      <td>5000</td>\n",
       "      <td>426,03</td>\n",
       "      <td>10</td>\n",
       "      <td>425.8</td>\n",
       "      <td>425.8</td>\n",
       "      <td>9.9746</td>\n",
       "      <td>425.8024</td>\n",
       "      <td>425.8024</td>\n",
       "      <td>123.99382</td>\n",
       "      <td>1.4740</td>\n",
       "      <td>1.175163</td>\n",
       "    </tr>\n",
       "    <tr>\n",
       "      <th>14</th>\n",
       "      <td>5000</td>\n",
       "      <td>451,07</td>\n",
       "      <td>10</td>\n",
       "      <td>450.8</td>\n",
       "      <td>450.8</td>\n",
       "      <td>9.9746</td>\n",
       "      <td>450.7958</td>\n",
       "      <td>450.7957</td>\n",
       "      <td>123.98148</td>\n",
       "      <td>1.1180</td>\n",
       "      <td>1.184359</td>\n",
       "    </tr>\n",
       "    <tr>\n",
       "      <th>15</th>\n",
       "      <td>5000</td>\n",
       "      <td>476,11</td>\n",
       "      <td>10</td>\n",
       "      <td>475.8</td>\n",
       "      <td>475.8</td>\n",
       "      <td>9.9746</td>\n",
       "      <td>475.7890</td>\n",
       "      <td>475.7890</td>\n",
       "      <td>123.96972</td>\n",
       "      <td>0.8491</td>\n",
       "      <td>1.183694</td>\n",
       "    </tr>\n",
       "    <tr>\n",
       "      <th>16</th>\n",
       "      <td>5000</td>\n",
       "      <td>501.15</td>\n",
       "      <td>10</td>\n",
       "      <td>500.9</td>\n",
       "      <td>500.9</td>\n",
       "      <td>9.9746</td>\n",
       "      <td>500.9323</td>\n",
       "      <td>500.9323</td>\n",
       "      <td>123.95841</td>\n",
       "      <td>0.6479</td>\n",
       "      <td>1.181552</td>\n",
       "    </tr>\n",
       "  </tbody>\n",
       "</table>\n",
       "</div>"
      ],
      "text/plain": [
       "    # muval   m2val  m1val     m1     m2     mn1       mn2       mc1  \\\n",
       "0      5000  100,51     10   99.9   99.9  9.9746   99.8881   99.8881   \n",
       "1      5000  125,55     10  124.9  124.9  9.9746  124.8816  124.8816   \n",
       "2      5000  150,59     10  149.9  149.9  9.9746  149.8751  149.8751   \n",
       "3      5000  175,63     10  174.9  174.9  9.9746  174.8686  174.8686   \n",
       "4      5000  200,67     10  199.9  199.9  9.9746  199.8621  199.8620   \n",
       "5      5000  225,71     10  224.9  224.9  9.9746  224.8555  224.8555   \n",
       "6      5000  250,75     10  249.8  249.8  9.9746  249.8490  249.8490   \n",
       "7      5000  275,79     10  274.8  274.8  9.9746  274.8424  274.8424   \n",
       "8      5000  300,83     10  299.8  299.8  9.9746  299.8358  299.8358   \n",
       "9      5000  325,87     10  324.8  324.8  9.9746  324.8293  324.8292   \n",
       "10     5000  350,91     10  349.8  349.8  9.9746  349.8226  349.8226   \n",
       "11     5000  375,95     10  374.8  374.8  9.9746  374.8160  374.8160   \n",
       "12     5000  400,99     10  399.8  399.8  9.9746  399.8094  399.8094   \n",
       "13     5000  426,03     10  425.8  425.8  9.9746  425.8024  425.8024   \n",
       "14     5000  451,07     10  450.8  450.8  9.9746  450.7958  450.7957   \n",
       "15     5000  476,11     10  475.8  475.8  9.9746  475.7890  475.7890   \n",
       "16     5000  501.15     10  500.9  500.9  9.9746  500.9323  500.9323   \n",
       "\n",
       "          mhl        cs       kxs  \n",
       "0   124.30409  536.5000  1.283087  \n",
       "1   124.25328  240.9000  1.273256  \n",
       "2   124.21366  123.5000  1.264428  \n",
       "3   124.18093   69.1200  1.256526  \n",
       "4   124.15289   41.2200  1.249075  \n",
       "5   124.12829   25.8000  1.242583  \n",
       "6   124.10632   16.8700  1.244184  \n",
       "7   124.08643   11.1300  1.219821  \n",
       "8   124.06822    7.6160  1.210042  \n",
       "9   124.05141    5.3930  1.216992  \n",
       "10  124.03577    3.8080  1.199174  \n",
       "11  124.02113    2.7600  1.194916  \n",
       "12  124.00735    2.0560  1.208039  \n",
       "13  123.99382    1.4740  1.175163  \n",
       "14  123.98148    1.1180  1.184359  \n",
       "15  123.96972    0.8491  1.183694  \n",
       "16  123.95841    0.6479  1.181552  "
      ]
     },
     "execution_count": 117,
     "metadata": {},
     "output_type": "execute_result"
    }
   ],
   "source": [
    "pr"
   ]
  },
  {
   "cell_type": "code",
   "execution_count": 105,
   "metadata": {},
   "outputs": [
    {
     "data": {
      "text/html": [
       "<div>\n",
       "<table border=\"1\" class=\"dataframe\">\n",
       "  <thead>\n",
       "    <tr style=\"text-align: right;\">\n",
       "      <th></th>\n",
       "      <th>MF</th>\n",
       "      <th>cs</th>\n",
       "      <th>deltaxs</th>\n",
       "    </tr>\n",
       "  </thead>\n",
       "  <tbody>\n",
       "    <tr>\n",
       "      <th>0</th>\n",
       "      <td>100.0</td>\n",
       "      <td>0.375</td>\n",
       "      <td>0.00061</td>\n",
       "    </tr>\n",
       "  </tbody>\n",
       "</table>\n",
       "</div>"
      ],
      "text/plain": [
       "      MF     cs  deltaxs\n",
       "0  100.0  0.375  0.00061"
      ]
     },
     "execution_count": 105,
     "metadata": {},
     "output_type": "execute_result"
    }
   ],
   "source": [
    "df[:1]"
   ]
  },
  {
   "cell_type": "code",
   "execution_count": 116,
   "metadata": {},
   "outputs": [
    {
     "data": {
      "text/plain": [
       "[<matplotlib.lines.Line2D at 0x7fc8185ef2d0>]"
      ]
     },
     "execution_count": 116,
     "metadata": {},
     "output_type": "execute_result"
    },
    {
     "data": {
      "image/png": "[encoded data removed]",
      "text/plain": [
       "<matplotlib.figure.Figure at 0x7fc818d4d250>"
      ]
     },
     "metadata": {},
     "output_type": "display_data"
    }
   ],
   "source": [
    "plt.semilogy(df.MF,df.cs*1000*1.3,'ro')\n",
    "plt.semilogy(pr.mc1,pr.cs)"
   ]
  },
  {
   "cell_type": "code",
   "execution_count": 111,
   "metadata": {},
   "outputs": [
    {
     "data": {
      "text/plain": [
       "[<matplotlib.lines.Line2D at 0x7fc818cd3d50>]"
      ]
     },
     "execution_count": 111,
     "metadata": {},
     "output_type": "execute_result"
    },
    {
     "data": {
      "image/png": "[encoded data removed]",
      "text/plain": [
       "<matplotlib.figure.Figure at 0x7fc81d309250>"
      ]
     },
     "metadata": {},
     "output_type": "display_data"
    }
   ],
   "source": []
  },
  {
   "cell_type": "markdown",
   "metadata": {},
   "source": [
    "cross section\n",
    "import model SimplifiedDMSSSFDM -modelname\n",
    "\n",
    "all = g a nu1 nu2 nu3 nu1bar nu2bar nu3bar d1 d2 d3 u1 u2 u3 d1bar d2bar d3bar u1bar u2bar u3bar ss h z wp wpc re e1 e2 e3 rebar e1bar e2bar e3bar\n",
    "l- = e1 e2\n",
    "j = g u1 u2 d1 d2 u1bar u2bar d1bar d2bar\n",
    "vl = nu1 nu2 nu3\n",
    "l+ = e1bar e2bar\n",
    "p = g u1 u2 d1 d2 u1bar u2bar d1bar d2bar\n",
    "vl~ = nu1bar nu2bar nu3bar\n",
    "\n"
   ]
  },
  {
   "cell_type": "code",
   "execution_count": 154,
   "metadata": {
    "collapsed": true
   },
   "outputs": [],
   "source": [
    "df.to_excel('sssfdm.xlsx',index=False)"
   ]
  },
  {
   "cell_type": "markdown",
   "metadata": {},
   "source": [
    "Cross sections"
   ]
  },
  {
   "cell_type": "code",
   "execution_count": 11,
   "metadata": {},
   "outputs": [
    {
     "data": {
      "text/html": [
       "<div>\n",
       "<table border=\"1\" class=\"dataframe\">\n",
       "  <thead>\n",
       "    <tr style=\"text-align: right;\">\n",
       "      <th></th>\n",
       "      <th>m_stau</th>\n",
       "      <th>cs_exp</th>\n",
       "      <th>cs_obs</th>\n",
       "    </tr>\n",
       "  </thead>\n",
       "  <tbody>\n",
       "    <tr>\n",
       "      <th>0</th>\n",
       "      <td>90.61</td>\n",
       "      <td>6.77</td>\n",
       "      <td>6.77</td>\n",
       "    </tr>\n",
       "  </tbody>\n",
       "</table>\n",
       "</div>"
      ],
      "text/plain": [
       "   m_stau  cs_exp  cs_obs\n",
       "0   90.61    6.77    6.77"
      ]
     },
     "execution_count": 11,
     "metadata": {},
     "output_type": "execute_result"
    }
   ],
   "source": [
    "tdo=pd.read_csv('full_data/tau_obs.csv')\n",
    "tdo[:1]                "
   ]
  },
  {
   "cell_type": "code",
   "execution_count": 12,
   "metadata": {},
   "outputs": [
    {
     "data": {
      "text/html": [
       "<div>\n",
       "<table border=\"1\" class=\"dataframe\">\n",
       "  <thead>\n",
       "    <tr style=\"text-align: right;\">\n",
       "      <th></th>\n",
       "      <th>m_wino</th>\n",
       "      <th>cs</th>\n",
       "      <th>delta_xs</th>\n",
       "    </tr>\n",
       "  </thead>\n",
       "  <tbody>\n",
       "    <tr>\n",
       "      <th>0</th>\n",
       "      <td>100.0</td>\n",
       "      <td>5.550178</td>\n",
       "      <td>0.360378</td>\n",
       "    </tr>\n",
       "  </tbody>\n",
       "</table>\n",
       "</div>"
      ],
      "text/plain": [
       "   m_wino        cs  delta_xs\n",
       "0   100.0  5.550178  0.360378"
      ]
     },
     "execution_count": 12,
     "metadata": {},
     "output_type": "execute_result"
    }
   ],
   "source": [
    "wd=pd.read_csv('full_data/wino_nlo.csv')\n",
    "wd[:1]"
   ]
  },
  {
   "cell_type": "code",
   "execution_count": 13,
   "metadata": {},
   "outputs": [
    {
     "data": {
      "text/html": [
       "<div>\n",
       "<table border=\"1\" class=\"dataframe\">\n",
       "  <thead>\n",
       "    <tr style=\"text-align: right;\">\n",
       "      <th></th>\n",
       "      <th>m_higgsino</th>\n",
       "      <th>cs</th>\n",
       "      <th>xs_delta</th>\n",
       "    </tr>\n",
       "  </thead>\n",
       "  <tbody>\n",
       "    <tr>\n",
       "      <th>0</th>\n",
       "      <td>98.070115</td>\n",
       "      <td>1.63</td>\n",
       "      <td>0</td>\n",
       "    </tr>\n",
       "  </tbody>\n",
       "</table>\n",
       "</div>"
      ],
      "text/plain": [
       "   m_higgsino    cs  xs_delta\n",
       "0   98.070115  1.63         0"
      ]
     },
     "execution_count": 13,
     "metadata": {},
     "output_type": "execute_result"
    }
   ],
   "source": [
    "hd=pd.read_csv('full_data/higgsino_nlo.csv')\n",
    "hd[:1]"
   ]
  },
  {
   "cell_type": "code",
   "execution_count": 15,
   "metadata": {
    "collapsed": true
   },
   "outputs": [],
   "source": [
    "xd=pd.read_csv('full_data/d33.cvs')\n",
    "xd=xd.rename_axis({'xs_stau':'cs'},axis='columns')"
   ]
  },
  {
   "cell_type": "code",
   "execution_count": 32,
   "metadata": {},
   "outputs": [
    {
     "data": {
      "image/png": "[encoded data removed]",
      "text/plain": [
       "<matplotlib.figure.Figure at 0x7f241aefc950>"
      ]
     },
     "metadata": {},
     "output_type": "display_data"
    }
   ],
   "source": [
    "plt.semilogy(tdo.m_stau,tdo.cs_obs,'ko')\n",
    "plt.semilogy(tdo.m_stau,tdo.cs_obs,'r-', lw=2,  label= r'Observed 95% CL (MVA)')\n",
    "plt.semilogy(xd.m_stau,xd.cs,'m-.',label= r'$ \\sigma( p p \\to \\tilde{\\tau}^+_{R,L} \\tilde{\\tau}^-_{R,L})_{\\rm{NLO}} $' )\n",
    "plt.semilogy(wd.m_wino,wd.cs,'k-',lw=1.5,label= r'$ \\sigma( p p \\to \\psi^{+} \\psi^{-})_{\\rm{NLO}} $ (pure wino)')\n",
    "#plt.semilogy(wd.m_wino,wd.cs*0.3,'r-',lw=1.5)\n",
    "plt.semilogy(hd.m_higgsino,hd.cs,'b--',lw=1.5,label= r'$ \\sigma( p p \\to \\psi^{+} \\psi^{-})_{\\rm{NLO}} $ (pure higgsino)')\n",
    "plt.semilogy(hd.m_higgsino,hd.cs*0.3,'r--',lw=1.5,label= r'$ \\sigma( p p \\to \\psi^{+} \\psi^{-})_{k} $ (charged singlet)')\n",
    "plt.plot([114],[0.95],'y*')\n",
    "plt.plot([283],[0.027],'y*')\n",
    "plt.xlabel(r'$  m_{\\psi^{\\pm}}  $[GeV]',size=20)\n",
    "plt.ylabel(r'$ \\sigma$[pb]',size=20)\n",
    "plt.legend(prop={'size':13},loc=(0.43,0.4))\n",
    "#plt.title(r'$X^+ X^-\\to 2\\times \\tau\\, \\phi_{\\rm{DM}}$: $X^+=\\psi^+,\\ \\tilde{\\tau}^+_{R,L}$')\n",
    "plt.xlim(80,450)\n",
    "plt.ylim(1E-2,1E1)\n",
    "plt.grid()\n",
    "matplotlib.rcParams.update({'font.size': 15})\n",
    "plt.tight_layout(w_pad=-2)\n",
    "plt.savefig('tauMVA.pdf')\n",
    "plt.savefig('tauMVA.svg')"
   ]
  },
  {
   "cell_type": "code",
   "execution_count": 255,
   "metadata": {},
   "outputs": [
    {
     "data": {
      "text/plain": [
       "120.0"
      ]
     },
     "execution_count": 255,
     "metadata": {},
     "output_type": "execute_result"
    }
   ],
   "source": [
    "400*0.3"
   ]
  },
  {
   "cell_type": "code",
   "execution_count": 226,
   "metadata": {},
   "outputs": [
    {
     "data": {
      "text/plain": [
       "0     5.550178\n",
       "1     4.600000\n",
       "2     3.840278\n",
       "3     3.240000\n",
       "4     2.750000\n",
       "5     2.360000\n",
       "6     2.035227\n",
       "7     1.750000\n",
       "8     1.530000\n",
       "9     1.330000\n",
       "10    1.170000\n",
       "11    1.030500\n",
       "12    0.913000\n",
       "13    0.810000\n",
       "14    0.721000\n",
       "15    0.643000\n",
       "16    0.576000\n",
       "17    0.517000\n",
       "18    0.466000\n",
       "19    0.421004\n",
       "20    0.380000\n",
       "21    0.344000\n",
       "22    0.312000\n",
       "23    0.284000\n",
       "24    0.258030\n",
       "25    0.236035\n",
       "26    0.215000\n",
       "27    0.197995\n",
       "28    0.180999\n",
       "29    0.166000\n",
       "        ...   \n",
       "67    0.011922\n",
       "68    0.011441\n",
       "69    0.010635\n",
       "70    0.009939\n",
       "71    0.009605\n",
       "72    0.008975\n",
       "73    0.008404\n",
       "74    0.008113\n",
       "75    0.007598\n",
       "76    0.007112\n",
       "77    0.005669\n",
       "78    0.004339\n",
       "79    0.003418\n",
       "80    0.002654\n",
       "81    0.002118\n",
       "82    0.001591\n",
       "83    0.001280\n",
       "84    0.001015\n",
       "85    0.000823\n",
       "86    0.000655\n",
       "87    0.000505\n",
       "88    0.000405\n",
       "89    0.000315\n",
       "90    0.000261\n",
       "91    0.000211\n",
       "92    0.000170\n",
       "93    0.000133\n",
       "94    0.000113\n",
       "95    0.000088\n",
       "96    0.000072\n",
       "Name: xs, dtype: float64"
      ]
     },
     "execution_count": 226,
     "metadata": {},
     "output_type": "execute_result"
    }
   ],
   "source": [
    "wd['xs']"
   ]
  },
  {
   "cell_type": "code",
   "execution_count": 181,
   "metadata": {},
   "outputs": [
    {
     "data": {
      "text/plain": [
       "0.010101010101010166"
      ]
     },
     "execution_count": 181,
     "metadata": {},
     "output_type": "execute_result"
    }
   ],
   "source": [
    "rm1=r-1\n",
    "rm1"
   ]
  },
  {
   "cell_type": "code",
   "execution_count": 164,
   "metadata": {},
   "outputs": [
    {
     "data": {
      "text/plain": [
       "0.64879097543982955"
      ]
     },
     "execution_count": 164,
     "metadata": {},
     "output_type": "execute_result"
    }
   ],
   "source": [
    "np.abs((df.ss/df.MF-1)).max()"
   ]
  },
  {
   "cell_type": "markdown",
   "metadata": {},
   "source": [
    "[![Home](http://www.incredimail.com/images/nav%20bar/home-icon.png)](./) \n",
    "[Jupyter home](./draft.pdf)"
   ]
  }
 ],
 "metadata": {
  "kernelspec": {
   "display_name": "Python 2",
   "language": "python",
   "name": "python2"
  },
  "language_info": {
   "codemirror_mode": {
    "name": "ipython",
    "version": 2
   },
   "file_extension": ".py",
   "mimetype": "text/x-python",
   "name": "python",
   "nbconvert_exporter": "python",
   "pygments_lexer": "ipython2",
   "version": "2.7.9"
  },
  "latex_envs": {
   "LaTeX_envs_menu_present": true,
   "bibliofile": "biblio.bib",
   "cite_by": "apalike",
   "current_citInitial": 1,
   "eqLabelWithNumbers": true,
   "eqNumInitial": 1,
   "labels_anchors": false,
   "latex_user_defs": false,
   "report_style_numbering": false,
   "user_envs_cfg": false
  }
 },
 "nbformat": 4,
 "nbformat_minor": 1
}
