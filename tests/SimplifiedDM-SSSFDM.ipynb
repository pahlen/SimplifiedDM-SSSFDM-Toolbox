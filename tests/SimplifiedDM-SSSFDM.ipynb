{
 "cells": [
  {
   "cell_type": "markdown",
   "metadata": {},
   "source": [
    "#  Singlet Scalar Singlet (charged) fermion dark matter model\n",
    "* [arXiv:1307.6181](https://arxiv.org/abs/1307.6181)\n",
    "* [arXiv:1307.6480](https://arxiv.org/abs/1307.6480)\n",
    "## Particle content"
   ]
  },
  {
   "cell_type": "code",
   "execution_count": 61,
   "metadata": {
    "collapsed": false
   },
   "outputs": [
    {
     "data": {
      "text/latex": [
       "\\begin{array}{llllll}\n",
       "\\text{Name} & \\text{Symbol} & \\text{SU}(3)_c & \\text{SU}(2)_L & \\text{U}(1)_Y & Z_2 \\\\ \\hline\n",
       " \\begin{pmatrix}\\nu_L & e_L\\end{pmatrix}^{\\operatorname{T}}&\n",
       "\\begin{pmatrix}\\xi_{1\\alpha} & \\xi_{2\\alpha} \\end{pmatrix}^{\\operatorname{T}}& \\mathbf{1} & \\mathbf{2} & -1/2 & +1\\\\\n",
       "(e_R)^{\\dagger} & \\eta^{\\alpha}_1 & \\mathbf{1} & \\mathbf{1} & +1 & +1 \\\\\n",
       "(\\psi_R)^{\\dagger} & \\eta^{\\alpha}_2 & \\mathbf{1} & \\mathbf{1} & +1 & -1 \\\\\n",
       "\\psi_L & \\xi_{3\\alpha} & \\mathbf{1} & \\mathbf{1} & -1 & -1 \\\\\n",
       "\\end{array}"
      ],
      "text/plain": [
       "<IPython.core.display.Latex object>"
      ]
     },
     "metadata": {},
     "output_type": "display_data"
    }
   ],
   "source": [
    "%%latex\n",
    "\\begin{array}{llllll}\n",
    "\\text{Name} & \\text{Symbol} & \\text{SU}(3)_c & \\text{SU}(2)_L & \\text{U}(1)_Y & Z_2 \\\\ \\hline\n",
    " \\begin{pmatrix}\\nu_L & e_L\\end{pmatrix}^{\\operatorname{T}}&\n",
    "\\begin{pmatrix}\\xi_{1\\alpha} & \\xi_{2\\alpha} \\end{pmatrix}^{\\operatorname{T}}& \\mathbf{1} & \\mathbf{2} & -1/2 & +1\\\\\n",
    "(e_R)^{\\dagger} & \\eta^{\\alpha}_1 & \\mathbf{1} & \\mathbf{1} & +1 & +1 \\\\\n",
    "(\\psi_R)^{\\dagger} & \\eta^{\\alpha}_2 & \\mathbf{1} & \\mathbf{1} & +1 & -1 \\\\\n",
    "\\psi_L & \\xi_{3\\alpha} & \\mathbf{1} & \\mathbf{1} & -1 & -1 \\\\\n",
    "\\end{array}"
   ]
  },
  {
   "cell_type": "markdown",
   "metadata": {},
   "source": [
    "After the spontaneous symmetry breaking, the relevant Yukawa terms are\n",
    "\\begin{align}\n",
    "  \\mathcal{L}=&\\frac{h_e v}{\\sqrt{2}} \\left( \\eta^{\\alpha}_1 \\xi_{2\\alpha} + \\xi_{2\\dot{\\alpha}}^{\\dagger} \\eta^{\\dagger\\dot{\\alpha}}_1   \\right)+ M_{\\psi} \\left(  \\eta^{\\alpha}_2 \\xi_{3\\alpha}+  \\xi_{3\\dot{\\alpha}}^{\\dagger}\\eta^{\\dagger\\dot{\\alpha}}_2 \\right) + h_S \\left(S \\eta^{\\alpha}_1 \\xi_{3\\alpha}\n",
    " + S\\xi_{3\\dot{\\alpha}}^{\\dagger} \\eta^{\\dagger\\dot{\\alpha}}_1   \\right) \n",
    "\\nonumber\\\\\n",
    "      =&\\frac{h_e v}{\\sqrt{2}}\n",
    "      \\begin{pmatrix}\n",
    "       \\eta^{\\alpha}_1 &  \\xi_{2\\dot{\\alpha}}^{\\dagger} \n",
    "      \\end{pmatrix}\n",
    "      \\begin{pmatrix}\n",
    "        \\xi_{2\\alpha} \\\\\n",
    "         \\eta^{\\dagger\\dot{\\alpha}}_1 \n",
    "      \\end{pmatrix}+M_{\\psi}\\begin{pmatrix}\n",
    "       \\eta^{\\alpha}_2 &  \\xi_{3\\dot{\\alpha}}^{\\dagger} \n",
    "      \\end{pmatrix}\n",
    "      \\begin{pmatrix}\n",
    "        \\xi_{3\\alpha} \\\\\n",
    "         \\eta^{\\dagger\\dot{\\alpha}}_2 \n",
    "      \\end{pmatrix}\n",
    "       +\\left[ h_S S\\begin{pmatrix}\n",
    "       \\eta^{\\alpha}_1 &  \\xi_{2\\dot{\\alpha}}^{\\dagger} \n",
    "      \\end{pmatrix}\n",
    "      \\begin{pmatrix}\n",
    "        1 & 0 \\\\\n",
    "        0 & 0\\\\        \n",
    "      \\end{pmatrix}\n",
    "      \\begin{pmatrix}\n",
    "        \\xi_{3\\alpha} \\\\\n",
    "         \\eta^{\\dagger\\dot{\\alpha}}_2 \n",
    "      \\end{pmatrix} +\\text{h.c} \\right]\n",
    "     \\nonumber\\\\\n",
    "      =&\\frac{h_e v}{\\sqrt{2}}\n",
    "      \\begin{pmatrix}\n",
    "     \\xi_{2\\dot{\\alpha}}^{\\dagger} & \\eta^{\\alpha}_1\n",
    "      \\end{pmatrix}\n",
    "      \\begin{pmatrix}\n",
    "       0 & 1\\\\\n",
    "       1 & 0        \n",
    "      \\end{pmatrix}\n",
    "      \\begin{pmatrix}\n",
    "        \\xi_{2\\alpha} \\\\\n",
    "         \\eta^{\\dagger\\dot{\\alpha}}_1 \n",
    "      \\end{pmatrix}\n",
    "+M_{\\psi}\\begin{pmatrix}\n",
    "       \\xi_{3\\dot{\\alpha}}^{\\dagger}  & \\eta^{\\alpha}_2 \n",
    "      \\end{pmatrix}\n",
    "      \\begin{pmatrix}\n",
    "       0 & 1\\\\\n",
    "       1 & 0        \n",
    "      \\end{pmatrix}\n",
    "      \\begin{pmatrix}\n",
    "        \\xi_{3\\alpha} \\\\\n",
    "         \\eta^{\\dagger\\dot{\\alpha}}_2 \n",
    "      \\end{pmatrix}\\nonumber\\\\\n",
    "&+\\left[ h_S S\\begin{pmatrix}\n",
    "       \\xi_{2\\dot{\\alpha}}^{\\dagger}  & \\eta^{\\alpha}_1\n",
    "      \\end{pmatrix}\n",
    "      \\begin{pmatrix}\n",
    "       0 & 1\\\\\n",
    "       1 & 0        \n",
    "      \\end{pmatrix}\n",
    "      \\begin{pmatrix}\n",
    "       1 & 0\\\\\n",
    "       0 & 0        \n",
    "      \\end{pmatrix}\n",
    "      \\begin{pmatrix}\n",
    "        \\xi_{3\\alpha} \\\\\n",
    "         \\eta^{\\dagger\\dot{\\alpha}}_2 \n",
    "      \\end{pmatrix}+\\text{h.c}  \\right]\n",
    "     \\nonumber\n",
    "\\end{align}\n",
    "Defining\n",
    "\\begin{align}\n",
    "  e=&  \\begin{pmatrix}\n",
    "        \\xi_{2\\alpha} \\\\\n",
    "         \\eta^{\\dagger\\dot{\\alpha}}_1 \n",
    "      \\end{pmatrix}=\n",
    "      \\begin{pmatrix}\n",
    "        e_L\\\\\n",
    "        e_R\n",
    "      \\end{pmatrix}& \\Psi= \\begin{pmatrix}\n",
    "        \\xi_{3\\alpha} \\\\\n",
    "         \\eta^{\\dagger\\dot{\\alpha}}_2 \n",
    "      \\end{pmatrix}=\n",
    "      \\begin{pmatrix}\n",
    "          \\psi_L\\\\\n",
    "          \\psi_R        \n",
    "      \\end{pmatrix}\n",
    "\\end{align}\n",
    "the relevant Yukawa Lagrangian in terms of Dirac fermions is\n",
    "\\begin{align}\n",
    "  \\mathcal{L}=&\\frac{h_e v}{\\sqrt{2}} e^{\\dagger}\\gamma^{0}e + M_{\\psi} \\Psi^{\\dagger}\\gamma^{0}\\Psi\n",
    "       + \\left( h_S S e^{\\dagger} \\gamma^0 P_L \\Psi + \\text{h.c} \\right)\n",
    "\\nonumber\\\\\n",
    "      =&\\frac{h_e v}{\\sqrt{2}} \\overline{e}e+M_{\\psi}\\overline{\\Psi}\\Psi+h_S \\left(S\\, \\overline{e} \\Psi_L+\\text{h.c} \\right)\\,,\n",
    "\\end{align}\n",
    "where\n",
    "\\begin{align}\n",
    "  \\Psi_L=P_L\\Psi=\n",
    "  \\begin{pmatrix}\n",
    "    \\psi_L\\\\\n",
    "    0\n",
    "  \\end{pmatrix}\\,.\n",
    "\\end{align}\n",
    "\n",
    "The Inert Zee model extended with a scalar (neutral) singlet, give rise to the model T1-1-C with $\\alpha=1$. A triplet fermion gives an additional contribution as in the Triplet-Doublet fermion DM model, which is like the SDFDM with scalar singlet but with the fermion triplet playing the role of the singlet. The triplet fermion gives in addition a radiative type-III seesaw topology. "
   ]
  },
  {
   "cell_type": "code",
   "execution_count": 1,
   "metadata": {
    "collapsed": false
   },
   "outputs": [
    {
     "name": "stdout",
     "output_type": "stream",
     "text": [
      "Populating the interactive namespace from numpy and matplotlib\n"
     ]
    }
   ],
   "source": [
    "%pylab inline"
   ]
  },
  {
   "cell_type": "code",
   "execution_count": 159,
   "metadata": {
    "collapsed": false
   },
   "outputs": [],
   "source": [
    "import pandas as pd\n",
    "import numpy as np\n",
    "from matplotlib.colors import LogNorm\n",
    "import os, sys, inspect\n",
    "import commands\n",
    "from hep import *"
   ]
  },
  {
   "cell_type": "markdown",
   "metadata": {},
   "source": [
    "\n",
    "## Check one point"
   ]
  },
  {
   "cell_type": "code",
   "execution_count": 3,
   "metadata": {
    "collapsed": false
   },
   "outputs": [],
   "source": [
    "a=hep(MODEL='SimplifiedDMSSSFDM')"
   ]
  },
  {
   "cell_type": "markdown",
   "metadata": {},
   "source": [
    "`a-object` is an object with many attributes and methods. Use the tab to explore them. Some of them are\n",
    "* a.Series: [pandas](http://pandas.pydata.org/) Series object with the \"relevant\" variables \n",
    "* a.LHA: Input LesHouces file as [pyslha](https://pypi.python.org/pypi/pyslha/) object\n",
    "* a.runSPheno() -> a.LHA_out: return LHA output files as [pyslha](https://pypi.python.org/pypi/pyslha/) object\n",
    "* a.runmicromegas() -> a.runSPheno() -> Updated the `a-object`  with micrOMEGAS \"relevant\" output"
   ]
  },
  {
   "cell_type": "code",
   "execution_count": 4,
   "metadata": {
    "collapsed": false
   },
   "outputs": [
    {
     "data": {
      "text/plain": [
       "1    2.8000000E-01  # Lambda1IN\n",
       "2      1.0000000E-02  # LamSHIN\n",
       "3       0.0000000E+00  # LamSIN\n",
       "4      2.0000000E+02  # MSinput\n",
       "5     4.0000000E+02  # MDFinput\n",
       "dtype: object"
      ]
     },
     "execution_count": 4,
     "metadata": {},
     "output_type": "execute_result"
    }
   ],
   "source": [
    "pd.Series(a.LHA.blocks['MINPAR'].entries)"
   ]
  },
  {
   "cell_type": "code",
   "execution_count": 5,
   "metadata": {
    "collapsed": false
   },
   "outputs": [
    {
     "data": {
      "text/plain": [
       "'1.             # Write effective Higgs couplings (HiggsBounds blocks): put 0 to use file with MadGraph! '"
      ]
     },
     "execution_count": 5,
     "metadata": {},
     "output_type": "execute_result"
    }
   ],
   "source": [
    "a.LHA.blocks['SPHENOINPUT'].entries[520]"
   ]
  },
  {
   "cell_type": "code",
   "execution_count": 6,
   "metadata": {
    "collapsed": false
   },
   "outputs": [
    {
     "data": {
      "text/plain": [
       "1    0.000000E+00   # Ys(1)\n",
       "2    0.000000E+00   # Ys(2)\n",
       "3    0.000000E+00   # Ys(3)\n",
       "dtype: object"
      ]
     },
     "execution_count": 6,
     "metadata": {},
     "output_type": "execute_result"
    }
   ],
   "source": [
    "pd.Series(a.LHA.blocks['YSIN'].entries)"
   ]
  },
  {
   "cell_type": "code",
   "execution_count": 51,
   "metadata": {
    "collapsed": false
   },
   "outputs": [
    {
     "name": "stdout",
     "output_type": "stream",
     "text": [
      "Omega h^2, SI proton, neutron = 0.0127 4.516e-09 4.643e-09 2.15e-25\n"
     ]
    }
   ],
   "source": [
    "v=a.vev\n",
    "lambda_1=0.26\n",
    "lambda_SH=0.1\n",
    "MS=200**2\n",
    "MF=265\n",
    "Yse=0\n",
    "Ymu=2\n",
    "Ytau=0\n",
    "devnull=commands.getoutput('rm -f SPheno.spc.%s' %a.MODEL)\n",
    "a.LHA.blocks['SPHENOINPUT'].entries[55]='0               # Calculate one loop masses'\n",
    "a.LHA.blocks['SPHENOINPUT'].entries[520]='0.             # Write effective Higgs couplings (HiggsBounds blocks): put 0 to use file with MadGraph! '\n",
    "a.LHA.blocks['MINPAR'][1]='%0.8E       # lambda1'  %lambda_1\n",
    "a.LHA.blocks['MINPAR'][2]='%0.8E       # lambdaSH'  %lambda_SH\n",
    "a.LHA.blocks['MINPAR'][4]='%0.8E       # MS'  %MS\n",
    "a.LHA.blocks['MINPAR'][5]='%0.8E       # MF' %MF\n",
    "a.LHA.blocks['YSIN'][1]='%0.8E       # Ys(1)' %Yse\n",
    "a.LHA.blocks['YSIN'][2]='%0.8E       # Ys(1)' %Ymu\n",
    "a.LHA.blocks['YSIN'][3]='%0.8E       # Ys(3)' %Ytau\n",
    "moc=a.runmicromegas(Direct_Detection=True)\n",
    "print 'Omega h^2, SI proton, neutron =',a.Series.Omega_h2,a.Series.proton_SI,a.Series.neutron_SI,a.Series.sigmav"
   ]
  },
  {
   "cell_type": "code",
   "execution_count": 52,
   "metadata": {
    "collapsed": false
   },
   "outputs": [
    {
     "data": {
      "text/plain": [
       "25             1.25548349E+02 # hh\n",
       "6666635        2.14621660E+02 # ss\n",
       "23             9.11887000E+01 # VZ\n",
       "24            8.03497269E+01 # VWp\n",
       "1            5.00000000E-03 # Fd_1\n",
       "3            9.50000000E-02 # Fd_2\n",
       "5            4.18000000E+00 # Fd_3\n",
       "2            2.50000000E-03 # Fu_1\n",
       "4            1.27000000E+00 # Fu_2\n",
       "6            1.73500000E+02 # Fu_3\n",
       "11           5.10998930E-04 # Fe_1\n",
       "13           1.05658372E-01 # Fe_2\n",
       "15           1.77669000E+00 # Fe_3\n",
       "210000601     2.65000000E+02 # Fre\n",
       "dtype: object"
      ]
     },
     "execution_count": 52,
     "metadata": {},
     "output_type": "execute_result"
    }
   ],
   "source": [
    "pd.Series(a.LHA_out_with_comments.blocks['MASS'].entries)"
   ]
  },
  {
   "cell_type": "code",
   "execution_count": 56,
   "metadata": {
    "collapsed": true
   },
   "outputs": [],
   "source": [
    "MS2=200**2"
   ]
  },
  {
   "cell_type": "code",
   "execution_count": 57,
   "metadata": {
    "collapsed": false
   },
   "outputs": [
    {
     "data": {
      "text/plain": [
       "214.62165981905724"
      ]
     },
     "execution_count": 57,
     "metadata": {},
     "output_type": "execute_result"
    }
   ],
   "source": []
  },
  {
   "cell_type": "code",
   "execution_count": 30,
   "metadata": {
    "collapsed": false
   },
   "outputs": [
    {
     "name": "stdout",
     "output_type": "stream",
     "text": [
      "\n",
      "Masses of odd sector Particles:\n",
      "~Ss  : MSs   =   200.0 || ~Re  : MRe   =   265.0 || \n",
      "Xf=2.46e+01 Omega h^2=1.55e-01\n",
      "\n",
      "# Channels which contribute to 1/(omega) more than 1%.\n",
      "# Relative contributions in % are displayed\n",
      "   99% ~Ss ~Ss ->e2 E2 \n",
      "\n",
      "==== Calculation of CDM-nucleons amplitudes  =====\n",
      "         TREE LEVEL\n",
      "CDM-nucleon micrOMEGAs amplitudes:\n",
      "proton:  SI  0.000E+00  SD  0.000E+00\n",
      "neutron: SI  0.000E+00  SD  0.000E+00\n",
      "         BOX DIAGRAMS\n",
      "CDM-nucleon micrOMEGAs amplitudes:\n",
      "proton:  SI  0.000E+00  SD  0.000E+00\n",
      "neutron: SI  0.000E+00  SD  0.000E+00\n",
      "CDM-nucleon cross sections[pb]:\n",
      " proton  SI 0.000E+00  SD 0.000E+00\n",
      " neutron SI 0.000E+00  SD 0.000E+00\n",
      "\n",
      "======== Direct Detection ========\n",
      "73Ge: Total number of events=0.00E+00 /day/kg\n",
      "Number of events in 10 - 50 KeV region=0.00E+00 /day/kg\n",
      "131Xe: Total number of events=0.00E+00 /day/kg\n",
      "Number of events in 10 - 50 KeV region=0.00E+00 /day/kg\n",
      "23Na: Total number of events=0.00E+00 /day/kg\n",
      "Number of events in 10 - 50 KeV region=0.00E+00 /day/kg\n",
      "I127: Total number of events=0.00E+00 /day/kg\n",
      "Number of events in 10 - 50 KeV region=0.00E+00 /day/kg\n",
      "\n",
      "======== Indirect Detection ========\n",
      "    Channel          vcs[cm^3/s]\n",
      "==================================\n",
      " annihilation cross section 7.52E-27 cm^3/s\n",
      " contribution of processes\n",
      "  ~Ss,~Ss -> A e2 E2    9.98E-01\n",
      "  ~Ss,~Ss -> e2 E2      1.82E-03\n"
     ]
    }
   ],
   "source": [
    "print moc"
   ]
  },
  {
   "cell_type": "code",
   "execution_count": 6,
   "metadata": {
    "collapsed": false
   },
   "outputs": [
    {
     "data": {
      "text/plain": [
       "25             1.25548349E+02 # hh\n",
       "6666635        9.90000000E+01 # ss\n",
       "23             9.11887000E+01 # VZ\n",
       "24            8.03497269E+01 # VWp\n",
       "1            5.00000000E-03 # Fd_1\n",
       "3            9.50000000E-02 # Fd_2\n",
       "5            4.18000000E+00 # Fd_3\n",
       "2            2.50000000E-03 # Fu_1\n",
       "4            1.27000000E+00 # Fu_2\n",
       "6            1.73500000E+02 # Fu_3\n",
       "11           5.10998930E-04 # Fe_1\n",
       "13           1.05658372E-01 # Fe_2\n",
       "15           1.77669000E+00 # Fe_3\n",
       "210000601     2.00000000E+02 # Fre\n",
       "dtype: object"
      ]
     },
     "execution_count": 6,
     "metadata": {},
     "output_type": "execute_result"
    }
   ],
   "source": [
    "pd.Series(a.LHA_oua.LHA.blocks['YSIN'][1]='%0.8E       # Ys(1)' %Yset_with_comments.blocks['MASS'].entries)"
   ]
  },
  {
   "cell_type": "markdown",
   "metadata": {},
   "source": [
    "## Scan $m_{F}$"
   ]
  },
  {
   "cell_type": "code",
   "execution_count": 7,
   "metadata": {
    "collapsed": false,
    "scrolled": true
   },
   "outputs": [
    {
     "name": "stdout",
     "output_type": "stream",
     "text": [
      "0\n",
      "10\n",
      "20\n",
      "30\n",
      "40\n",
      "50\n",
      "60\n",
      "70\n",
      "80\n",
      "90\n"
     ]
    }
   ],
   "source": [
    "df=pd.DataFrame(np.logspace(np.log10(100),np.log10(1200),100))\n",
    "a.LHA.blocks['SPHENOINPUT'].entries[55]='0               # Calculate one loop masses'\n",
    "df_masses=np.logspace(np.log10(100),np.log10(1200),100)\n",
    "for MF in df_masses:\n",
    "    if np.where(df_masses==MF)[0][0]%10==0: #find the index of the array entry\n",
    "        print np.where(df_masses==MF)[0][0]\n",
    "    a.LHA.blocks['MINPAR'][5]='%0.8E       #MF' %MF  # -> Fill a.Series.MDF\n",
    "    a.runmicromegas(Direct_Detection=True)\n",
    "    df=df.append(a.Series,ignore_index=True)"
   ]
  },
  {
   "cell_type": "markdown",
   "metadata": {},
   "source": [
    "### Relic density"
   ]
  },
  {
   "cell_type": "code",
   "execution_count": 9,
   "metadata": {
    "collapsed": false
   },
   "outputs": [
    {
     "data": {
      "text/plain": [
       "<matplotlib.legend.Legend at 0x7fa0f1860950>"
      ]
     },
     "execution_count": 9,
     "metadata": {},
     "output_type": "execute_result"
    },
    {
     "data": {
      "image/png": "[encoded data removed]",
      "text/plain": [
       "<matplotlib.figure.Figure at 0x7fa0f1974210>"
      ]
     },
     "metadata": {},
     "output_type": "display_data"
    }
   ],
   "source": [
    "plt.semilogy(df.MF,df.Omega_h2,'ko',label='SARAH')\n",
    "plt.xlabel(r'$m_\\psi$ [GeV]',size=20)\n",
    "plt.ylabel(r'$\\Omega h^2$',size=20)\n",
    "plt.grid()\n",
    "plt.xlim(90,200)\n",
    "plt.legend(loc='best')\n",
    "#plt.savefig('omega.pdf')"
   ]
  },
  {
   "cell_type": "code",
   "execution_count": 27,
   "metadata": {
    "collapsed": false
   },
   "outputs": [
    {
     "data": {
      "text/plain": [
       "<matplotlib.legend.Legend at 0x7f5807b6e290>"
      ]
     },
     "execution_count": 27,
     "metadata": {},
     "output_type": "execute_result"
    },
    {
     "data": {
      "image/png": "[encoded data removed]",
      "text/plain": [
       "<matplotlib.figure.Figure at 0x7f5807b28110>"
      ]
     },
     "metadata": {},
     "output_type": "display_data"
    }
   ],
   "source": [
    "plt.semilogy(df.MF,df.proton_SI,'k-',label='SARAH')\n",
    "plt.xlabel(r'$m_\\psi$ [GeV]',size=20)\n",
    "plt.ylabel(r'Direct Detection [pb]' ,size=20)\n",
    "plt.legend(loc='best')\n",
    "#plt.savefig('dd.pdf')"
   ]
  },
  {
   "cell_type": "markdown",
   "metadata": {},
   "source": [
    "## Full scan"
   ]
  },
  {
   "cell_type": "code",
   "execution_count": 257,
   "metadata": {
    "collapsed": false
   },
   "outputs": [
    {
     "name": "stdout",
     "output_type": "stream",
     "text": [
      "0\n",
      "100\n",
      "200\n",
      "300\n",
      "400\n",
      "500\n",
      "600\n",
      "700\n",
      "800\n",
      "900\n"
     ]
    }
   ],
   "source": [
    "v=a.vev\n",
    "Omega_h2_delta=0.01\n",
    "CL=3\n",
    "Omega_h2=0.12\n",
    "Omega_h2_exp=[Omega_h2-CL*Omega_h2_delta,Omega_h2,Omega_h2+CL*Omega_h2_delta]\n",
    "lambda_1=0.26\n",
    "lambda_SH=0\n",
    "a.LHA.blocks['SPHENOINPUT'].entries[55]='0               # Calculate one loop masses'\n",
    "a.LHA.blocks['SPHENOINPUT'].entries[520]='0.             # Write effective Higgs couplings (HiggsBounds blocks): put 0 to use file with MadGraph! '\n",
    "\n",
    "df=pd.DataFrame()\n",
    "a.LHA.blocks['SPHENOINPUT'].entries[55]='0               # Calculate one loop masses'\n",
    "df_masses=np.logspace(np.log10(100),np.log10(1E4),1000) #np.array([200])\n",
    "for i in range(1):\n",
    "    for MF in df_masses:\n",
    "        rm1=10**np.random.uniform(np.log10(1E-2),np.log10(3))\n",
    "        r=rm1+1.\n",
    "        M_S=MF/r\n",
    "        MS2=M_S**2-a.vev**2*lambda_SH\n",
    "        Yse_range=np.logspace(np.log10(np.pi),np.log10(1E-3),50)\n",
    "        for Yse in Yse_range:\n",
    "            devnull=commands.getoutput('rm -f SPheno.spc.%s' %a.MODEL)\n",
    "            Ymu=0. #10**np.random.uniform( log10(1E-3),np.log10(np.pi) )\n",
    "            Ytau=0. #10\n",
    "            a.LHA.blocks['MINPAR'][1]='%0.8E       # lambda1'  %lambda_1\n",
    "            a.LHA.blocks['MINPAR'][2]='%0.8E       # lambdaSH'  %lambda_SH\n",
    "            a.LHA.blocks['MINPAR'][4]='%0.8E       # MS2'  %MS2\n",
    "            a.LHA.blocks['MINPAR'][5]='%0.8E       # MF' %MF\n",
    "            a.LHA.blocks['YSIN'][1]='%0.8E       # Ys(1)' %Yse\n",
    "            a.LHA.blocks['YSIN'][2]='%0.8E       # Ys(2)' %Ymu\n",
    "            a.LHA.blocks['YSIN'][3]='%0.8E       # Ys(3)' %Ytau        \n",
    "            a.LHA.blocks['MINPAR'][5]='%0.8E       #MF' %MF  # -> Fill a.Series.MDF\n",
    "            a.runmicromegas(Direct_Detection=True)\n",
    "            if a.Series.Omega_h2>Omega_h2_exp[0] and a.Series.Omega_h2<Omega_h2_exp[2]: \n",
    "                a.Series=a.Series.append(block_to_series(a.LHA_out_with_comments.blocks['MASS']))\n",
    "                kk=a.branchings(a.LHA_out.decays,min_pdg=25)\n",
    "                a.Series=a.Series.append(a.Br_names)\n",
    "                df=df.append(a.Series,ignore_index=True)\n",
    "            if a.Series.Omega_h2>Omega_h2_exp[2]: \n",
    "                break\n",
    "                \n",
    "        if np.where(df_masses==MF)[0][0]%100==0: #find the index of the array entry\n",
    "            print np.where(df_masses==MF)[0][0]"
   ]
  },
  {
   "cell_type": "code",
   "execution_count": 165,
   "metadata": {
    "collapsed": false
   },
   "outputs": [],
   "source": [
    "df.to_excel('sssfdm.xlsx')"
   ]
  },
  {
   "cell_type": "code",
   "execution_count": 267,
   "metadata": {
    "collapsed": true
   },
   "outputs": [],
   "source": [
    "df=pd.read_excel('sssfdm.xlsx')"
   ]
  },
  {
   "cell_type": "code",
   "execution_count": 268,
   "metadata": {
    "collapsed": false
   },
   "outputs": [
    {
     "data": {
      "text/plain": [
       "(903, 72)"
      ]
     },
     "execution_count": 268,
     "metadata": {},
     "output_type": "execute_result"
    }
   ],
   "source": [
    "df.shape"
   ]
  },
  {
   "cell_type": "code",
   "execution_count": 269,
   "metadata": {
    "collapsed": false
   },
   "outputs": [
    {
     "data": {
      "text/plain": [
       "(50, 7307.1845499999999)"
      ]
     },
     "execution_count": 269,
     "metadata": {},
     "output_type": "execute_result"
    },
    {
     "data": {
      "image/png": "[encoded data removed]",
      "text/plain": [
       "<matplotlib.figure.Figure at 0x7f233a492e10>"
      ]
     },
     "metadata": {},
     "output_type": "display_data"
    }
   ],
   "source": [
    "df=df[df.MF>=100]\n",
    "plt.hexbin(df.ss,df.Ys1,df.MF/df.ss-1,xscale='log',yscale='log',norm=LogNorm())\n",
    "plt.colorbar()\n",
    "plt.xlim(50,df.MF.max())"
   ]
  },
  {
   "cell_type": "code",
   "execution_count": 188,
   "metadata": {
    "collapsed": true
   },
   "outputs": [],
   "source": [
    "dff=df[df.MF<300]"
   ]
  },
  {
   "cell_type": "code",
   "execution_count": 189,
   "metadata": {
    "collapsed": false
   },
   "outputs": [
    {
     "data": {
      "text/plain": [
       "(50, 7307.1845499999999)"
      ]
     },
     "execution_count": 189,
     "metadata": {},
     "output_type": "execute_result"
    },
    {
     "data": {
      "image/png": "[encoded data removed]",
      "text/plain": [
       "<matplotlib.figure.Figure at 0x7f2340f44310>"
      ]
     },
     "metadata": {},
     "output_type": "display_data"
    }
   ],
   "source": [
    "df=df[df.MF>=100]\n",
    "plt.hexbin(df.ss,df.Ys1,df.MF/df.ss-1,xscale='log',yscale='log',norm=LogNorm())\n",
    "plt.colorbar()\n",
    "plt.plot(dff.MF<300)\n",
    "plt.plot(dff.ss,dff.Ys1,'ro')\n",
    "plt.xlim(50,df.MF.max())"
   ]
  },
  {
   "cell_type": "code",
   "execution_count": 272,
   "metadata": {
    "collapsed": false
   },
   "outputs": [
    {
     "data": {
      "text/plain": [
       "(0, 350)"
      ]
     },
     "execution_count": 272,
     "metadata": {},
     "output_type": "execute_result"
    },
    {
     "data": {
      "image/png": "[encoded data removed]",
      "text/plain": [
       "<matplotlib.figure.Figure at 0x7f23406e2250>"
      ]
     },
     "metadata": {},
     "output_type": "display_data"
    }
   ],
   "source": [
    "plt.plot(df.MF,df.ss,'ro')\n",
    "plt.xlim(80,400)\n",
    "plt.ylim(0,350)"
   ]
  },
  {
   "cell_type": "markdown",
   "metadata": {},
   "source": [
    "Cross sections"
   ]
  },
  {
   "cell_type": "code",
   "execution_count": 251,
   "metadata": {
    "collapsed": false
   },
   "outputs": [
    {
     "data": {
      "text/html": [
       "<div>\n",
       "<table border=\"1\" class=\"dataframe\">\n",
       "  <thead>\n",
       "    <tr style=\"text-align: right;\">\n",
       "      <th></th>\n",
       "      <th>m_stau</th>\n",
       "      <th>cs_exp</th>\n",
       "      <th>cs_obs</th>\n",
       "    </tr>\n",
       "  </thead>\n",
       "  <tbody>\n",
       "    <tr>\n",
       "      <th>0</th>\n",
       "      <td>90.61</td>\n",
       "      <td>6.77</td>\n",
       "      <td>6.77</td>\n",
       "    </tr>\n",
       "  </tbody>\n",
       "</table>\n",
       "</div>"
      ],
      "text/plain": [
       "   m_stau  cs_exp  cs_obs\n",
       "0   90.61    6.77    6.77"
      ]
     },
     "execution_count": 251,
     "metadata": {},
     "output_type": "execute_result"
    }
   ],
   "source": [
    "tdo=pd.read_csv('full_data/tau_obs.csv')\n",
    "tdo[:1]                "
   ]
  },
  {
   "cell_type": "code",
   "execution_count": 229,
   "metadata": {
    "collapsed": false
   },
   "outputs": [
    {
     "data": {
      "text/html": [
       "<div>\n",
       "<table border=\"1\" class=\"dataframe\">\n",
       "  <thead>\n",
       "    <tr style=\"text-align: right;\">\n",
       "      <th></th>\n",
       "      <th>m_wino</th>\n",
       "      <th>cs</th>\n",
       "      <th>delta_xs</th>\n",
       "    </tr>\n",
       "  </thead>\n",
       "  <tbody>\n",
       "    <tr>\n",
       "      <th>0</th>\n",
       "      <td>100.0</td>\n",
       "      <td>5.550178</td>\n",
       "      <td>0.360378</td>\n",
       "    </tr>\n",
       "  </tbody>\n",
       "</table>\n",
       "</div>"
      ],
      "text/plain": [
       "   m_wino        cs  delta_xs\n",
       "0   100.0  5.550178  0.360378"
      ]
     },
     "execution_count": 229,
     "metadata": {},
     "output_type": "execute_result"
    }
   ],
   "source": [
    "wd=pd.read_csv('full_data/wino_nlo.csv')\n",
    "wd[:1]"
   ]
  },
  {
   "cell_type": "code",
   "execution_count": 235,
   "metadata": {
    "collapsed": false
   },
   "outputs": [
    {
     "data": {
      "text/html": [
       "<div>\n",
       "<table border=\"1\" class=\"dataframe\">\n",
       "  <thead>\n",
       "    <tr style=\"text-align: right;\">\n",
       "      <th></th>\n",
       "      <th>m_higgsino</th>\n",
       "      <th>cs</th>\n",
       "      <th>xs_delta</th>\n",
       "    </tr>\n",
       "  </thead>\n",
       "  <tbody>\n",
       "    <tr>\n",
       "      <th>0</th>\n",
       "      <td>98.070115</td>\n",
       "      <td>1.63</td>\n",
       "      <td>0</td>\n",
       "    </tr>\n",
       "  </tbody>\n",
       "</table>\n",
       "</div>"
      ],
      "text/plain": [
       "   m_higgsino    cs  xs_delta\n",
       "0   98.070115  1.63         0"
      ]
     },
     "execution_count": 235,
     "metadata": {},
     "output_type": "execute_result"
    }
   ],
   "source": [
    "hd=pd.read_csv('full_data/higgsino_nlo.csv')\n",
    "hd[:1]"
   ]
  },
  {
   "cell_type": "code",
   "execution_count": null,
   "metadata": {
    "collapsed": true
   },
   "outputs": [],
   "source": [
    "xd=pd.read_csv('full_data/d33.cvs')"
   ]
  },
  {
   "cell_type": "code",
   "execution_count": 254,
   "metadata": {
    "collapsed": false
   },
   "outputs": [
    {
     "data": {
      "image/png": "[encoded data removed]",
      "text/plain": [
       "<matplotlib.figure.Figure at 0x7f233ba04090>"
      ]
     },
     "metadata": {},
     "output_type": "display_data"
    }
   ],
   "source": [
    "plt.semilogy(tdo.m_stau,tdo.cs_obs,'ko')\n",
    "plt.semilogy(tdo.m_stau,tdo.cs_obs,'r-', lw=2,  label= r'Observed 95% CL (MVA)')\n",
    "plt.semilogy(wd.m_wino,wd.cs,'k-',lw=1.5,label= r'$ \\sigma( p p \\to \\psi^{+} \\psi^{-})_{\\rm{NLO}} $ (pure wino)')\n",
    "#plt.semilogy(wd.m_wino,wd.cs*0.3,'r-',lw=1.5)\n",
    "plt.semilogy(hd.m_higgsino,hd.cs,'b--',lw=1.5,label= r'$ \\sigma( p p \\to \\psi^{+} \\psi^{-})_{\\rm{NLO}} $ (pure higgsino)')\n",
    "plt.semilogy(hd.m_higgsino,hd.cs*0.3,'r--',lw=1.5,label= r'$ \\sigma( p p \\to \\psi^{+} \\psi^{-})_{k} $ (charged singlet)')\n",
    "plt.xlim(80,450)\n",
    "plt.ylim(1E-2,1E1)\n",
    "plt.grid()"
   ]
  },
  {
   "cell_type": "code",
   "execution_count": 255,
   "metadata": {
    "collapsed": false
   },
   "outputs": [
    {
     "data": {
      "text/plain": [
       "120.0"
      ]
     },
     "execution_count": 255,
     "metadata": {},
     "output_type": "execute_result"
    }
   ],
   "source": [
    "400*0.3"
   ]
  },
  {
   "cell_type": "code",
   "execution_count": 226,
   "metadata": {
    "collapsed": false
   },
   "outputs": [
    {
     "data": {
      "text/plain": [
       "0     5.550178\n",
       "1     4.600000\n",
       "2     3.840278\n",
       "3     3.240000\n",
       "4     2.750000\n",
       "5     2.360000\n",
       "6     2.035227\n",
       "7     1.750000\n",
       "8     1.530000\n",
       "9     1.330000\n",
       "10    1.170000\n",
       "11    1.030500\n",
       "12    0.913000\n",
       "13    0.810000\n",
       "14    0.721000\n",
       "15    0.643000\n",
       "16    0.576000\n",
       "17    0.517000\n",
       "18    0.466000\n",
       "19    0.421004\n",
       "20    0.380000\n",
       "21    0.344000\n",
       "22    0.312000\n",
       "23    0.284000\n",
       "24    0.258030\n",
       "25    0.236035\n",
       "26    0.215000\n",
       "27    0.197995\n",
       "28    0.180999\n",
       "29    0.166000\n",
       "        ...   \n",
       "67    0.011922\n",
       "68    0.011441\n",
       "69    0.010635\n",
       "70    0.009939\n",
       "71    0.009605\n",
       "72    0.008975\n",
       "73    0.008404\n",
       "74    0.008113\n",
       "75    0.007598\n",
       "76    0.007112\n",
       "77    0.005669\n",
       "78    0.004339\n",
       "79    0.003418\n",
       "80    0.002654\n",
       "81    0.002118\n",
       "82    0.001591\n",
       "83    0.001280\n",
       "84    0.001015\n",
       "85    0.000823\n",
       "86    0.000655\n",
       "87    0.000505\n",
       "88    0.000405\n",
       "89    0.000315\n",
       "90    0.000261\n",
       "91    0.000211\n",
       "92    0.000170\n",
       "93    0.000133\n",
       "94    0.000113\n",
       "95    0.000088\n",
       "96    0.000072\n",
       "Name: xs, dtype: float64"
      ]
     },
     "execution_count": 226,
     "metadata": {},
     "output_type": "execute_result"
    }
   ],
   "source": [
    "wd['xs']"
   ]
  },
  {
   "cell_type": "code",
   "execution_count": 181,
   "metadata": {
    "collapsed": false
   },
   "outputs": [
    {
     "data": {
      "text/plain": [
       "0.010101010101010166"
      ]
     },
     "execution_count": 181,
     "metadata": {},
     "output_type": "execute_result"
    }
   ],
   "source": [
    "rm1=r-1\n",
    "rm1"
   ]
  },
  {
   "cell_type": "code",
   "execution_count": 164,
   "metadata": {
    "collapsed": false
   },
   "outputs": [
    {
     "data": {
      "text/plain": [
       "0.64879097543982955"
      ]
     },
     "execution_count": 164,
     "metadata": {},
     "output_type": "execute_result"
    }
   ],
   "source": [
    "np.abs((df.ss/df.MF-1)).max()"
   ]
  },
  {
   "cell_type": "markdown",
   "metadata": {},
   "source": [
    "[![Home](http://www.incredimail.com/images/nav%20bar/home-icon.png)](./) \n",
    "[Jupyter home](./draft.pdf)"
   ]
  }
 ],
 "metadata": {
  "kernelspec": {
   "display_name": "Python 2",
   "language": "python",
   "name": "python2"
  },
  "language_info": {
   "codemirror_mode": {
    "name": "ipython",
    "version": 2
   },
   "file_extension": ".py",
   "mimetype": "text/x-python",
   "name": "python",
   "nbconvert_exporter": "python",
   "pygments_lexer": "ipython2",
   "version": "2.7.9"
  }
 },
 "nbformat": 4,
 "nbformat_minor": 0
}
