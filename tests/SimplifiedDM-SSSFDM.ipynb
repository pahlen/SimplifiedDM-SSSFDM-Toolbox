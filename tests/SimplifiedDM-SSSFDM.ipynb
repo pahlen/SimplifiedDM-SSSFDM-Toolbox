{
 "cells": [
  {
   "cell_type": "markdown",
   "metadata": {},
   "source": [
    "#  Singlet Scalar Singlet (charged) fermion dark matter model\n",
    "* [arXiv:1307.6181](https://arxiv.org/abs/1307.6181)\n",
    "* [arXiv:1307.6480](https://arxiv.org/abs/1307.6480)\n",
    "## Particle content"
   ]
  },
  {
   "cell_type": "code",
   "execution_count": 61,
   "metadata": {
    "collapsed": false
   },
   "outputs": [
    {
     "data": {
      "text/latex": [
       "\\begin{array}{llllll}\n",
       "\\text{Name} & \\text{Symbol} & \\text{SU}(3)_c & \\text{SU}(2)_L & \\text{U}(1)_Y & Z_2 \\\\ \\hline\n",
       " \\begin{pmatrix}\\nu_L & e_L\\end{pmatrix}^{\\operatorname{T}}&\n",
       "\\begin{pmatrix}\\xi_{1\\alpha} & \\xi_{2\\alpha} \\end{pmatrix}^{\\operatorname{T}}& \\mathbf{1} & \\mathbf{2} & -1/2 & +1\\\\\n",
       "(e_R)^{\\dagger} & \\eta^{\\alpha}_1 & \\mathbf{1} & \\mathbf{1} & +1 & +1 \\\\\n",
       "(\\psi_R)^{\\dagger} & \\eta^{\\alpha}_2 & \\mathbf{1} & \\mathbf{1} & +1 & -1 \\\\\n",
       "\\psi_L & \\xi_{3\\alpha} & \\mathbf{1} & \\mathbf{1} & -1 & -1 \\\\\n",
       "\\end{array}"
      ],
      "text/plain": [
       "<IPython.core.display.Latex object>"
      ]
     },
     "metadata": {},
     "output_type": "display_data"
    }
   ],
   "source": [
    "%%latex\n",
    "\\begin{array}{llllll}\n",
    "\\text{Name} & \\text{Symbol} & \\text{SU}(3)_c & \\text{SU}(2)_L & \\text{U}(1)_Y & Z_2 \\\\ \\hline\n",
    " \\begin{pmatrix}\\nu_L & e_L\\end{pmatrix}^{\\operatorname{T}}&\n",
    "\\begin{pmatrix}\\xi_{1\\alpha} & \\xi_{2\\alpha} \\end{pmatrix}^{\\operatorname{T}}& \\mathbf{1} & \\mathbf{2} & -1/2 & +1\\\\\n",
    "(e_R)^{\\dagger} & \\eta^{\\alpha}_1 & \\mathbf{1} & \\mathbf{1} & +1 & +1 \\\\\n",
    "(\\psi_R)^{\\dagger} & \\eta^{\\alpha}_2 & \\mathbf{1} & \\mathbf{1} & +1 & -1 \\\\\n",
    "\\psi_L & \\xi_{3\\alpha} & \\mathbf{1} & \\mathbf{1} & -1 & -1 \\\\\n",
    "\\end{array}"
   ]
  },
  {
   "cell_type": "markdown",
   "metadata": {},
   "source": [
    "After the spontaneous symmetry breaking, the relevant Yukawa terms are\n",
    "\\begin{align}\n",
    "  \\mathcal{L}=&\\frac{h_e v}{\\sqrt{2}} \\left( \\eta^{\\alpha}_1 \\xi_{2\\alpha} + \\xi_{2\\dot{\\alpha}}^{\\dagger} \\eta^{\\dagger\\dot{\\alpha}}_1   \\right)+ M_{\\psi} \\left(  \\eta^{\\alpha}_2 \\xi_{3\\alpha}+  \\xi_{3\\dot{\\alpha}}^{\\dagger}\\eta^{\\dagger\\dot{\\alpha}}_2 \\right) + h_S \\left(S \\eta^{\\alpha}_1 \\xi_{3\\alpha}\n",
    " + S\\xi_{3\\dot{\\alpha}}^{\\dagger} \\eta^{\\dagger\\dot{\\alpha}}_1   \\right) \n",
    "\\nonumber\\\\\n",
    "      =&\\frac{h_e v}{\\sqrt{2}}\n",
    "      \\begin{pmatrix}\n",
    "       \\eta^{\\alpha}_1 &  \\xi_{2\\dot{\\alpha}}^{\\dagger} \n",
    "      \\end{pmatrix}\n",
    "      \\begin{pmatrix}\n",
    "        \\xi_{2\\alpha} \\\\\n",
    "         \\eta^{\\dagger\\dot{\\alpha}}_1 \n",
    "      \\end{pmatrix}+M_{\\psi}\\begin{pmatrix}\n",
    "       \\eta^{\\alpha}_2 &  \\xi_{3\\dot{\\alpha}}^{\\dagger} \n",
    "      \\end{pmatrix}\n",
    "      \\begin{pmatrix}\n",
    "        \\xi_{3\\alpha} \\\\\n",
    "         \\eta^{\\dagger\\dot{\\alpha}}_2 \n",
    "      \\end{pmatrix}\n",
    "       +\\left[ h_S S\\begin{pmatrix}\n",
    "       \\eta^{\\alpha}_1 &  \\xi_{2\\dot{\\alpha}}^{\\dagger} \n",
    "      \\end{pmatrix}\n",
    "      \\begin{pmatrix}\n",
    "        1 & 0 \\\\\n",
    "        0 & 0\\\\        \n",
    "      \\end{pmatrix}\n",
    "      \\begin{pmatrix}\n",
    "        \\xi_{3\\alpha} \\\\\n",
    "         \\eta^{\\dagger\\dot{\\alpha}}_2 \n",
    "      \\end{pmatrix} +\\text{h.c} \\right]\n",
    "     \\nonumber\\\\\n",
    "      =&\\frac{h_e v}{\\sqrt{2}}\n",
    "      \\begin{pmatrix}\n",
    "     \\xi_{2\\dot{\\alpha}}^{\\dagger} & \\eta^{\\alpha}_1\n",
    "      \\end{pmatrix}\n",
    "      \\begin{pmatrix}\n",
    "       0 & 1\\\\\n",
    "       1 & 0        \n",
    "      \\end{pmatrix}\n",
    "      \\begin{pmatrix}\n",
    "        \\xi_{2\\alpha} \\\\\n",
    "         \\eta^{\\dagger\\dot{\\alpha}}_1 \n",
    "      \\end{pmatrix}\n",
    "+M_{\\psi}\\begin{pmatrix}\n",
    "       \\xi_{3\\dot{\\alpha}}^{\\dagger}  & \\eta^{\\alpha}_2 \n",
    "      \\end{pmatrix}\n",
    "      \\begin{pmatrix}\n",
    "       0 & 1\\\\\n",
    "       1 & 0        \n",
    "      \\end{pmatrix}\n",
    "      \\begin{pmatrix}\n",
    "        \\xi_{3\\alpha} \\\\\n",
    "         \\eta^{\\dagger\\dot{\\alpha}}_2 \n",
    "      \\end{pmatrix}\\nonumber\\\\\n",
    "&+\\left[ h_S S\\begin{pmatrix}\n",
    "       \\xi_{2\\dot{\\alpha}}^{\\dagger}  & \\eta^{\\alpha}_1\n",
    "      \\end{pmatrix}\n",
    "      \\begin{pmatrix}\n",
    "       0 & 1\\\\\n",
    "       1 & 0        \n",
    "      \\end{pmatrix}\n",
    "      \\begin{pmatrix}\n",
    "       1 & 0\\\\\n",
    "       0 & 0        \n",
    "      \\end{pmatrix}\n",
    "      \\begin{pmatrix}\n",
    "        \\xi_{3\\alpha} \\\\\n",
    "         \\eta^{\\dagger\\dot{\\alpha}}_2 \n",
    "      \\end{pmatrix}+\\text{h.c}  \\right]\n",
    "     \\nonumber\n",
    "\\end{align}\n",
    "Defining\n",
    "\\begin{align}\n",
    "  e=&  \\begin{pmatrix}\n",
    "        \\xi_{2\\alpha} \\\\\n",
    "         \\eta^{\\dagger\\dot{\\alpha}}_1 \n",
    "      \\end{pmatrix}=\n",
    "      \\begin{pmatrix}\n",
    "        e_L\\\\\n",
    "        e_R\n",
    "      \\end{pmatrix}& \\Psi= \\begin{pmatrix}\n",
    "        \\xi_{3\\alpha} \\\\\n",
    "         \\eta^{\\dagger\\dot{\\alpha}}_2 \n",
    "      \\end{pmatrix}=\n",
    "      \\begin{pmatrix}\n",
    "          \\psi_L\\\\\n",
    "          \\psi_R        \n",
    "      \\end{pmatrix}\n",
    "\\end{align}\n",
    "the relevant Yukawa Lagrangian in terms of Dirac fermions is\n",
    "\\begin{align}\n",
    "  \\mathcal{L}=&\\frac{h_e v}{\\sqrt{2}} e^{\\dagger}\\gamma^{0}e + M_{\\psi} \\Psi^{\\dagger}\\gamma^{0}\\Psi\n",
    "       + \\left( h_S S e^{\\dagger} \\gamma^0 P_L \\Psi + \\text{h.c} \\right)\n",
    "\\nonumber\\\\\n",
    "      =&\\frac{h_e v}{\\sqrt{2}} \\overline{e}e+M_{\\psi}\\overline{\\Psi}\\Psi+h_S \\left(S\\, \\overline{e} \\Psi_L+\\text{h.c} \\right)\\,,\n",
    "\\end{align}\n",
    "where\n",
    "\\begin{align}\n",
    "  \\Psi_L=P_L\\Psi=\n",
    "  \\begin{pmatrix}\n",
    "    \\psi_L\\\\\n",
    "    0\n",
    "  \\end{pmatrix}\\,.\n",
    "\\end{align}\n",
    "\n",
    "The Inert Zee model extended with a scalar (neutral) singlet, give rise to the model T1-1-C with $\\alpha=1$. A triplet fermion gives an additional contribution as in the Triplet-Doublet fermion DM model, which is like the SDFDM with scalar singlet but with the fermion triplet playing the role of the singlet. The triplet fermion gives in addition a radiative type-III seesaw topology. "
   ]
  },
  {
   "cell_type": "code",
   "execution_count": 1,
   "metadata": {
    "collapsed": false
   },
   "outputs": [
    {
     "name": "stdout",
     "output_type": "stream",
     "text": [
      "Populating the interactive namespace from numpy and matplotlib\n"
     ]
    }
   ],
   "source": [
    "%pylab inline"
   ]
  },
  {
   "cell_type": "code",
   "execution_count": 2,
   "metadata": {
    "collapsed": false
   },
   "outputs": [],
   "source": [
    "import pandas as pd\n",
    "import numpy as np\n",
    "from matplotlib.colors import LogNorm\n",
    "import os, sys, inspect\n",
    "import commands\n",
    "from hep import *"
   ]
  },
  {
   "cell_type": "markdown",
   "metadata": {},
   "source": [
    "\n",
    "## Check one point"
   ]
  },
  {
   "cell_type": "code",
   "execution_count": 17,
   "metadata": {
    "collapsed": false
   },
   "outputs": [],
   "source": [
    "a=hep(MODEL='SimplifiedDMSSSFDM')"
   ]
  },
  {
   "cell_type": "markdown",
   "metadata": {},
   "source": [
    "`a-object` is an object with many attributes and methods. Use the tab to explore them. Some of them are\n",
    "* a.Series: [pandas](http://pandas.pydata.org/) Series object with the \"relevant\" variables \n",
    "* a.LHA: Input LesHouces file as [pyslha](https://pypi.python.org/pypi/pyslha/) object\n",
    "* a.runSPheno() -> a.LHA_out: return LHA output files as [pyslha](https://pypi.python.org/pypi/pyslha/) object\n",
    "* a.runmicromegas() -> a.runSPheno() -> Updated the `a-object`  with micrOMEGAS \"relevant\" output"
   ]
  },
  {
   "cell_type": "code",
   "execution_count": 4,
   "metadata": {
    "collapsed": false
   },
   "outputs": [
    {
     "data": {
      "text/plain": [
       "1    2.8000000E-01  # Lambda1IN\n",
       "2      1.0000000E-02  # LamSHIN\n",
       "3       0.0000000E+00  # LamSIN\n",
       "4      2.0000000E+02  # MSinput\n",
       "5     4.0000000E+02  # MDFinput\n",
       "dtype: object"
      ]
     },
     "execution_count": 4,
     "metadata": {},
     "output_type": "execute_result"
    }
   ],
   "source": [
    "pd.Series(a.LHA.blocks['MINPAR'].entries)"
   ]
  },
  {
   "cell_type": "code",
   "execution_count": 5,
   "metadata": {
    "collapsed": false
   },
   "outputs": [
    {
     "data": {
      "text/plain": [
       "'1.             # Write effective Higgs couplings (HiggsBounds blocks): put 0 to use file with MadGraph! '"
      ]
     },
     "execution_count": 5,
     "metadata": {},
     "output_type": "execute_result"
    }
   ],
   "source": [
    "a.LHA.blocks['SPHENOINPUT'].entries[520]"
   ]
  },
  {
   "cell_type": "code",
   "execution_count": 6,
   "metadata": {
    "collapsed": false
   },
   "outputs": [
    {
     "data": {
      "text/plain": [
       "1    0.000000E+00   # Ys(1)\n",
       "2    0.000000E+00   # Ys(2)\n",
       "3    0.000000E+00   # Ys(3)\n",
       "dtype: object"
      ]
     },
     "execution_count": 6,
     "metadata": {},
     "output_type": "execute_result"
    }
   ],
   "source": [
    "pd.Series(a.LHA.blocks['YSIN'].entries)"
   ]
  },
  {
   "cell_type": "code",
   "execution_count": 18,
   "metadata": {
    "collapsed": false
   },
   "outputs": [
    {
     "name": "stdout",
     "output_type": "stream",
     "text": [
      "Omega h^2, SI proton, neutron = 0.0031 2.599e-08 2.669e-08 7.31e-25\n"
     ]
    }
   ],
   "source": [
    "v=a.vev\n",
    "lambda_1=0.26\n",
    "lambda_SH=0.1\n",
    "MS=50**2\n",
    "MF=100\n",
    "Yse=1.\n",
    "Ymu=0\n",
    "Ytau=0\n",
    "devnull=commands.getoutput('rm -f SPheno.spc.%s' %a.MODEL)\n",
    "a.LHA.blocks['SPHENOINPUT'].entries[55]='0               # Calculate one loop masses'\n",
    "a.LHA.blocks['SPHENOINPUT'].entries[520]='0.             # Write effective Higgs couplings (HiggsBounds blocks): put 0 to use file with MadGraph! '\n",
    "a.LHA.blocks['MINPAR'][1]='%0.8E       # lambda1'  %lambda_1\n",
    "a.LHA.blocks['MINPAR'][2]='%0.8E       # lambdaSH'  %lambda_SH\n",
    "a.LHA.blocks['MINPAR'][4]='%0.8E       # MS'  %MS\n",
    "a.LHA.blocks['MINPAR'][5]='%0.8E       # MF' %MF\n",
    "a.LHA.blocks['YSIN'][1]='%0.8E       # Ys(1)' %Yse\n",
    "a.LHA.blocks['YSIN'][2]='%0.8E       # Ys(1)' %Ymu\n",
    "a.LHA.blocks['YSIN'][3]='%0.8E       # Ys(3)' %Ytau\n",
    "moc=a.runmicromegas(Direct_Detection=True)\n",
    "print 'Omega h^2, SI proton, neutron =',a.Series.Omega_h2,a.Series.proton_SI,a.Series.neutron_SI,a.Series.sigmav"
   ]
  },
  {
   "cell_type": "code",
   "execution_count": 52,
   "metadata": {
    "collapsed": false
   },
   "outputs": [
    {
     "data": {
      "text/plain": [
       "25             1.25548349E+02 # hh\n",
       "6666635        2.14621660E+02 # ss\n",
       "23             9.11887000E+01 # VZ\n",
       "24            8.03497269E+01 # VWp\n",
       "1            5.00000000E-03 # Fd_1\n",
       "3            9.50000000E-02 # Fd_2\n",
       "5            4.18000000E+00 # Fd_3\n",
       "2            2.50000000E-03 # Fu_1\n",
       "4            1.27000000E+00 # Fu_2\n",
       "6            1.73500000E+02 # Fu_3\n",
       "11           5.10998930E-04 # Fe_1\n",
       "13           1.05658372E-01 # Fe_2\n",
       "15           1.77669000E+00 # Fe_3\n",
       "210000601     2.65000000E+02 # Fre\n",
       "dtype: object"
      ]
     },
     "execution_count": 52,
     "metadata": {},
     "output_type": "execute_result"
    }
   ],
   "source": [
    "pd.Series(a.LHA_out_with_comments.blocks['MASS'].entries)"
   ]
  },
  {
   "cell_type": "code",
   "execution_count": 56,
   "metadata": {
    "collapsed": true
   },
   "outputs": [],
   "source": [
    "MS2=200**2"
   ]
  },
  {
   "cell_type": "code",
   "execution_count": 57,
   "metadata": {
    "collapsed": false
   },
   "outputs": [
    {
     "data": {
      "text/plain": [
       "214.62165981905724"
      ]
     },
     "execution_count": 57,
     "metadata": {},
     "output_type": "execute_result"
    }
   ],
   "source": []
  },
  {
   "cell_type": "code",
   "execution_count": 30,
   "metadata": {
    "collapsed": false
   },
   "outputs": [
    {
     "name": "stdout",
     "output_type": "stream",
     "text": [
      "\n",
      "Masses of odd sector Particles:\n",
      "~Ss  : MSs   =   200.0 || ~Re  : MRe   =   265.0 || \n",
      "Xf=2.46e+01 Omega h^2=1.55e-01\n",
      "\n",
      "# Channels which contribute to 1/(omega) more than 1%.\n",
      "# Relative contributions in % are displayed\n",
      "   99% ~Ss ~Ss ->e2 E2 \n",
      "\n",
      "==== Calculation of CDM-nucleons amplitudes  =====\n",
      "         TREE LEVEL\n",
      "CDM-nucleon micrOMEGAs amplitudes:\n",
      "proton:  SI  0.000E+00  SD  0.000E+00\n",
      "neutron: SI  0.000E+00  SD  0.000E+00\n",
      "         BOX DIAGRAMS\n",
      "CDM-nucleon micrOMEGAs amplitudes:\n",
      "proton:  SI  0.000E+00  SD  0.000E+00\n",
      "neutron: SI  0.000E+00  SD  0.000E+00\n",
      "CDM-nucleon cross sections[pb]:\n",
      " proton  SI 0.000E+00  SD 0.000E+00\n",
      " neutron SI 0.000E+00  SD 0.000E+00\n",
      "\n",
      "======== Direct Detection ========\n",
      "73Ge: Total number of events=0.00E+00 /day/kg\n",
      "Number of events in 10 - 50 KeV region=0.00E+00 /day/kg\n",
      "131Xe: Total number of events=0.00E+00 /day/kg\n",
      "Number of events in 10 - 50 KeV region=0.00E+00 /day/kg\n",
      "23Na: Total number of events=0.00E+00 /day/kg\n",
      "Number of events in 10 - 50 KeV region=0.00E+00 /day/kg\n",
      "I127: Total number of events=0.00E+00 /day/kg\n",
      "Number of events in 10 - 50 KeV region=0.00E+00 /day/kg\n",
      "\n",
      "======== Indirect Detection ========\n",
      "    Channel          vcs[cm^3/s]\n",
      "==================================\n",
      " annihilation cross section 7.52E-27 cm^3/s\n",
      " contribution of processes\n",
      "  ~Ss,~Ss -> A e2 E2    9.98E-01\n",
      "  ~Ss,~Ss -> e2 E2      1.82E-03\n"
     ]
    }
   ],
   "source": [
    "print moc"
   ]
  },
  {
   "cell_type": "code",
   "execution_count": 6,
   "metadata": {
    "collapsed": false
   },
   "outputs": [
    {
     "data": {
      "text/plain": [
       "25             1.25548349E+02 # hh\n",
       "6666635        9.90000000E+01 # ss\n",
       "23             9.11887000E+01 # VZ\n",
       "24            8.03497269E+01 # VWp\n",
       "1            5.00000000E-03 # Fd_1\n",
       "3            9.50000000E-02 # Fd_2\n",
       "5            4.18000000E+00 # Fd_3\n",
       "2            2.50000000E-03 # Fu_1\n",
       "4            1.27000000E+00 # Fu_2\n",
       "6            1.73500000E+02 # Fu_3\n",
       "11           5.10998930E-04 # Fe_1\n",
       "13           1.05658372E-01 # Fe_2\n",
       "15           1.77669000E+00 # Fe_3\n",
       "210000601     2.00000000E+02 # Fre\n",
       "dtype: object"
      ]
     },
     "execution_count": 6,
     "metadata": {},
     "output_type": "execute_result"
    }
   ],
   "source": [
    "pd.Series(a.LHA_oua.LHA.blocks['YSIN'][1]='%0.8E       # Ys(1)' %Yset_with_comments.blocks['MASS'].entries)"
   ]
  },
  {
   "cell_type": "markdown",
   "metadata": {},
   "source": [
    "## Scan $m_{F}$"
   ]
  },
  {
   "cell_type": "code",
   "execution_count": 7,
   "metadata": {
    "collapsed": false,
    "scrolled": true
   },
   "outputs": [
    {
     "name": "stdout",
     "output_type": "stream",
     "text": [
      "0\n",
      "10\n",
      "20\n",
      "30\n",
      "40\n",
      "50\n",
      "60\n",
      "70\n",
      "80\n",
      "90\n"
     ]
    }
   ],
   "source": [
    "df=pd.DataFrame(np.logspace(np.log10(100),np.log10(1200),100))\n",
    "a.LHA.blocks['SPHENOINPUT'].entries[55]='0               # Calculate one loop masses'\n",
    "df_masses=np.logspace(np.log10(100),np.log10(1200),100)\n",
    "for MF in df_masses:\n",
    "    if np.where(df_masses==MF)[0][0]%10==0: #find the index of the array entry\n",
    "        print np.where(df_masses==MF)[0][0]\n",
    "    a.LHA.blocks['MINPAR'][5]='%0.8E       #MF' %MF  # -> Fill a.Series.MDF\n",
    "    a.runmicromegas(Direct_Detection=True)\n",
    "    df=df.append(a.Series,ignore_index=True)"
   ]
  },
  {
   "cell_type": "markdown",
   "metadata": {},
   "source": [
    "### Relic density"
   ]
  },
  {
   "cell_type": "code",
   "execution_count": 9,
   "metadata": {
    "collapsed": false
   },
   "outputs": [
    {
     "data": {
      "text/plain": [
       "<matplotlib.legend.Legend at 0x7fa0f1860950>"
      ]
     },
     "execution_count": 9,
     "metadata": {},
     "output_type": "execute_result"
    },
    {
     "data": {
      "image/png": "[encoded data removed]",
      "text/plain": [
       "<matplotlib.figure.Figure at 0x7fa0f1974210>"
      ]
     },
     "metadata": {},
     "output_type": "display_data"
    }
   ],
   "source": [
    "plt.semilogy(df.MF,df.Omega_h2,'ko',label='SARAH')\n",
    "plt.xlabel(r'$m_\\psi$ [GeV]',size=20)\n",
    "plt.ylabel(r'$\\Omega h^2$',size=20)\n",
    "plt.grid()\n",
    "plt.xlim(90,200)\n",
    "plt.legend(loc='best')\n",
    "#plt.savefig('omega.pdf')"
   ]
  },
  {
   "cell_type": "code",
   "execution_count": 27,
   "metadata": {
    "collapsed": false
   },
   "outputs": [
    {
     "data": {
      "text/plain": [
       "<matplotlib.legend.Legend at 0x7f5807b6e290>"
      ]
     },
     "execution_count": 27,
     "metadata": {},
     "output_type": "execute_result"
    },
    {
     "data": {
      "image/png": "[encoded data removed]",
      "text/plain": [
       "<matplotlib.figure.Figure at 0x7f5807b28110>"
      ]
     },
     "metadata": {},
     "output_type": "display_data"
    }
   ],
   "source": [
    "plt.semilogy(df.MF,df.proton_SI,'k-',label='SARAH')\n",
    "plt.xlabel(r'$m_\\psi$ [GeV]',size=20)\n",
    "plt.ylabel(r'Direct Detection [pb]' ,size=20)\n",
    "plt.legend(loc='best')\n",
    "#plt.savefig('dd.pdf')"
   ]
  },
  {
   "cell_type": "markdown",
   "metadata": {},
   "source": [
    "## Full scan"
   ]
  },
  {
   "cell_type": "code",
   "execution_count": 128,
   "metadata": {
    "collapsed": true
   },
   "outputs": [],
   "source": [
    "import time"
   ]
  },
  {
   "cell_type": "code",
   "execution_count": 135,
   "metadata": {
    "collapsed": false
   },
   "outputs": [
    {
     "name": "stdout",
     "output_type": "stream",
     "text": [
      "0\n",
      "100\n",
      "200\n",
      "300\n",
      "400\n"
     ]
    },
    {
     "ename": "KeyboardInterrupt",
     "evalue": "",
     "output_type": "error",
     "traceback": [
      "\u001b[0;31m---------------------------------------------------------------------------\u001b[0m",
      "\u001b[0;31mKeyboardInterrupt\u001b[0m                         Traceback (most recent call last)",
      "\u001b[0;32m<ipython-input-135-b9c9b94c64a3>\u001b[0m in \u001b[0;36m<module>\u001b[0;34m()\u001b[0m\n\u001b[1;32m     41\u001b[0m                 \u001b[0mOmega_h2_old\u001b[0m\u001b[0;34m=\u001b[0m\u001b[0ma\u001b[0m\u001b[0;34m.\u001b[0m\u001b[0mSeries\u001b[0m\u001b[0;34m.\u001b[0m\u001b[0mOmega_h2\u001b[0m\u001b[0;34m\u001b[0m\u001b[0m\n\u001b[1;32m     42\u001b[0m \u001b[0;34m\u001b[0m\u001b[0m\n\u001b[0;32m---> 43\u001b[0;31m             \u001b[0ma\u001b[0m\u001b[0;34m.\u001b[0m\u001b[0mrunmicromegas\u001b[0m\u001b[0;34m(\u001b[0m\u001b[0mDirect_Detection\u001b[0m\u001b[0;34m=\u001b[0m\u001b[0mTrue\u001b[0m\u001b[0;34m)\u001b[0m\u001b[0;34m\u001b[0m\u001b[0m\n\u001b[0m\u001b[1;32m     44\u001b[0m             \u001b[0;32mif\u001b[0m \u001b[0mDEBUG\u001b[0m\u001b[0;34m:\u001b[0m\u001b[0;34m\u001b[0m\u001b[0m\n\u001b[1;32m     45\u001b[0m                 \u001b[0;32mprint\u001b[0m \u001b[0mMF\u001b[0m\u001b[0;34m,\u001b[0m\u001b[0mM_S\u001b[0m\u001b[0;34m,\u001b[0m\u001b[0mYse\u001b[0m\u001b[0;34m,\u001b[0m\u001b[0ma\u001b[0m\u001b[0;34m.\u001b[0m\u001b[0mSeries\u001b[0m\u001b[0;34m.\u001b[0m\u001b[0mOmega_h2\u001b[0m\u001b[0;34m,\u001b[0m\u001b[0mnp\u001b[0m\u001b[0;34m.\u001b[0m\u001b[0mabs\u001b[0m\u001b[0;34m(\u001b[0m\u001b[0mOmega_h2_old\u001b[0m\u001b[0;34m-\u001b[0m\u001b[0ma\u001b[0m\u001b[0;34m.\u001b[0m\u001b[0mSeries\u001b[0m\u001b[0;34m.\u001b[0m\u001b[0mOmega_h2\u001b[0m\u001b[0;34m)\u001b[0m\u001b[0;34m\u001b[0m\u001b[0m\n",
      "\u001b[0;32m/home/restrepo/prog/toolbox/mybinders/SimplifiedDM/SSSFDM/tests/hep.pyc\u001b[0m in \u001b[0;36mrunmicromegas\u001b[0;34m(self, path, Direct_Detection, ddcmd)\u001b[0m\n\u001b[1;32m    341\u001b[0m         '''\n\u001b[1;32m    342\u001b[0m \u001b[0;34m\u001b[0m\u001b[0m\n\u001b[0;32m--> 343\u001b[0;31m         \u001b[0mspc\u001b[0m\u001b[0;34m=\u001b[0m\u001b[0mself\u001b[0m\u001b[0;34m.\u001b[0m\u001b[0mrunSPheno\u001b[0m\u001b[0;34m(\u001b[0m\u001b[0;34m)\u001b[0m\u001b[0;34m\u001b[0m\u001b[0m\n\u001b[0m\u001b[1;32m    344\u001b[0m         \u001b[0mmocmd\u001b[0m\u001b[0;34m=\u001b[0m\u001b[0;34m'CalcOmega'\u001b[0m\u001b[0;34m\u001b[0m\u001b[0m\n\u001b[1;32m    345\u001b[0m         \u001b[0;32mif\u001b[0m \u001b[0mDirect_Detection\u001b[0m\u001b[0;34m:\u001b[0m\u001b[0;34m\u001b[0m\u001b[0m\n",
      "\u001b[0;32m/home/restrepo/prog/toolbox/mybinders/SimplifiedDM/SSSFDM/tests/hep.pyc\u001b[0m in \u001b[0;36mrunSPheno\u001b[0;34m(self, LHA, DEBUG)\u001b[0m\n\u001b[1;32m    176\u001b[0m         \u001b[0;31m#writeLHAinFile(xdict,inputLHA)\u001b[0m\u001b[0;34m\u001b[0m\u001b[0;34m\u001b[0m\u001b[0m\n\u001b[1;32m    177\u001b[0m         \u001b[0mpyslha\u001b[0m\u001b[0;34m.\u001b[0m\u001b[0mwriteSLHAFile\u001b[0m\u001b[0;34m(\u001b[0m\u001b[0minputLHA\u001b[0m\u001b[0;34m,\u001b[0m\u001b[0mLHA\u001b[0m\u001b[0;34m)\u001b[0m\u001b[0;34m\u001b[0m\u001b[0m\n\u001b[0;32m--> 178\u001b[0;31m         \u001b[0ma\u001b[0m\u001b[0;34m=\u001b[0m\u001b[0mcommands\u001b[0m\u001b[0;34m.\u001b[0m\u001b[0mgetoutput\u001b[0m\u001b[0;34m(\u001b[0m\u001b[0;34m'%s/%s %s'\u001b[0m \u001b[0;34m%\u001b[0m\u001b[0;34m(\u001b[0m\u001b[0mself\u001b[0m\u001b[0;34m.\u001b[0m\u001b[0mconfig\u001b[0m\u001b[0;34m[\u001b[0m\u001b[0;34m'SPHENO_PATH'\u001b[0m\u001b[0;34m]\u001b[0m\u001b[0;34m,\u001b[0m\u001b[0mSPheno_bin_command\u001b[0m\u001b[0;34m,\u001b[0m\u001b[0minputLHA\u001b[0m\u001b[0;34m)\u001b[0m\u001b[0;34m)\u001b[0m\u001b[0;34m\u001b[0m\u001b[0m\n\u001b[0m\u001b[1;32m    179\u001b[0m         \u001b[0;32mif\u001b[0m \u001b[0mDEBUG\u001b[0m\u001b[0;34m:\u001b[0m\u001b[0;34m\u001b[0m\u001b[0m\n\u001b[1;32m    180\u001b[0m             \u001b[0;32mprint\u001b[0m\u001b[0;34m(\u001b[0m\u001b[0ma\u001b[0m\u001b[0;34m)\u001b[0m\u001b[0;34m\u001b[0m\u001b[0m\n",
      "\u001b[0;32m/usr/lib/python2.7/commands.pyc\u001b[0m in \u001b[0;36mgetoutput\u001b[0;34m(cmd)\u001b[0m\n\u001b[1;32m     48\u001b[0m \u001b[0;32mdef\u001b[0m \u001b[0mgetoutput\u001b[0m\u001b[0;34m(\u001b[0m\u001b[0mcmd\u001b[0m\u001b[0;34m)\u001b[0m\u001b[0;34m:\u001b[0m\u001b[0;34m\u001b[0m\u001b[0m\n\u001b[1;32m     49\u001b[0m     \u001b[0;34m\"\"\"Return output (stdout or stderr) of executing cmd in a shell.\"\"\"\u001b[0m\u001b[0;34m\u001b[0m\u001b[0m\n\u001b[0;32m---> 50\u001b[0;31m     \u001b[0;32mreturn\u001b[0m \u001b[0mgetstatusoutput\u001b[0m\u001b[0;34m(\u001b[0m\u001b[0mcmd\u001b[0m\u001b[0;34m)\u001b[0m\u001b[0;34m[\u001b[0m\u001b[0;36m1\u001b[0m\u001b[0;34m]\u001b[0m\u001b[0;34m\u001b[0m\u001b[0m\n\u001b[0m\u001b[1;32m     51\u001b[0m \u001b[0;34m\u001b[0m\u001b[0m\n\u001b[1;32m     52\u001b[0m \u001b[0;34m\u001b[0m\u001b[0m\n",
      "\u001b[0;32m/usr/lib/python2.7/commands.pyc\u001b[0m in \u001b[0;36mgetstatusoutput\u001b[0;34m(cmd)\u001b[0m\n\u001b[1;32m     58\u001b[0m     \u001b[0;32mimport\u001b[0m \u001b[0mos\u001b[0m\u001b[0;34m\u001b[0m\u001b[0m\n\u001b[1;32m     59\u001b[0m     \u001b[0mpipe\u001b[0m \u001b[0;34m=\u001b[0m \u001b[0mos\u001b[0m\u001b[0;34m.\u001b[0m\u001b[0mpopen\u001b[0m\u001b[0;34m(\u001b[0m\u001b[0;34m'{ '\u001b[0m \u001b[0;34m+\u001b[0m \u001b[0mcmd\u001b[0m \u001b[0;34m+\u001b[0m \u001b[0;34m'; } 2>&1'\u001b[0m\u001b[0;34m,\u001b[0m \u001b[0;34m'r'\u001b[0m\u001b[0;34m)\u001b[0m\u001b[0;34m\u001b[0m\u001b[0m\n\u001b[0;32m---> 60\u001b[0;31m     \u001b[0mtext\u001b[0m \u001b[0;34m=\u001b[0m \u001b[0mpipe\u001b[0m\u001b[0;34m.\u001b[0m\u001b[0mread\u001b[0m\u001b[0;34m(\u001b[0m\u001b[0;34m)\u001b[0m\u001b[0;34m\u001b[0m\u001b[0m\n\u001b[0m\u001b[1;32m     61\u001b[0m     \u001b[0msts\u001b[0m \u001b[0;34m=\u001b[0m \u001b[0mpipe\u001b[0m\u001b[0;34m.\u001b[0m\u001b[0mclose\u001b[0m\u001b[0;34m(\u001b[0m\u001b[0;34m)\u001b[0m\u001b[0;34m\u001b[0m\u001b[0m\n\u001b[1;32m     62\u001b[0m     \u001b[0;32mif\u001b[0m \u001b[0msts\u001b[0m \u001b[0;32mis\u001b[0m \u001b[0mNone\u001b[0m\u001b[0;34m:\u001b[0m \u001b[0msts\u001b[0m \u001b[0;34m=\u001b[0m \u001b[0;36m0\u001b[0m\u001b[0;34m\u001b[0m\u001b[0m\n",
      "\u001b[0;31mKeyboardInterrupt\u001b[0m: "
     ]
    }
   ],
   "source": [
    "st=time.time()\n",
    "a=hep(MODEL='SimplifiedDMSSSFDM')\n",
    "v=a.vev\n",
    "Omega_h2_delta=0.0022\n",
    "CL=3\n",
    "Omega_h2=0.1197\n",
    "Omega_h2_exp=[Omega_h2-CL*Omega_h2_delta,Omega_h2,Omega_h2+CL*Omega_h2_delta]\n",
    "lambda_1=0.26\n",
    "lambda_SH=0\n",
    "a.LHA.blocks['SPHENOINPUT'].entries[55]='0               # Calculate one loop masses'\n",
    "a.LHA.blocks['SPHENOINPUT'].entries[520]='0.             # Write effective Higgs couplings (HiggsBounds blocks): put 0 to use file with MadGraph! '\n",
    "\n",
    "df=pd.DataFrame()\n",
    "a.LHA.blocks['SPHENOINPUT'].entries[55]='0               # Calculate one loop masses'\n",
    "dfmin=100 #40\n",
    "dfmax=600 #1E4\n",
    "npoints=1000\n",
    "df_masses=np.logspace(np.log10(dfmin),np.log10(dfmax),npoints) #np.array([200]) 1E-4\n",
    "DEBUG=False\n",
    "for i in range(1):\n",
    "    for MF in df_masses:\n",
    "        rm1=10**np.random.uniform(np.log10(1E-2),np.log10(3))\n",
    "        r=rm1+1.\n",
    "        M_S=MF/r\n",
    "        MS2=M_S**2-a.vev**2*lambda_SH\n",
    "        Yse_range=np.logspace(np.log10(np.pi),np.log10(1E-3),200)\n",
    "        Omega_h2_old=1E32\n",
    "        for Yse in Yse_range:\n",
    "            devnull=commands.getoutput('rm -f SPheno.spc.%s' %a.MODEL)\n",
    "            Ymu=0. #10**np.random.uniform( log10(1E-3),np.log10(np.pi) )\n",
    "            Ytau=0. #10\n",
    "            a.LHA.blocks['MINPAR'][1]='%0.8E       # lambda1'  %lambda_1\n",
    "            a.LHA.blocks['MINPAR'][2]='%0.8E       # lambdaSH'  %lambda_SH\n",
    "            a.LHA.blocks['MINPAR'][4]='%0.8E       # MS2'  %MS2\n",
    "            a.LHA.blocks['MINPAR'][5]='%0.8E       # MF' %MF\n",
    "            a.LHA.blocks['YSIN'][1]='%0.8E       # Ys(1)' %Yse\n",
    "            a.LHA.blocks['YSIN'][2]='%0.8E       # Ys(2)' %Ymu\n",
    "            a.LHA.blocks['YSIN'][3]='%0.8E       # Ys(3)' %Ytau        \n",
    "            a.LHA.blocks['MINPAR'][5]='%0.8E       #MF' %MF  # -> Fill a.Series.MDF\n",
    "            if hasattr(a, 'Series'):\n",
    "                Omega_h2_old=a.Series.Omega_h2\n",
    "            \n",
    "            a.runmicromegas(Direct_Detection=True)\n",
    "            if DEBUG:\n",
    "                print MF,M_S,Yse,a.Series.Omega_h2,np.abs(Omega_h2_old-a.Series.Omega_h2)\n",
    "            if a.Series.Omega_h2>Omega_h2_exp[0] and a.Series.Omega_h2<Omega_h2_exp[2]:\n",
    "                \n",
    "                a.Series=a.Series.append(block_to_series(a.LHA_out_with_comments.blocks['MASS']))\n",
    "                kk=a.branchings(a.LHA_out.decays,min_pdg=25)\n",
    "                a.Series=a.Series.append(a.Br_names)\n",
    "                df=df.append(a.Series,ignore_index=True)\n",
    "                df.to_excel('tmp.xlsx',index=False)\n",
    "                #Escape small lambdas\n",
    "                if np.abs(Omega_h2_old-Omega_h2)<1E-3:\n",
    "                    break\n",
    "            if a.Series.Omega_h2>Omega_h2_exp[2]: \n",
    "                break\n",
    "                \n",
    "        if DEBUG:\n",
    "            print df.shape,MF,M_S,rm1,a.Series.Omega_h2        \n",
    "        if np.where(df_masses==MF)[0][0]%100==0: #find the index of the array entry\n",
    "            print np.where(df_masses==MF)[0][0]\n",
    "            \n",
    "print(st-time.time())"
   ]
  },
  {
   "cell_type": "code",
   "execution_count": 3,
   "metadata": {
    "collapsed": true
   },
   "outputs": [],
   "source": [
    "df=pd.read_excel('sssfdm.xlsx')"
   ]
  },
  {
   "cell_type": "code",
   "execution_count": 4,
   "metadata": {
    "collapsed": false
   },
   "outputs": [
    {
     "data": {
      "text/plain": [
       "(6118, 72)"
      ]
     },
     "execution_count": 4,
     "metadata": {},
     "output_type": "execute_result"
    }
   ],
   "source": [
    "df.shape"
   ]
  },
  {
   "cell_type": "code",
   "execution_count": 10,
   "metadata": {
    "collapsed": false
   },
   "outputs": [
    {
     "data": {
      "text/html": [
       "<div>\n",
       "<table border=\"1\" class=\"dataframe\">\n",
       "  <thead>\n",
       "    <tr style=\"text-align: right;\">\n",
       "      <th></th>\n",
       "      <th>Fd1</th>\n",
       "      <th>Fd2</th>\n",
       "      <th>Fd3</th>\n",
       "      <th>Fe1</th>\n",
       "      <th>Fe2</th>\n",
       "      <th>Fe3</th>\n",
       "      <th>Fre</th>\n",
       "      <th>Fre -&gt;  E- ss</th>\n",
       "      <th>Fu1</th>\n",
       "      <th>Fu2</th>\n",
       "      <th>...</th>\n",
       "      <th>lambdaSH</th>\n",
       "      <th>mbmbSMMSbar</th>\n",
       "      <th>mtaupole</th>\n",
       "      <th>mtoppole</th>\n",
       "      <th>neutron_SD</th>\n",
       "      <th>neutron_SI</th>\n",
       "      <th>proton_SD</th>\n",
       "      <th>proton_SI</th>\n",
       "      <th>sigmav</th>\n",
       "      <th>ss</th>\n",
       "    </tr>\n",
       "  </thead>\n",
       "  <tbody>\n",
       "    <tr>\n",
       "      <th>0</th>\n",
       "      <td>0.005</td>\n",
       "      <td>0.095</td>\n",
       "      <td>4.18</td>\n",
       "      <td>0.000511</td>\n",
       "      <td>0.105658</td>\n",
       "      <td>1.77669</td>\n",
       "      <td>100.118997</td>\n",
       "      <td>1</td>\n",
       "      <td>0.0025</td>\n",
       "      <td>1.27</td>\n",
       "      <td>...</td>\n",
       "      <td>0</td>\n",
       "      <td>4.18</td>\n",
       "      <td>1.77669</td>\n",
       "      <td>173.5</td>\n",
       "      <td>0</td>\n",
       "      <td>0</td>\n",
       "      <td>0</td>\n",
       "      <td>0</td>\n",
       "      <td>1.070000e-27</td>\n",
       "      <td>87.923243</td>\n",
       "    </tr>\n",
       "  </tbody>\n",
       "</table>\n",
       "<p>1 rows × 72 columns</p>\n",
       "</div>"
      ],
      "text/plain": [
       "     Fd1    Fd2   Fd3       Fe1       Fe2      Fe3         Fre  Fre ->  E- ss  \\\n",
       "0  0.005  0.095  4.18  0.000511  0.105658  1.77669  100.118997              1   \n",
       "\n",
       "      Fu1   Fu2    ...      lambdaSH  mbmbSMMSbar  mtaupole  mtoppole  \\\n",
       "0  0.0025  1.27    ...             0         4.18   1.77669     173.5   \n",
       "\n",
       "   neutron_SD  neutron_SI  proton_SD  proton_SI        sigmav         ss  \n",
       "0           0           0          0          0  1.070000e-27  87.923243  \n",
       "\n",
       "[1 rows x 72 columns]"
      ]
     },
     "execution_count": 10,
     "metadata": {},
     "output_type": "execute_result"
    }
   ],
   "source": [
    "df=df.reset_index(drop=True)\n",
    "df[:1]"
   ]
  },
  {
   "cell_type": "code",
   "execution_count": 11,
   "metadata": {
    "collapsed": false
   },
   "outputs": [
    {
     "data": {
      "text/plain": [
       "(50, 7257.3866200000002)"
      ]
     },
     "execution_count": 11,
     "metadata": {},
     "output_type": "execute_result"
    },
    {
     "name": "stderr",
     "output_type": "stream",
     "text": [
      "/usr/lib/python2.7/dist-packages/matplotlib/collections.py:571: FutureWarning: elementwise comparison failed; returning scalar instead, but in the future will perform elementwise comparison\n",
      "  if self._edgecolors == str('face'):\n"
     ]
    },
    {
     "data": {
      "image/png": "[encoded data removed]",
      "text/plain": [
       "<matplotlib.figure.Figure at 0x7f9b79de1390>"
      ]
     },
     "metadata": {},
     "output_type": "display_data"
    }
   ],
   "source": [
    "df=df[df.MF>=100]\n",
    "plt.hexbin(df.ss,df.Ys1,df.MF/df.ss-1,xscale='log',yscale='log',norm=LogNorm())\n",
    "plt.colorbar()\n",
    "plt.xlim(50,df.MF.max())"
   ]
  },
  {
   "cell_type": "code",
   "execution_count": 13,
   "metadata": {
    "collapsed": false
   },
   "outputs": [],
   "source": [
    "x=np.linspace(80,250,10)\n",
    "excl_8=pd.DataFrame({'MF':x,'m_DM':x-50})\n",
    "excl_8_2=pd.DataFrame()\n",
    "excl_8_2=excl_8_2.append({'MF':300,'m_DM':200},ignore_index=True)\n",
    "excl_8_2=excl_8_2.append({'MF':350,'m_DM':190},ignore_index=True)\n",
    "excl_8_2=excl_8_2.append({'MF':370,'m_DM':180},ignore_index=True)\n",
    "excl_8_2=excl_8_2.append({'MF':390,'m_DM':160},ignore_index=True)\n",
    "excl_8_2=excl_8_2.append({'MF':390,'m_DM':0},ignore_index=True)\n",
    "excl_8=excl_8.append(excl_8_2).reset_index(drop=True)\n",
    "\n"
   ]
  },
  {
   "cell_type": "code",
   "execution_count": 14,
   "metadata": {
    "collapsed": true
   },
   "outputs": [],
   "source": [
    "xs=1.3\n",
    "x=np.linspace(80,250*xs,10)\n",
    "excl_13=pd.DataFrame({'MF':x,'m_DM':x-50})\n",
    "excl_13=excl_13.append({'MF':300*xs,'m_DM':200*xs},ignore_index=True)\n",
    "excl_13=excl_13.append(excl_8_2*1.3).reset_index(drop=True)\n"
   ]
  },
  {
   "cell_type": "code",
   "execution_count": 15,
   "metadata": {
    "collapsed": false
   },
   "outputs": [
    {
     "data": {
      "image/png": "[encoded data removed]",
      "text/plain": [
       "<matplotlib.figure.Figure at 0x7f9b79c22910>"
      ]
     },
     "metadata": {},
     "output_type": "display_data"
    }
   ],
   "source": [
    "MF_max=600\n",
    "plt.hexbin(df[df.MF<MF_max].MF,df[df.MF<MF_max].ss,df[df.MF<MF_max].Ys1,norm=LogNorm())\n",
    "cb=plt.colorbar()\n",
    "x=np.linspace(100,1000,10)\n",
    "plt.plot(x,x,'k--')\n",
    "\n",
    "plt.plot(excl_8.MF,excl_8.m_DM,'k-',lw=2,label=r'Run-I')\n",
    "plt.plot(excl_13.MF,excl_13.m_DM,'k--',lw=4,label=r'Run-II')\n",
    "plt.legend(loc='best')\n",
    "plt.xlabel(r'$m_{\\psi^\\pm}\\ {\\rm (GeV)}$',size=20)\n",
    "plt.ylabel(r'$m_S\\ {\\rm (GeV)}$',size=20)\n",
    "plt.text(630,680,r'$y_e$',size=20)\n",
    "plt.xlim(100,600)\n",
    "plt.ylim(0,650)\n",
    "\n",
    "plt.tight_layout()\n",
    "#plt.savefig('singlet_exc.pdf')"
   ]
  },
  {
   "cell_type": "code",
   "execution_count": 16,
   "metadata": {
    "collapsed": true
   },
   "outputs": [],
   "source": [
    "def get_cross_section(MODEL,definitions=['define p g d1 d1bar d2 d2bar u1 u1bar u2 u2bar'],\\\n",
    "                        processes=['generate p p > wrm QCD=0'],\\\n",
    "                         output_dir='MadOut',script_file='mdgprocess.txt'):\n",
    "    \n",
    "    f=open(script_file,'w')\n",
    "    f.write('import model %s -modelname\\n' %MODEL)\n",
    "    for var in [definitions,processes]:\n",
    "        try:\n",
    "            len(var)\n",
    "        except TypeError:\n",
    "            sys.exit('ERROR: wrong input for: %g' %var)\n",
    "        if type(var)==str:\n",
    "            var=[var]\n",
    "        if len(var)>0:\n",
    "            for v in var:\n",
    "                f.write(v+'\\n')\n",
    "\n",
    "\n",
    "    f.write('output %s -f\\n' %output_dir)\n",
    "    f.write('exit\\n')\n",
    "    f.close()\n",
    "    tmp=commands.getoutput('../madgraph/bin/mg5_aMC  mdgprocess.txt 2> /dev/null > /dev/null')\n",
    "    tmp=commands.getoutput('cp -f SPheno.spc.%s %s/Cards/param_card.dat' %(MODEL,output_dir)\n",
    "    tmp=commands.getoutput(\\\n",
    "     r\"sed -ri 's/\\#\\s+(automatic_html_opening\\s*=\\s*)True/\\1False/' %s/Cards/me5_configuration.txt\"\\\n",
    "                %output_dir)\n",
    "    tmp=commands.getoutput('echo launch %s -f > launch.txt' %output_dir)\n",
    "\n",
    "    tmp=commands.getoutput('../madgraph/bin/mg5_aMC launch.txt > /dev/null 2>/dev/null')\n",
    "    xsec='';delta_xsec=''\n",
    "    d=pd.read_html('MadOut/crossx.html')\n",
    "    xcs=(0,0) \n",
    "    if 'Cross section (pb)' in d[0][3][0]:\n",
    "        cs=d[0][3][1].split(' ')\n",
    "        if len(cs)==3:\n",
    "            xcs=[]\n",
    "            for x in cs[0:3:2]:\n",
    "                try:\n",
    "                    xcs.append(float(x))\n",
    "                except ValueError:\n",
    "                    xcs.append(0)\n",
    "    return tuple(xcs)"
   ]
  },
  {
   "cell_type": "markdown",
   "metadata": {},
   "source": [
    "cross section\n",
    "import model SimplifiedDMSSSFDM -modelname\n",
    "\n",
    "all = g a nu1 nu2 nu3 nu1bar nu2bar nu3bar d1 d2 d3 u1 u2 u3 d1bar d2bar d3bar u1bar u2bar u3bar ss h z wp wpc re e1 e2 e3 rebar e1bar e2bar e3bar\n",
    "l- = e1 e2\n",
    "j = g u1 u2 d1 d2 u1bar u2bar d1bar d2bar\n",
    "vl = nu1 nu2 nu3\n",
    "l+ = e1bar e2bar\n",
    "p = g u1 u2 d1 d2 u1bar u2bar d1bar d2bar\n",
    "vl~ = nu1bar nu2bar nu3bar\n",
    "\n"
   ]
  },
  {
   "cell_type": "code",
   "execution_count": 154,
   "metadata": {
    "collapsed": true
   },
   "outputs": [],
   "source": [
    "df.to_excel('sssfdm.xlsx',index=False)"
   ]
  },
  {
   "cell_type": "markdown",
   "metadata": {},
   "source": [
    "Cross sections"
   ]
  },
  {
   "cell_type": "code",
   "execution_count": 11,
   "metadata": {
    "collapsed": false
   },
   "outputs": [
    {
     "data": {
      "text/html": [
       "<div>\n",
       "<table border=\"1\" class=\"dataframe\">\n",
       "  <thead>\n",
       "    <tr style=\"text-align: right;\">\n",
       "      <th></th>\n",
       "      <th>m_stau</th>\n",
       "      <th>cs_exp</th>\n",
       "      <th>cs_obs</th>\n",
       "    </tr>\n",
       "  </thead>\n",
       "  <tbody>\n",
       "    <tr>\n",
       "      <th>0</th>\n",
       "      <td>90.61</td>\n",
       "      <td>6.77</td>\n",
       "      <td>6.77</td>\n",
       "    </tr>\n",
       "  </tbody>\n",
       "</table>\n",
       "</div>"
      ],
      "text/plain": [
       "   m_stau  cs_exp  cs_obs\n",
       "0   90.61    6.77    6.77"
      ]
     },
     "execution_count": 11,
     "metadata": {},
     "output_type": "execute_result"
    }
   ],
   "source": [
    "tdo=pd.read_csv('full_data/tau_obs.csv')\n",
    "tdo[:1]                "
   ]
  },
  {
   "cell_type": "code",
   "execution_count": 12,
   "metadata": {
    "collapsed": false
   },
   "outputs": [
    {
     "data": {
      "text/html": [
       "<div>\n",
       "<table border=\"1\" class=\"dataframe\">\n",
       "  <thead>\n",
       "    <tr style=\"text-align: right;\">\n",
       "      <th></th>\n",
       "      <th>m_wino</th>\n",
       "      <th>cs</th>\n",
       "      <th>delta_xs</th>\n",
       "    </tr>\n",
       "  </thead>\n",
       "  <tbody>\n",
       "    <tr>\n",
       "      <th>0</th>\n",
       "      <td>100.0</td>\n",
       "      <td>5.550178</td>\n",
       "      <td>0.360378</td>\n",
       "    </tr>\n",
       "  </tbody>\n",
       "</table>\n",
       "</div>"
      ],
      "text/plain": [
       "   m_wino        cs  delta_xs\n",
       "0   100.0  5.550178  0.360378"
      ]
     },
     "execution_count": 12,
     "metadata": {},
     "output_type": "execute_result"
    }
   ],
   "source": [
    "wd=pd.read_csv('full_data/wino_nlo.csv')\n",
    "wd[:1]"
   ]
  },
  {
   "cell_type": "code",
   "execution_count": 13,
   "metadata": {
    "collapsed": false
   },
   "outputs": [
    {
     "data": {
      "text/html": [
       "<div>\n",
       "<table border=\"1\" class=\"dataframe\">\n",
       "  <thead>\n",
       "    <tr style=\"text-align: right;\">\n",
       "      <th></th>\n",
       "      <th>m_higgsino</th>\n",
       "      <th>cs</th>\n",
       "      <th>xs_delta</th>\n",
       "    </tr>\n",
       "  </thead>\n",
       "  <tbody>\n",
       "    <tr>\n",
       "      <th>0</th>\n",
       "      <td>98.070115</td>\n",
       "      <td>1.63</td>\n",
       "      <td>0</td>\n",
       "    </tr>\n",
       "  </tbody>\n",
       "</table>\n",
       "</div>"
      ],
      "text/plain": [
       "   m_higgsino    cs  xs_delta\n",
       "0   98.070115  1.63         0"
      ]
     },
     "execution_count": 13,
     "metadata": {},
     "output_type": "execute_result"
    }
   ],
   "source": [
    "hd=pd.read_csv('full_data/higgsino_nlo.csv')\n",
    "hd[:1]"
   ]
  },
  {
   "cell_type": "code",
   "execution_count": 15,
   "metadata": {
    "collapsed": true
   },
   "outputs": [],
   "source": [
    "xd=pd.read_csv('full_data/d33.cvs')\n",
    "xd=xd.rename_axis({'xs_stau':'cs'},axis='columns')"
   ]
  },
  {
   "cell_type": "code",
   "execution_count": 32,
   "metadata": {
    "collapsed": false
   },
   "outputs": [
    {
     "data": {
      "image/png": "[encoded data removed]",
      "text/plain": [
       "<matplotlib.figure.Figure at 0x7f241aefc950>"
      ]
     },
     "metadata": {},
     "output_type": "display_data"
    }
   ],
   "source": [
    "plt.semilogy(tdo.m_stau,tdo.cs_obs,'ko')\n",
    "plt.semilogy(tdo.m_stau,tdo.cs_obs,'r-', lw=2,  label= r'Observed 95% CL (MVA)')\n",
    "plt.semilogy(xd.m_stau,xd.cs,'m-.',label= r'$ \\sigma( p p \\to \\tilde{\\tau}^+_{R,L} \\tilde{\\tau}^-_{R,L})_{\\rm{NLO}} $' )\n",
    "plt.semilogy(wd.m_wino,wd.cs,'k-',lw=1.5,label= r'$ \\sigma( p p \\to \\psi^{+} \\psi^{-})_{\\rm{NLO}} $ (pure wino)')\n",
    "#plt.semilogy(wd.m_wino,wd.cs*0.3,'r-',lw=1.5)\n",
    "plt.semilogy(hd.m_higgsino,hd.cs,'b--',lw=1.5,label= r'$ \\sigma( p p \\to \\psi^{+} \\psi^{-})_{\\rm{NLO}} $ (pure higgsino)')\n",
    "plt.semilogy(hd.m_higgsino,hd.cs*0.3,'r--',lw=1.5,label= r'$ \\sigma( p p \\to \\psi^{+} \\psi^{-})_{k} $ (charged singlet)')\n",
    "plt.plot([114],[0.95],'y*')\n",
    "plt.plot([283],[0.027],'y*')\n",
    "plt.xlabel(r'$  m_{\\psi^{\\pm}}  $[GeV]',size=20)\n",
    "plt.ylabel(r'$ \\sigma$[pb]',size=20)\n",
    "plt.legend(prop={'size':13},loc=(0.43,0.4))\n",
    "#plt.title(r'$X^+ X^-\\to 2\\times \\tau\\, \\phi_{\\rm{DM}}$: $X^+=\\psi^+,\\ \\tilde{\\tau}^+_{R,L}$')\n",
    "plt.xlim(80,450)\n",
    "plt.ylim(1E-2,1E1)\n",
    "plt.grid()\n",
    "matplotlib.rcParams.update({'font.size': 15})\n",
    "plt.tight_layout(w_pad=-2)\n",
    "plt.savefig('tauMVA.pdf')\n",
    "plt.savefig('tauMVA.svg')"
   ]
  },
  {
   "cell_type": "code",
   "execution_count": 255,
   "metadata": {
    "collapsed": false
   },
   "outputs": [
    {
     "data": {
      "text/plain": [
       "120.0"
      ]
     },
     "execution_count": 255,
     "metadata": {},
     "output_type": "execute_result"
    }
   ],
   "source": [
    "400*0.3"
   ]
  },
  {
   "cell_type": "code",
   "execution_count": 226,
   "metadata": {
    "collapsed": false
   },
   "outputs": [
    {
     "data": {
      "text/plain": [
       "0     5.550178\n",
       "1     4.600000\n",
       "2     3.840278\n",
       "3     3.240000\n",
       "4     2.750000\n",
       "5     2.360000\n",
       "6     2.035227\n",
       "7     1.750000\n",
       "8     1.530000\n",
       "9     1.330000\n",
       "10    1.170000\n",
       "11    1.030500\n",
       "12    0.913000\n",
       "13    0.810000\n",
       "14    0.721000\n",
       "15    0.643000\n",
       "16    0.576000\n",
       "17    0.517000\n",
       "18    0.466000\n",
       "19    0.421004\n",
       "20    0.380000\n",
       "21    0.344000\n",
       "22    0.312000\n",
       "23    0.284000\n",
       "24    0.258030\n",
       "25    0.236035\n",
       "26    0.215000\n",
       "27    0.197995\n",
       "28    0.180999\n",
       "29    0.166000\n",
       "        ...   \n",
       "67    0.011922\n",
       "68    0.011441\n",
       "69    0.010635\n",
       "70    0.009939\n",
       "71    0.009605\n",
       "72    0.008975\n",
       "73    0.008404\n",
       "74    0.008113\n",
       "75    0.007598\n",
       "76    0.007112\n",
       "77    0.005669\n",
       "78    0.004339\n",
       "79    0.003418\n",
       "80    0.002654\n",
       "81    0.002118\n",
       "82    0.001591\n",
       "83    0.001280\n",
       "84    0.001015\n",
       "85    0.000823\n",
       "86    0.000655\n",
       "87    0.000505\n",
       "88    0.000405\n",
       "89    0.000315\n",
       "90    0.000261\n",
       "91    0.000211\n",
       "92    0.000170\n",
       "93    0.000133\n",
       "94    0.000113\n",
       "95    0.000088\n",
       "96    0.000072\n",
       "Name: xs, dtype: float64"
      ]
     },
     "execution_count": 226,
     "metadata": {},
     "output_type": "execute_result"
    }
   ],
   "source": [
    "wd['xs']"
   ]
  },
  {
   "cell_type": "code",
   "execution_count": 181,
   "metadata": {
    "collapsed": false
   },
   "outputs": [
    {
     "data": {
      "text/plain": [
       "0.010101010101010166"
      ]
     },
     "execution_count": 181,
     "metadata": {},
     "output_type": "execute_result"
    }
   ],
   "source": [
    "rm1=r-1\n",
    "rm1"
   ]
  },
  {
   "cell_type": "code",
   "execution_count": 164,
   "metadata": {
    "collapsed": false
   },
   "outputs": [
    {
     "data": {
      "text/plain": [
       "0.64879097543982955"
      ]
     },
     "execution_count": 164,
     "metadata": {},
     "output_type": "execute_result"
    }
   ],
   "source": [
    "np.abs((df.ss/df.MF-1)).max()"
   ]
  },
  {
   "cell_type": "markdown",
   "metadata": {},
   "source": [
    "[![Home](http://www.incredimail.com/images/nav%20bar/home-icon.png)](./) \n",
    "[Jupyter home](./draft.pdf)"
   ]
  }
 ],
 "metadata": {
  "kernelspec": {
   "display_name": "Python 2",
   "language": "python",
   "name": "python2"
  },
  "language_info": {
   "codemirror_mode": {
    "name": "ipython",
    "version": 2
   },
   "file_extension": ".py",
   "mimetype": "text/x-python",
   "name": "python",
   "nbconvert_exporter": "python",
   "pygments_lexer": "ipython2",
   "version": "2.7.9"
  }
 },
 "nbformat": 4,
 "nbformat_minor": 0
}
