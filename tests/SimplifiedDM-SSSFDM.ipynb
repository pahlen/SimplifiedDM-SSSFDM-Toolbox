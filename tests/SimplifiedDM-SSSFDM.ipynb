{
 "cells": [
  {
   "cell_type": "markdown",
   "metadata": {},
   "source": [
    "#  Singlet Scalar Singlet (charged) fermion dark matter model\n",
    "* [arXiv:1307.6181](https://arxiv.org/abs/1307.6181)\n",
    "* [arXiv:1307.6480](https://arxiv.org/abs/1307.6480)\n",
    "## Particle content"
   ]
  },
  {
   "cell_type": "code",
   "execution_count": 61,
   "metadata": {
    "collapsed": false
   },
   "outputs": [
    {
     "data": {
      "text/latex": [
       "\\begin{array}{llllll}\n",
       "\\text{Name} & \\text{Symbol} & \\text{SU}(3)_c & \\text{SU}(2)_L & \\text{U}(1)_Y & Z_2 \\\\ \\hline\n",
       " \\begin{pmatrix}\\nu_L & e_L\\end{pmatrix}^{\\operatorname{T}}&\n",
       "\\begin{pmatrix}\\xi_{1\\alpha} & \\xi_{2\\alpha} \\end{pmatrix}^{\\operatorname{T}}& \\mathbf{1} & \\mathbf{2} & -1/2 & +1\\\\\n",
       "(e_R)^{\\dagger} & \\eta^{\\alpha}_1 & \\mathbf{1} & \\mathbf{1} & +1 & +1 \\\\\n",
       "(\\psi_R)^{\\dagger} & \\eta^{\\alpha}_2 & \\mathbf{1} & \\mathbf{1} & +1 & -1 \\\\\n",
       "\\psi_L & \\xi_{3\\alpha} & \\mathbf{1} & \\mathbf{1} & -1 & -1 \\\\\n",
       "\\end{array}"
      ],
      "text/plain": [
       "<IPython.core.display.Latex object>"
      ]
     },
     "metadata": {},
     "output_type": "display_data"
    }
   ],
   "source": [
    "%%latex\n",
    "\\begin{array}{llllll}\n",
    "\\text{Name} & \\text{Symbol} & \\text{SU}(3)_c & \\text{SU}(2)_L & \\text{U}(1)_Y & Z_2 \\\\ \\hline\n",
    " \\begin{pmatrix}\\nu_L & e_L\\end{pmatrix}^{\\operatorname{T}}&\n",
    "\\begin{pmatrix}\\xi_{1\\alpha} & \\xi_{2\\alpha} \\end{pmatrix}^{\\operatorname{T}}& \\mathbf{1} & \\mathbf{2} & -1/2 & +1\\\\\n",
    "(e_R)^{\\dagger} & \\eta^{\\alpha}_1 & \\mathbf{1} & \\mathbf{1} & +1 & +1 \\\\\n",
    "(\\psi_R)^{\\dagger} & \\eta^{\\alpha}_2 & \\mathbf{1} & \\mathbf{1} & +1 & -1 \\\\\n",
    "\\psi_L & \\xi_{3\\alpha} & \\mathbf{1} & \\mathbf{1} & -1 & -1 \\\\\n",
    "\\end{array}"
   ]
  },
  {
   "cell_type": "markdown",
   "metadata": {},
   "source": [
    "After the spontaneous symmetry breaking, the relevant Yukawa terms are\n",
    "\\begin{align}\n",
    "  \\mathcal{L}=&\\frac{h_e v}{\\sqrt{2}} \\left( \\eta^{\\alpha}_1 \\xi_{2\\alpha} + \\xi_{2\\dot{\\alpha}}^{\\dagger} \\eta^{\\dagger\\dot{\\alpha}}_1   \\right)+ M_{\\psi} \\left(  \\eta^{\\alpha}_2 \\xi_{3\\alpha}+  \\xi_{3\\dot{\\alpha}}^{\\dagger}\\eta^{\\dagger\\dot{\\alpha}}_2 \\right) + h_S \\left(S \\eta^{\\alpha}_1 \\xi_{3\\alpha}\n",
    " + S\\xi_{3\\dot{\\alpha}}^{\\dagger} \\eta^{\\dagger\\dot{\\alpha}}_1   \\right) \n",
    "\\nonumber\\\\\n",
    "      =&\\frac{h_e v}{\\sqrt{2}}\n",
    "      \\begin{pmatrix}\n",
    "       \\eta^{\\alpha}_1 &  \\xi_{2\\dot{\\alpha}}^{\\dagger} \n",
    "      \\end{pmatrix}\n",
    "      \\begin{pmatrix}\n",
    "        \\xi_{2\\alpha} \\\\\n",
    "         \\eta^{\\dagger\\dot{\\alpha}}_1 \n",
    "      \\end{pmatrix}+M_{\\psi}\\begin{pmatrix}\n",
    "       \\eta^{\\alpha}_2 &  \\xi_{3\\dot{\\alpha}}^{\\dagger} \n",
    "      \\end{pmatrix}\n",
    "      \\begin{pmatrix}\n",
    "        \\xi_{3\\alpha} \\\\\n",
    "         \\eta^{\\dagger\\dot{\\alpha}}_2 \n",
    "      \\end{pmatrix}\n",
    "       +\\left[ h_S S\\begin{pmatrix}\n",
    "       \\eta^{\\alpha}_1 &  \\xi_{2\\dot{\\alpha}}^{\\dagger} \n",
    "      \\end{pmatrix}\n",
    "      \\begin{pmatrix}\n",
    "        1 & 0 \\\\\n",
    "        0 & 0\\\\        \n",
    "      \\end{pmatrix}\n",
    "      \\begin{pmatrix}\n",
    "        \\xi_{3\\alpha} \\\\\n",
    "         \\eta^{\\dagger\\dot{\\alpha}}_2 \n",
    "      \\end{pmatrix} +\\text{h.c} \\right]\n",
    "     \\nonumber\\\\\n",
    "      =&\\frac{h_e v}{\\sqrt{2}}\n",
    "      \\begin{pmatrix}\n",
    "     \\xi_{2\\dot{\\alpha}}^{\\dagger} & \\eta^{\\alpha}_1\n",
    "      \\end{pmatrix}\n",
    "      \\begin{pmatrix}\n",
    "       0 & 1\\\\\n",
    "       1 & 0        \n",
    "      \\end{pmatrix}\n",
    "      \\begin{pmatrix}\n",
    "        \\xi_{2\\alpha} \\\\\n",
    "         \\eta^{\\dagger\\dot{\\alpha}}_1 \n",
    "      \\end{pmatrix}\n",
    "+M_{\\psi}\\begin{pmatrix}\n",
    "       \\xi_{3\\dot{\\alpha}}^{\\dagger}  & \\eta^{\\alpha}_2 \n",
    "      \\end{pmatrix}\n",
    "      \\begin{pmatrix}\n",
    "       0 & 1\\\\\n",
    "       1 & 0        \n",
    "      \\end{pmatrix}\n",
    "      \\begin{pmatrix}\n",
    "        \\xi_{3\\alpha} \\\\\n",
    "         \\eta^{\\dagger\\dot{\\alpha}}_2 \n",
    "      \\end{pmatrix}\\nonumber\\\\\n",
    "&+\\left[ h_S S\\begin{pmatrix}\n",
    "       \\xi_{2\\dot{\\alpha}}^{\\dagger}  & \\eta^{\\alpha}_1\n",
    "      \\end{pmatrix}\n",
    "      \\begin{pmatrix}\n",
    "       0 & 1\\\\\n",
    "       1 & 0        \n",
    "      \\end{pmatrix}\n",
    "      \\begin{pmatrix}\n",
    "       1 & 0\\\\\n",
    "       0 & 0        \n",
    "      \\end{pmatrix}\n",
    "      \\begin{pmatrix}\n",
    "        \\xi_{3\\alpha} \\\\\n",
    "         \\eta^{\\dagger\\dot{\\alpha}}_2 \n",
    "      \\end{pmatrix}+\\text{h.c}  \\right]\n",
    "     \\nonumber\n",
    "\\end{align}\n",
    "Defining\n",
    "\\begin{align}\n",
    "  e=&  \\begin{pmatrix}\n",
    "        \\xi_{2\\alpha} \\\\\n",
    "         \\eta^{\\dagger\\dot{\\alpha}}_1 \n",
    "      \\end{pmatrix}=\n",
    "      \\begin{pmatrix}\n",
    "        e_L\\\\\n",
    "        e_R\n",
    "      \\end{pmatrix}& \\Psi= \\begin{pmatrix}\n",
    "        \\xi_{3\\alpha} \\\\\n",
    "         \\eta^{\\dagger\\dot{\\alpha}}_2 \n",
    "      \\end{pmatrix}=\n",
    "      \\begin{pmatrix}\n",
    "          \\psi_L\\\\\n",
    "          \\psi_R        \n",
    "      \\end{pmatrix}\n",
    "\\end{align}\n",
    "the relevant Yukawa Lagrangian in terms of Dirac fermions is\n",
    "\\begin{align}\n",
    "  \\mathcal{L}=&\\frac{h_e v}{\\sqrt{2}} e^{\\dagger}\\gamma^{0}e + M_{\\psi} \\Psi^{\\dagger}\\gamma^{0}\\Psi\n",
    "       + \\left( h_S S e^{\\dagger} \\gamma^0 P_L \\Psi + \\text{h.c} \\right)\n",
    "\\nonumber\\\\\n",
    "      =&\\frac{h_e v}{\\sqrt{2}} \\overline{e}e+M_{\\psi}\\overline{\\Psi}\\Psi+h_S \\left(S\\, \\overline{e} \\Psi_L+\\text{h.c} \\right)\\,,\n",
    "\\end{align}\n",
    "where\n",
    "\\begin{align}\n",
    "  \\Psi_L=P_L\\Psi=\n",
    "  \\begin{pmatrix}\n",
    "    \\psi_L\\\\\n",
    "    0\n",
    "  \\end{pmatrix}\\,.\n",
    "\\end{align}\n",
    "\n",
    "The Inert Zee model extended with a scalar (neutral) singlet, give rise to the model T1-1-C with $\\alpha=1$. A triplet fermion gives an additional contribution as in the Triplet-Doublet fermion DM model, which is like the SDFDM with scalar singlet but with the fermion triplet playing the role of the singlet. The triplet fermion gives in addition a radiative type-III seesaw topology. "
   ]
  },
  {
   "cell_type": "code",
   "execution_count": 1,
   "metadata": {
    "collapsed": false
   },
   "outputs": [
    {
     "name": "stdout",
     "output_type": "stream",
     "text": [
      "Populating the interactive namespace from numpy and matplotlib\n"
     ]
    }
   ],
   "source": [
    "%pylab inline"
   ]
  },
  {
   "cell_type": "code",
   "execution_count": 2,
   "metadata": {
    "collapsed": false
   },
   "outputs": [],
   "source": [
    "import pandas as pd\n",
    "import numpy as np\n",
    "import os, sys, inspect\n",
    "import commands\n",
    "from hep import *"
   ]
  },
  {
   "cell_type": "markdown",
   "metadata": {},
   "source": [
    "\n",
    "## Check one point"
   ]
  },
  {
   "cell_type": "code",
   "execution_count": 3,
   "metadata": {
    "collapsed": false
   },
   "outputs": [],
   "source": [
    "a=hep(MODEL='SimplifiedDMSSSFDM')"
   ]
  },
  {
   "cell_type": "markdown",
   "metadata": {},
   "source": [
    "`a-object` is an object with many attributes and methods. Use the tab to explore them. Some of them are\n",
    "* a.Series: [pandas](http://pandas.pydata.org/) Series object with the \"relevant\" variables \n",
    "* a.LHA: Input LesHouces file as [pyslha](https://pypi.python.org/pypi/pyslha/) object\n",
    "* a.runSPheno() -> a.LHA_out: return LHA output files as [pyslha](https://pypi.python.org/pypi/pyslha/) object\n",
    "* a.runmicromegas() -> a.runSPheno() -> Updated the `a-object`  with micrOMEGAS \"relevant\" output"
   ]
  },
  {
   "cell_type": "code",
   "execution_count": 9,
   "metadata": {
    "collapsed": false
   },
   "outputs": [
    {
     "data": {
      "text/plain": [
       "1    2.8000000E-01  # Lambda1IN\n",
       "2      1.0000000E-02  # LamSHIN\n",
       "3       0.0000000E+00  # LamSIN\n",
       "4      2.0000000E+02  # MSinput\n",
       "5     4.0000000E+02  # MDFinput\n",
       "dtype: object"
      ]
     },
     "execution_count": 9,
     "metadata": {},
     "output_type": "execute_result"
    }
   ],
   "source": [
    "pd.Series(a.LHA.blocks['MINPAR'].entries)"
   ]
  },
  {
   "cell_type": "code",
   "execution_count": 11,
   "metadata": {
    "collapsed": false
   },
   "outputs": [
    {
     "data": {
      "text/plain": [
       "'1.             # Write effective Higgs couplings (HiggsBounds blocks): put 0 to use file with MadGraph! '"
      ]
     },
     "execution_count": 11,
     "metadata": {},
     "output_type": "execute_result"
    }
   ],
   "source": [
    "a.LHA.blocks['SPHENOINPUT'].entries[520]"
   ]
  },
  {
   "cell_type": "code",
   "execution_count": 18,
   "metadata": {
    "collapsed": false
   },
   "outputs": [
    {
     "data": {
      "text/plain": [
       "_dict([(1, '0.000000E+00   # Ys(1)'),\n",
       "       (2, '0.000000E+00   # Ys(2)'),\n",
       "       (3, '0.000000E+00   # Ys(3)')])"
      ]
     },
     "execution_count": 18,
     "metadata": {},
     "output_type": "execute_result"
    }
   ],
   "source": [
    "pd.Series(a.LHA.blocks['YSIN'].entries)"
   ]
  },
  {
   "cell_type": "code",
   "execution_count": 29,
   "metadata": {
    "collapsed": false
   },
   "outputs": [
    {
     "name": "stdout",
     "output_type": "stream",
     "text": [
      "Omega h^2, SI proton, neutron = 0.155 0.0 0.0 7.52e-27\n"
     ]
    }
   ],
   "source": [
    "v=a.vev\n",
    "lambda_1=0.26\n",
    "lambda_SH=0\n",
    "MS=200**2\n",
    "MF=265\n",
    "Yse=0\n",
    "Ymu=2\n",
    "Ytau=0\n",
    "devnull=commands.getoutput('rm -f SPheno.spc.%s' %a.MODEL)\n",
    "a.LHA.blocks['SPHENOINPUT'].entries[55]='0               # Calculate one loop masses'\n",
    "a.LHA.blocks['SPHENOINPUT'].entries[520]='0.             # Write effective Higgs couplings (HiggsBounds blocks): put 0 to use file with MadGraph! '\n",
    "a.LHA.blocks['MINPAR'][1]='%0.8E       # lambda1'  %lambda_1\n",
    "a.LHA.blocks['MINPAR'][2]='%0.8E       # lambdaSH'  %lambda_SH\n",
    "a.LHA.blocks['MINPAR'][4]='%0.8E       # MS'  %MS\n",
    "a.LHA.blocks['MINPAR'][5]='%0.8E       # MF' %MF\n",
    "a.LHA.blocks['YSIN'][1]='%0.8E       # Ys(1)' %Yse\n",
    "a.LHA.blocks['YSIN'][2]='%0.8E       # Ys(1)' %Ymu\n",
    "a.LHA.blocks['YSIN'][3]='%0.8E       # Ys(3)' %Ytau\n",
    "moc=a.runmicromegas(Direct_Detection=True)\n",
    "print 'Omega h^2, SI proton, neutron =',a.Series.Omega_h2,a.Series.proton_SI,a.Series.neutron_SI,a.Series.sigmav"
   ]
  },
  {
   "cell_type": "code",
   "execution_count": 30,
   "metadata": {
    "collapsed": false
   },
   "outputs": [
    {
     "name": "stdout",
     "output_type": "stream",
     "text": [
      "\n",
      "Masses of odd sector Particles:\n",
      "~Ss  : MSs   =   200.0 || ~Re  : MRe   =   265.0 || \n",
      "Xf=2.46e+01 Omega h^2=1.55e-01\n",
      "\n",
      "# Channels which contribute to 1/(omega) more than 1%.\n",
      "# Relative contributions in % are displayed\n",
      "   99% ~Ss ~Ss ->e2 E2 \n",
      "\n",
      "==== Calculation of CDM-nucleons amplitudes  =====\n",
      "         TREE LEVEL\n",
      "CDM-nucleon micrOMEGAs amplitudes:\n",
      "proton:  SI  0.000E+00  SD  0.000E+00\n",
      "neutron: SI  0.000E+00  SD  0.000E+00\n",
      "         BOX DIAGRAMS\n",
      "CDM-nucleon micrOMEGAs amplitudes:\n",
      "proton:  SI  0.000E+00  SD  0.000E+00\n",
      "neutron: SI  0.000E+00  SD  0.000E+00\n",
      "CDM-nucleon cross sections[pb]:\n",
      " proton  SI 0.000E+00  SD 0.000E+00\n",
      " neutron SI 0.000E+00  SD 0.000E+00\n",
      "\n",
      "======== Direct Detection ========\n",
      "73Ge: Total number of events=0.00E+00 /day/kg\n",
      "Number of events in 10 - 50 KeV region=0.00E+00 /day/kg\n",
      "131Xe: Total number of events=0.00E+00 /day/kg\n",
      "Number of events in 10 - 50 KeV region=0.00E+00 /day/kg\n",
      "23Na: Total number of events=0.00E+00 /day/kg\n",
      "Number of events in 10 - 50 KeV region=0.00E+00 /day/kg\n",
      "I127: Total number of events=0.00E+00 /day/kg\n",
      "Number of events in 10 - 50 KeV region=0.00E+00 /day/kg\n",
      "\n",
      "======== Indirect Detection ========\n",
      "    Channel          vcs[cm^3/s]\n",
      "==================================\n",
      " annihilation cross section 7.52E-27 cm^3/s\n",
      " contribution of processes\n",
      "  ~Ss,~Ss -> A e2 E2    9.98E-01\n",
      "  ~Ss,~Ss -> e2 E2      1.82E-03\n"
     ]
    }
   ],
   "source": [
    "print moc"
   ]
  },
  {
   "cell_type": "code",
   "execution_count": 6,
   "metadata": {
    "collapsed": false
   },
   "outputs": [
    {
     "data": {
      "text/plain": [
       "25             1.25548349E+02 # hh\n",
       "6666635        9.90000000E+01 # ss\n",
       "23             9.11887000E+01 # VZ\n",
       "24            8.03497269E+01 # VWp\n",
       "1            5.00000000E-03 # Fd_1\n",
       "3            9.50000000E-02 # Fd_2\n",
       "5            4.18000000E+00 # Fd_3\n",
       "2            2.50000000E-03 # Fu_1\n",
       "4            1.27000000E+00 # Fu_2\n",
       "6            1.73500000E+02 # Fu_3\n",
       "11           5.10998930E-04 # Fe_1\n",
       "13           1.05658372E-01 # Fe_2\n",
       "15           1.77669000E+00 # Fe_3\n",
       "210000601     2.00000000E+02 # Fre\n",
       "dtype: object"
      ]
     },
     "execution_count": 6,
     "metadata": {},
     "output_type": "execute_result"
    }
   ],
   "source": [
    "pd.Series(a.LHA_oua.LHA.blocks['YSIN'][1]='%0.8E       # Ys(1)' %Yset_with_comments.blocks['MASS'].entries)"
   ]
  },
  {
   "cell_type": "markdown",
   "metadata": {},
   "source": [
    "## Scan $m_{F}$"
   ]
  },
  {
   "cell_type": "code",
   "execution_count": 7,
   "metadata": {
    "collapsed": false,
    "scrolled": true
   },
   "outputs": [
    {
     "name": "stdout",
     "output_type": "stream",
     "text": [
      "0\n",
      "10\n",
      "20\n",
      "30\n",
      "40\n",
      "50\n",
      "60\n",
      "70\n",
      "80\n",
      "90\n"
     ]
    }
   ],
   "source": [
    "df=pd.DataFrame(np.logspace(np.log10(100),np.log10(1200),100))\n",
    "a.LHA.blocks['SPHENOINPUT'].entries[55]='0               # Calculate one loop masses'\n",
    "df_masses=np.logspace(np.log10(100),np.log10(1200),100)\n",
    "for MF in df_masses:\n",
    "    if np.where(df_masses==MF)[0][0]%10==0: #find the index of the array entry\n",
    "        print np.where(df_masses==MF)[0][0]\n",
    "    a.LHA.blocks['MINPAR'][5]='%0.8E       #MF' %MF  # -> Fill a.Series.MDF\n",
    "    a.runmicromegas(Direct_Detection=True)\n",
    "    df=df.append(a.Series,ignore_index=True)"
   ]
  },
  {
   "cell_type": "markdown",
   "metadata": {},
   "source": [
    "### Relic density"
   ]
  },
  {
   "cell_type": "code",
   "execution_count": 9,
   "metadata": {
    "collapsed": false
   },
   "outputs": [
    {
     "data": {
      "text/plain": [
       "<matplotlib.legend.Legend at 0x7fa0f1860950>"
      ]
     },
     "execution_count": 9,
     "metadata": {},
     "output_type": "execute_result"
    },
    {
     "data": {
      "image/png": "[encoded data removed]",
      "text/plain": [
       "<matplotlib.figure.Figure at 0x7fa0f1974210>"
      ]
     },
     "metadata": {},
     "output_type": "display_data"
    }
   ],
   "source": [
    "plt.semilogy(df.MF,df.Omega_h2,'ko',label='SARAH')\n",
    "plt.xlabel(r'$m_\\psi$ [GeV]',size=20)\n",
    "plt.ylabel(r'$\\Omega h^2$',size=20)\n",
    "plt.grid()\n",
    "plt.xlim(90,200)\n",
    "plt.legend(loc='best')\n",
    "#plt.savefig('omega.pdf')"
   ]
  },
  {
   "cell_type": "code",
   "execution_count": 27,
   "metadata": {
    "collapsed": false
   },
   "outputs": [
    {
     "data": {
      "text/plain": [
       "<matplotlib.legend.Legend at 0x7f5807b6e290>"
      ]
     },
     "execution_count": 27,
     "metadata": {},
     "output_type": "execute_result"
    },
    {
     "data": {
      "image/png": "[encoded data removed]",
      "text/plain": [
       "<matplotlib.figure.Figure at 0x7f5807b28110>"
      ]
     },
     "metadata": {},
     "output_type": "display_data"
    }
   ],
   "source": [
    "plt.semilogy(df.MF,df.proton_SI,'k-',label='SARAH')\n",
    "plt.xlabel(r'$m_\\psi$ [GeV]',size=20)\n",
    "plt.ylabel(r'Direct Detection [pb]' ,size=20)\n",
    "plt.legend(loc='best')\n",
    "#plt.savefig('dd.pdf')"
   ]
  },
  {
   "cell_type": "markdown",
   "metadata": {},
   "source": [
    "[![Home](http://www.incredimail.com/images/nav%20bar/home-icon.png)](./) \n",
    "[Jupyter home](./draft.pdf)"
   ]
  }
 ],
 "metadata": {
  "kernelspec": {
   "display_name": "Python 2",
   "language": "python",
   "name": "python2"
  },
  "language_info": {
   "codemirror_mode": {
    "name": "ipython",
    "version": 2
   },
   "file_extension": ".py",
   "mimetype": "text/x-python",
   "name": "python",
   "nbconvert_exporter": "python",
   "pygments_lexer": "ipython2",
   "version": "2.7.9"
  }
 },
 "nbformat": 4,
 "nbformat_minor": 0
}
