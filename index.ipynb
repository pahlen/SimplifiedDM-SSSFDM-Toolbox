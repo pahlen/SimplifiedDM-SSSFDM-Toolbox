{
 "cells": [
  {
   "cell_type": "markdown",
   "metadata": {},
   "source": [
    "# SARAH Toolbox\n",
    "## Collection of models to be run from a docker image\n",
    "Launch virtual docker image: \n",
    "[![Binder](http://mybinder.org/badge.svg)](http://mybinder.org/repo/restrepo/SimplifiedDMSSSFDM-Toolbox)\n",
    "\n",
    "[Jupyter home](./) (Files, New -> Terminal, etc)\n",
    "[![Home](http://www.incredimail.com/images/nav%20bar/home-icon.png)](./)\n",
    "\n",
    "### Highly recommended:\n",
    "[Run from a terminal](../terminals/1):\n",
    "[![T](http://mysitemyway.com/_shared/images/icons/full_color/terminal.png)](../terminals/1)\n",
    "## Implemented models\n",
    "Each model is to be run in a specific virtual machine. Follow the binder button in each github repo\n",
    "* `SARAH/Models/SSDM/` (for test purposes)\n",
    "* `SARAH/Models/SM/HighScale` (For RGE running: ./butler SM/HighScale) [Repo](https://github.com/restrepo/SM-Toolbox/)\n",
    "* `SARAH/Models/SimplifiedDM/DFDM` (This image)\n",
    "* `SARAH/Models/SimplifiedDM/SDFDM` (This image)\n",
    "\n",
    "## Instructions to compile the model\n",
    "In `SPHENO` and `micromegas`\n",
    "\n",
    "See possible analysis based on the models in  [./tests](./tests) folder.\n",
    "\n",
    "Below we define the model to be compiled:"
   ]
  },
  {
   "cell_type": "code",
   "execution_count": 1,
   "metadata": {
    "collapsed": false
   },
   "outputs": [
    {
     "name": "stdout",
     "output_type": "stream",
     "text": []
    }
   ],
   "source": [
    "MODEL=SimplifiedDMSSSFDM"
   ]
  },
  {
   "cell_type": "markdown",
   "metadata": {},
   "source": [
    "To better control in the outputs, it is recomended that the commands be executed [from a terminal](../terminals/1). Only possible errors are to be shown below"
   ]
  },
  {
   "cell_type": "code",
   "execution_count": null,
   "metadata": {
    "collapsed": false
   },
   "outputs": [],
   "source": [
    "cd SPHENO\n",
    "make Model=$MODEL > /dev/null\n",
    "cd .."
   ]
  },
  {
   "cell_type": "markdown",
   "metadata": {},
   "source": [
    "make a work dir"
   ]
  },
  {
   "cell_type": "code",
   "execution_count": 3,
   "metadata": {
    "collapsed": false
   },
   "outputs": [
    {
     "name": "stdout",
     "output_type": "stream",
     "text": []
    }
   ],
   "source": [
    "mkdir -p test_compilation\n",
    "cd test_compilation"
   ]
  },
  {
   "cell_type": "code",
   "execution_count": 4,
   "metadata": {
    "collapsed": false
   },
   "outputs": [
    {
     "name": "stdout",
     "output_type": "stream",
     "text": []
    }
   ],
   "source": [
    "LHAINPUT=../SPHENO/$MODEL/Input_Files/LesHouches.in.$MODEL\n",
    "if [ -f ../SARAH/Models/$MODEL/LesHouches.in.$MODEL ]; then\n",
    "   LHAINPUT=../SARAH/Models/$MODEL/LesHouches.in.$MODEL\n",
    "fi\n",
    "cp $LHAINPUT . #only a number of limited charactes accepted as input"
   ]
  },
  {
   "cell_type": "markdown",
   "metadata": {},
   "source": [
    "Run SPheno and generate LHA output file. However, there is one caveat in `MadGraph`: `MadEvent` has problems with reading the HiggsBounds specific blocks in the SPheno spectrum file (`HiggsBoundsInputHiggsCouplingsFermions` and `HiggsBoundsInputHiggsCouplingsBosons`). If these blocks are included, MadEvent won’t accept the file. Therefore, The `HiggsBounds` blocks need to be disabled:"
   ]
  },
  {
   "cell_type": "code",
   "execution_count": 5,
   "metadata": {
    "collapsed": false
   },
   "outputs": [
    {
     "name": "stdout",
     "output_type": "stream",
     "text": []
    }
   ],
   "source": [
    "sed -ri 's/(^520) 1/\\1 0/' LesHouches.in.$MODEL"
   ]
  },
  {
   "cell_type": "markdown",
   "metadata": {},
   "source": [
    "In fact:"
   ]
  },
  {
   "cell_type": "code",
   "execution_count": 6,
   "metadata": {
    "collapsed": false
   },
   "outputs": [
    {
     "name": "stdout",
     "output_type": "stream",
     "text": [
      "520 0.              # Write effective Higgs couplings (HiggsBounds blocks): put 0 to use file with MadGraph! \r\n"
     ]
    }
   ],
   "source": [
    "grep ^520 LesHouches.in.$MODEL"
   ]
  },
  {
   "cell_type": "markdown",
   "metadata": {},
   "source": [
    "We now run the spectrum generator"
   ]
  },
  {
   "cell_type": "code",
   "execution_count": 7,
   "metadata": {
    "collapsed": false
   },
   "outputs": [
    {
     "name": "stdout",
     "output_type": "stream",
     "text": [
      " Calculating branching ratios and decay widths\r\n",
      " Calculating low energy constraints\r\n",
      " Writing output files\r\n",
      " Finished!\r\n"
     ]
    }
   ],
   "source": [
    "../SPHENO/bin/SPheno$MODEL LesHouches.in.$MODEL"
   ]
  },
  {
   "cell_type": "markdown",
   "metadata": {},
   "source": [
    "with the LHA output:"
   ]
  },
  {
   "cell_type": "code",
   "execution_count": 8,
   "metadata": {
    "collapsed": false
   },
   "outputs": [
    {
     "name": "stdout",
     "output_type": "stream",
     "text": [
      "SPheno.spc.SimplifiedDMSSSFDM\r\n"
     ]
    }
   ],
   "source": [
    "ls SPheno.spc.$MODEL"
   ]
  },
  {
   "cell_type": "markdown",
   "metadata": {},
   "source": [
    "## micrOMEGAS"
   ]
  },
  {
   "cell_type": "code",
   "execution_count": 9,
   "metadata": {
    "collapsed": false
   },
   "outputs": [
    {
     "name": "stdout",
     "output_type": "stream",
     "text": [
      "ar: creating ../../lib/serv.a\r\n",
      "ar: creating ../../lib/symb.a\r\n",
      "ar: creating /home/restrepo/prog/toolbox/mybinders/SimplifiedDM/SSSFDM/micromegas/CalcHEP_src/lib/ntools.a\r\n",
      "vegas.c:48:6: warning: no previous prototype for ‘setEventCubes’ [-Wmissing-prototypes]\r\n",
      " void setEventCubes(vegasGrid*vegPtr, long nCubes)\r\n",
      "      ^\r\n",
      "ar: creating ../../lib/dynamic_me.a\r\n",
      "ar: creating ../../lib/dynamic_vp.a\r\n",
      "ar: creating /home/restrepo/prog/toolbox/mybinders/SimplifiedDM/SSSFDM/micromegas/CalcHEP_src/lib/num_c.a\r\n",
      "runVegas.c: In function ‘readVegasGrid’:\r\n",
      "runVegas.c:346:5: warning: implicit declaration of function ‘setEventCubes’ [-Wimplicit-function-declaration]\r\n",
      "     setEventCubes(veg_Ptr, nCubes);\r\n",
      "     ^\r\n",
      "ar: creating /home/restrepo/prog/toolbox/mybinders/SimplifiedDM/SSSFDM/micromegas/CalcHEP_src/lib/dummy.a\r\n",
      "pdf_dummy.c:7:9: warning: no previous prototype for ‘alphaspdfm_’ [-Wmissing-prototypes]\r\n",
      " double  alphaspdfm_(int*LHA, double *Q ){ return 0.12;}\r\n",
      "         ^\r\n",
      "dummy_output.c:43:8: warning: no previous prototype for ‘varAddress’ [-Wmissing-prototypes]\r\n",
      " REAL * varAddress(char *name) { return 0;}\r\n",
      "        ^\r\n",
      "dummy_output.c:43:8: warning: no previous prototype for ‘varAddress’ [-Wmissing-prototypes]\r\n",
      " REAL * varAddress(char *name) { return 0;}\r\n",
      "        ^\r\n",
      "dummy_output.c:43:8: warning: no previous prototype for ‘varAddress’ [-Wmissing-prototypes]\r\n",
      " REAL * varAddress(char *name) { return 0;}\r\n",
      "        ^\r\n",
      "dummy_output.c:43:8: warning: no previous prototype for ‘varAddress’ [-Wmissing-prototypes]\r\n",
      " REAL * varAddress(char *name) { return 0;}\r\n",
      "        ^\r\n",
      "ar: creating /home/restrepo/prog/toolbox/mybinders/SimplifiedDM/SSSFDM/micromegas/CalcHEP_src/lib/libSLHAplus.a\r\n",
      "fortran.c:43:6: warning: no previous prototype for ‘slhareadstream_’ [-Wmissing-prototypes]\r\n",
      " int  slhareadstream_(int *N, int *mode, char * end, int len )\r\n",
      "      ^\r\n",
      "fortran.c:56:5: warning: no previous prototype for ‘slharead_’ [-Wmissing-prototypes]\r\n",
      " int slharead_(char * fname, int * mode, int len)\r\n",
      "     ^\r\n",
      "fortran.c:66:5: warning: no previous prototype for ‘slhawrite_’ [-Wmissing-prototypes]\r\n",
      " int slhawrite_(char *fname, int len)\r\n",
      "     ^\r\n",
      "fortran.c:72:5: warning: no previous prototype for ‘slhadecayexists_’ [-Wmissing-prototypes]\r\n",
      " int slhadecayexists_(int *pNum){ return slhaDecayExists(*pNum);}\r\n",
      "     ^\r\n",
      "fortran.c:74:8: warning: no previous prototype for ‘slhawidth_’ [-Wmissing-prototypes]\r\n",
      " double slhawidth_(int *pNum)\r\n",
      "        ^\r\n",
      "fortran.c:77:8: warning: no previous prototype for ‘slhabranch_’ [-Wmissing-prototypes]\r\n",
      " double slhabranch_(int*pNum,int*N,int*nCh)\r\n",
      "        ^\r\n",
      "fortran.c:80:8: warning: no previous prototype for ‘slhaval0_’ [-Wmissing-prototypes]\r\n",
      " double slhaval0_(char * Block, double *Q, int len)\r\n",
      "        ^\r\n",
      "fortran.c:89:8: warning: no previous prototype for ‘slhaval1_’ [-Wmissing-prototypes]\r\n",
      " double slhaval1_(char * Block, double *Q, int *k1, int len)\r\n",
      "        ^\r\n",
      "fortran.c:98:8: warning: no previous prototype for ‘slhaval2_’ [-Wmissing-prototypes]\r\n",
      " double slhaval2_(char * Block, double *Q, int *k1,int*k2, int len)\r\n",
      "        ^\r\n",
      "fortran.c:107:8: warning: no previous prototype for ‘slhaval3_’ [-Wmissing-prototypes]\r\n",
      " double slhaval3_(char * Block, double *Q, int *k1,int*k2,int*k3, int len)\r\n",
      "        ^\r\n",
      "fortran.c:116:16: warning: no previous prototype for ‘cslhaval0_’ [-Wmissing-prototypes]\r\n",
      " double complex cslhaval0_(char * Block, double *Q, int len)\r\n",
      "                ^\r\n",
      "fortran.c:126:17: warning: no previous prototype for ‘cslhaval1_’ [-Wmissing-prototypes]\r\n",
      " double complex  cslhaval1_(char * Block, double *Q, int *k1, int len)\r\n",
      "                 ^\r\n",
      "fortran.c:135:16: warning: no previous prototype for ‘cslhaval2_’ [-Wmissing-prototypes]\r\n",
      " double complex cslhaval2_(char * Block, double *Q, int *k1,int*k2, int len)\r\n",
      "                ^\r\n",
      "fortran.c:144:16: warning: no previous prototype for ‘cslhaval3_’ [-Wmissing-prototypes]\r\n",
      " double complex cslhaval3_(char * Block, double *Q, int *k1,int*k2,int*k3, int len)\r\n",
      "                ^\r\n",
      "fortran.c:154:5: warning: no previous prototype for ‘slhavalexists0_’ [-Wmissing-prototypes]\r\n",
      " int slhavalexists0_(char * Block, int len)\r\n",
      "     ^\r\n",
      "fortran.c:160:5: warning: no previous prototype for ‘slhavalexists1_’ [-Wmissing-prototypes]\r\n",
      " int slhavalexists1_(char * Block, int*k1, int len)\r\n",
      "     ^\r\n",
      "fortran.c:166:5: warning: no previous prototype for ‘slhavalexists2_’ [-Wmissing-prototypes]\r\n",
      " int slhavalexists2_(char * Block, int*k1, int*k2, int len)\r\n",
      "     ^\r\n",
      "fortran.c:172:5: warning: no previous prototype for ‘slhavalexists3_’ [-Wmissing-prototypes]\r\n",
      " int slhavalexists3_(char * Block, int*k1, int*k2, int*k3, int len)\r\n",
      "     ^\r\n",
      "fortran.c:179:5: warning: no previous prototype for ‘findqnumbers_’ [-Wmissing-prototypes]\r\n",
      " int findqnumbers_(int *pdg,int*eQ3,int*spinDim,int*cDim,int*neutral)\r\n",
      "     ^\r\n",
      "fortran.c:184:5: warning: no previous prototype for ‘allqnumbers_’ [-Wmissing-prototypes]\r\n",
      " int allqnumbers_(int *i, int*pdg,int*eQ3,int*spinDim,int*cDim,int*neutral)\r\n",
      "     ^\r\n",
      "fortran.c:193:5: warning: no previous prototype for ‘allblocks_’ [-Wmissing-prototypes]\r\n",
      " int allblocks_(int *i,int*j,char*name,int*Len,int*key, double complex * val,int l)       \r\n",
      "     ^\r\n",
      "fortran.c:205:5: warning: no previous prototype for ‘alldecays_’ [-Wmissing-prototypes]\r\n",
      " int alldecays_(int*i,int*j,int*pdg,int*Len,int*decay,double*width,double*br)\r\n",
      "     ^\r\n",
      "fortran.c:215:5: warning: no previous prototype for ‘openappend_’ [-Wmissing-prototypes]\r\n",
      " int openappend_(char *fileName,int len)\r\n",
      "     ^\r\n",
      "fortran.c:225:5: warning: no previous prototype for ‘system1_’ [-Wmissing-prototypes]\r\n",
      " int system1_(char *command, int len)\r\n",
      "     ^\r\n",
      "fortran.c:235:5: warning: no previous prototype for ‘system2_’ [-Wmissing-prototypes]\r\n",
      " int system2_(char *format, char*path, int len1,int len2)\r\n",
      "     ^\r\n",
      "fortran.c:246:6: warning: no previous prototype for ‘setsystimelim_’ [-Wmissing-prototypes]\r\n",
      " void setsystimelim_(int *lim, int *quant)\r\n",
      "      ^\r\n",
      "fortran.c:251:5: warning: no previous prototype for ‘aprintf0_’ [-Wmissing-prototypes]\r\n",
      " int aprintf0_(char * format, int len)\r\n",
      "     ^\r\n",
      "fortran.c:258:5: warning: no previous prototype for ‘aprintf1_’ [-Wmissing-prototypes]\r\n",
      " int aprintf1_(char * format, double * x1,int len)\r\n",
      "     ^\r\n",
      "fortran.c:265:5: warning: no previous prototype for ‘aprintf2_’ [-Wmissing-prototypes]\r\n",
      " int aprintf2_(char * format, double * x1, double *x2,int len)\r\n",
      "     ^\r\n",
      "fortran.c:272:5: warning: no previous prototype for ‘aprintf3_’ [-Wmissing-prototypes]\r\n",
      " int aprintf3_(char * format, double*x1,double*x2,double*x3, int len)\r\n",
      "     ^\r\n",
      "fortran.c:279:5: warning: no previous prototype for ‘aprintf4_’ [-Wmissing-prototypes]\r\n",
      " int aprintf4_(char * format, double*x1,double*x2,double*x3,double*x4,int len)\r\n",
      "     ^\r\n",
      "fortran.c:286:5: warning: no previous prototype for ‘aprintf5_’ [-Wmissing-prototypes]\r\n",
      " int aprintf5_(char * format, double*x1,double*x2,double*x3,double*x4,double*x5,int len)\r\n",
      "     ^\r\n",
      "fortran.c:293:8: warning: no previous prototype for ‘slhavalformat_’ [-Wmissing-prototypes]\r\n",
      " double slhavalformat_(char * Block, double *Q, char * format,int len1,int len2)\r\n",
      "        ^\r\n",
      "fortran.c:305:5: warning: no previous prototype for ‘slhastrformat_’ [-Wmissing-prototypes]\r\n",
      " int slhastrformat_(char * Block, char * format, char * fRes, int len1,int len2,int len3)\r\n",
      "     ^\r\n",
      "fortran.c:321:5: warning: no previous prototype for ‘rjacobi_’ [-Wmissing-prototypes]\r\n",
      " int rjacobi_(double*a,int*n,double*d,double*v){ return rJacobi(a,*n,d,v); }\r\n",
      "     ^\r\n",
      "fortran.c:323:5: warning: no previous prototype for ‘rjacobia_’ [-Wmissing-prototypes]\r\n",
      " int rjacobia_(double*a,int*n,double*d,double*u,double*v)\r\n",
      "     ^\r\n",
      "fortran.c:325:5: warning: no previous prototype for ‘cjacobih_’ [-Wmissing-prototypes]\r\n",
      " int cjacobih_(double complex*a,int*n,double*d,double complex*v){return cJacobiH(a,*n,d,v);}\r\n",
      "     ^\r\n",
      "fortran.c:326:5: warning: no previous prototype for ‘cjacobis_’ [-Wmissing-prototypes]\r\n",
      " int cjacobis_(double complex*a,int*n,double*d,double complex*v){return cJacobiS(a,*n,d,v);}\r\n",
      "     ^\r\n",
      "fortran.c:327:5: warning: no previous prototype for ‘cjacobia_’ [-Wmissing-prototypes]\r\n",
      " int cjacobia_(double complex*a,int*n,double*d,double complex*u,double complex*v)\r\n",
      "     ^\r\n",
      "fortran.c:330:5: warning: no previous prototype for ‘initdiagonal_’ [-Wmissing-prototypes]\r\n",
      " int initdiagonal_(void) { return initDiagonal();}\r\n",
      "     ^\r\n",
      "fortran.c:332:5: warning: no previous prototype for ‘rdiagonal2_’ [-Wmissing-prototypes]\r\n",
      " int rdiagonal2_(aList3(double*))  { return rDiagonal(2,aList3(*));}\r\n",
      "     ^\r\n",
      "fortran.c:333:5: warning: no previous prototype for ‘rdiagonal3_’ [-Wmissing-prototypes]\r\n",
      " int rdiagonal3_(aList6(double*))  { return rDiagonal(3,aList6(*));}\r\n",
      "     ^\r\n",
      "fortran.c:334:5: warning: no previous prototype for ‘rdiagonal4_’ [-Wmissing-prototypes]\r\n",
      " int rdiagonal4_(aList10(double*)) { return rDiagonal(4,aList10(*));}\r\n",
      "     ^\r\n",
      "fortran.c:335:5: warning: no previous prototype for ‘rdiagonal5_’ [-Wmissing-prototypes]\r\n",
      " int rdiagonal5_(aList15(double*)) { return rDiagonal(5,aList15(*));}\r\n",
      "     ^\r\n",
      "fortran.c:337:5: warning: no previous prototype for ‘cdiagonalh2_’ [-Wmissing-prototypes]\r\n",
      " int cdiagonalh2_(aList3(double complex*))  { return cDiagonalH(2,aList3(*));}\r\n",
      "     ^\r\n",
      "fortran.c:338:5: warning: no previous prototype for ‘cdiagonalh3_’ [-Wmissing-prototypes]\r\n",
      " int cdiagonalh3_(aList6(double complex*))  { return cDiagonalH(3,aList6(*));}\r\n",
      "     ^\r\n",
      "fortran.c:339:5: warning: no previous prototype for ‘cdiagonalh4_’ [-Wmissing-prototypes]\r\n",
      " int cdiagonalh4_(aList10(double complex*)) { return cDiagonalH(4,aList10(*));}\r\n",
      "     ^\r\n",
      "fortran.c:340:5: warning: no previous prototype for ‘cdiagonalh5_’ [-Wmissing-prototypes]\r\n",
      " int cdiagonalh5_(aList15(double complex*)) { return cDiagonalH(5,aList15(*));}\r\n",
      "     ^\r\n",
      "fortran.c:342:5: warning: no previous prototype for ‘cdiagonals2_’ [-Wmissing-prototypes]\r\n",
      " int cdiagonals2_(aList3(double complex*))  { return cDiagonalS(2,aList3(*));}\r\n",
      "     ^\r\n",
      "fortran.c:343:5: warning: no previous prototype for ‘cdiagonals3_’ [-Wmissing-prototypes]\r\n",
      " int cdiagonals3_(aList6(double complex*))  { return cDiagonalS(3,aList6(*));}\r\n",
      "     ^\r\n",
      "fortran.c:344:5: warning: no previous prototype for ‘cdiagonals4_’ [-Wmissing-prototypes]\r\n",
      " int cdiagonals4_(aList10(double complex*)) { return cDiagonalS(4,aList10(*));}\r\n",
      "     ^\r\n",
      "fortran.c:345:5: warning: no previous prototype for ‘cdiagonals5_’ [-Wmissing-prototypes]\r\n",
      " int cdiagonals5_(aList15(double complex*)) { return cDiagonalS(5,aList15(*));}\r\n",
      "     ^\r\n",
      "fortran.c:347:5: warning: no previous prototype for ‘cdiagonala2_’ [-Wmissing-prototypes]\r\n",
      " int cdiagonala2_(aList4(double complex*))  { return cDiagonalA(2,aList4(*));}\r\n",
      "     ^\r\n",
      "fortran.c:348:5: warning: no previous prototype for ‘cdiagonala3_’ [-Wmissing-prototypes]\r\n",
      " int cdiagonala3_(aList9(double complex*))  { return cDiagonalA(3,aList9(*));}\r\n",
      "     ^\r\n",
      "fortran.c:349:5: warning: no previous prototype for ‘cdiagonala4_’ [-Wmissing-prototypes]\r\n",
      " int cdiagonala4_(aList16(double complex*)) { return cDiagonalA(4,aList16(*));}\r\n",
      "     ^\r\n",
      "fortran.c:350:5: warning: no previous prototype for ‘cdiagonala5_’ [-Wmissing-prototypes]\r\n",
      " int cdiagonala5_(aList25(double complex*)) { return cDiagonalA(5,aList25(*));}\r\n",
      "     ^\r\n",
      "fortran.c:352:5: warning: no previous prototype for ‘rdiagonala2_’ [-Wmissing-prototypes]\r\n",
      " int rdiagonala2_(aList4(double*))  { return rDiagonalA(2,aList4(*));}\r\n",
      "     ^\r\n",
      "fortran.c:353:5: warning: no previous prototype for ‘rdiagonala3_’ [-Wmissing-prototypes]\r\n",
      " int rdiagonala3_(aList9(double*))  { return rDiagonalA(3,aList9(*));}\r\n",
      "     ^\r\n",
      "fortran.c:354:5: warning: no previous prototype for ‘rdiagonala4_’ [-Wmissing-prototypes]\r\n",
      " int rdiagonala4_(aList16(double*)) { return rDiagonalA(4,aList16(*));}\r\n",
      "     ^\r\n",
      "fortran.c:355:5: warning: no previous prototype for ‘rdiagonala5_’ [-Wmissing-prototypes]\r\n",
      " int rdiagonala5_(aList25(double*)) { return rDiagonalA(5,aList25(*));}\r\n",
      "     ^\r\n",
      "fortran.c:357:9: warning: no previous prototype for ‘massarray_’ [-Wmissing-prototypes]\r\n",
      " double  massarray_(int * id, int *i){ return   MassArray(*id,  *i);}\r\n",
      "         ^\r\n",
      "fortran.c:358:10: warning: no previous prototype for ‘mixmatrix_’ [-Wmissing-prototypes]\r\n",
      " double   mixmatrix_ (int*id, int*i,int*j){ return    MixMatrix (*id,*i,*j);}\r\n",
      "          ^\r\n",
      "fortran.c:359:10: warning: no previous prototype for ‘mixmatrixu_’ [-Wmissing-prototypes]\r\n",
      " double   mixmatrixu_(int*id, int*i,int*j){ return    MixMatrixU(*id,*i,*j);}\r\n",
      "          ^\r\n",
      "fortran.c:360:8: warning: no previous prototype for ‘remixmatrix_’ [-Wmissing-prototypes]\r\n",
      " double remixmatrix_ (int*id, int*i,int*j){return creal(cMixMatrix (*id,*i,*j));}\r\n",
      "        ^\r\n",
      "fortran.c:361:8: warning: no previous prototype for ‘remixmatrixu_’ [-Wmissing-prototypes]\r\n",
      " double remixmatrixu_(int*id, int*i,int*j){return creal(cMixMatrixU(*id,*i,*j));}\r\n",
      "        ^\r\n",
      "fortran.c:362:8: warning: no previous prototype for ‘immixmatrix_’ [-Wmissing-prototypes]\r\n",
      " double immixmatrix_ (int*id, int*i,int*j){return cimag(cMixMatrix (*id,*i,*j));}\r\n",
      "        ^\r\n",
      "fortran.c:363:8: warning: no previous prototype for ‘immixmatrixu_’ [-Wmissing-prototypes]\r\n",
      " double immixmatrixu_(int*id, int*i,int*j){return cimag(cMixMatrixU(*id,*i,*j));}\r\n",
      "        ^\r\n",
      "fortran.c:367:9: warning: no previous prototype for ‘initqcd_’ [-Wmissing-prototypes]\r\n",
      " double  initqcd_(double * alfsMZ, double * McMc, double * MbMb, double * Mtp)\r\n",
      "         ^\r\n",
      "fortran.c:369:8: warning: no previous prototype for ‘alphaqcd_’ [-Wmissing-prototypes]\r\n",
      " double alphaqcd_(double * q) { return alphaQCD(*q);}\r\n",
      "        ^\r\n",
      "fortran.c:370:8: warning: no previous prototype for ‘mcrun_’ [-Wmissing-prototypes]\r\n",
      " double mcrun_(double *q){ return McRun(*q);}\r\n",
      "        ^\r\n",
      "fortran.c:371:8: warning: no previous prototype for ‘mbrun_’ [-Wmissing-prototypes]\r\n",
      " double mbrun_(double *q){ return MbRun(*q);}\r\n",
      "        ^\r\n",
      "fortran.c:372:8: warning: no previous prototype for ‘mtrun_’ [-Wmissing-prototypes]\r\n",
      " double mtrun_(double *q){ return MtRun(*q);}\r\n",
      "        ^\r\n",
      "fortran.c:374:8: warning: no previous prototype for ‘mceff_’ [-Wmissing-prototypes]\r\n",
      " double mceff_(double *q){ return McEff(*q);}\r\n",
      "        ^\r\n",
      "fortran.c:375:8: warning: no previous prototype for ‘mbeff_’ [-Wmissing-prototypes]\r\n",
      " double mbeff_(double *q){ return MbEff(*q);}\r\n",
      "        ^\r\n",
      "fortran.c:376:8: warning: no previous prototype for ‘mteff_’ [-Wmissing-prototypes]\r\n",
      " double mteff_(double *q){ return MtEff(*q);}\r\n",
      "        ^\r\n",
      "event2pyth.c:37:7: warning: no previous prototype for ‘printAll’ [-Wmissing-prototypes]\r\n",
      " void  printAll(void)\r\n",
      "       ^\r\n",
      "ch_events.c:234:6: warning: no previous prototype for ‘closeevents_’ [-Wmissing-prototypes]\r\n",
      " void closeevents_(void)\r\n",
      "      ^\r\n",
      "ch_events.c:234:6: warning: no previous prototype for ‘closeevents_’ [-Wmissing-prototypes]\r\n",
      " void closeevents_(void)\r\n",
      "      ^\r\n",
      "s_files.c: In function ‘comp_control’:\r\n",
      "s_files.c:130:3: warning: implicit declaration of function ‘infoLine’ [-Wimplicit-function-declaration]\r\n",
      "   infoLine(0.);\r\n",
      "   ^\r\n",
      "s_files.c: In function ‘pCompile’:\r\n",
      "s_files.c:168:60: warning: passing argument 3 of ‘pthread_create’ from incompatible pointer type\r\n",
      "      for (k=0;k<nPROCSS;k++) pthread_create(threads+k,NULL,pCompile_cycle, num+k);\r\n",
      "                                                            ^\r\n",
      "In file included from s_files.c:7:0:\r\n",
      "/usr/include/pthread.h:244:12: note: expected ‘void * (*)(void *)’ but argument is of type ‘void * (*)(int *)’\r\n",
      " extern int pthread_create (pthread_t *__restrict __newthread,\r\n",
      "            ^\r\n",
      "make-j.c: In function ‘main’:\r\n",
      "make-j.c:54:61: warning: passing argument 3 of ‘pthread_create’ from incompatible pointer type\r\n",
      "      for (k=0;k<nParProc;k++) pthread_create(threads+k,NULL,pCompile_cycle,NULL);  \r\n",
      "                                                             ^\r\n",
      "In file included from make-j.c:6:0:\r\n",
      "/usr/include/pthread.h:244:12: note: expected ‘void * (*)(void *)’ but argument is of type ‘void * (*)(int *)’\r\n",
      " extern int pthread_create (pthread_t *__restrict __newthread,\r\n",
      "            ^\r\n",
      "cs22.c:595:7: warning: no previous prototype for ‘sethelicities_’ [-Wmissing-prototypes]\r\n",
      " void  sethelicities_(double *h1,double *h2) { Helicity[0]=*h1; Helicity[1]=*h2;}\r\n",
      "       ^\r\n",
      "cs22.c:598:8: warning: no previous prototype for ‘hcollider_’ [-Wmissing-prototypes]\r\n",
      " double hcollider_(double*Pcm, int*pp, int* nf, double*Qren,double*Qfact, char * name1,char *name2,double*pTmin,int*wrt,int len1,int len2)\r\n",
      "        ^\r\n",
      "ar: creating micromegas.a\r\n",
      "directDetFort.c:17:8: warning: no previous prototype for ‘XYloop_’ [-Wmissing-prototypes]\r\n",
      " double XYloop_(double sing, double mq, double msq, double mne)\r\n",
      "        ^\r\n",
      "directDetFort.c:69:8: warning: no previous prototype for ‘nucleusrecoilaux_’ [-Wmissing-prototypes]\r\n",
      " double nucleusrecoilaux_(\r\n",
      "        ^\r\n",
      "directDetFort.c:98:8: warning: no previous prototype for ‘nucleusrecoil0aux_’ [-Wmissing-prototypes]\r\n",
      " double nucleusrecoil0aux_( double (*fDv)(double*),\r\n",
      "        ^\r\n",
      "directDetFort.c:123:8: warning: no previous prototype for ‘dnderecoil_’ [-Wmissing-prototypes]\r\n",
      " double dnderecoil_(double *tab, double *E)\r\n",
      "        ^\r\n",
      "neutrino.c:1007:6: warning: no previous prototype for ‘makeTabl’ [-Wmissing-prototypes]\r\n",
      " void makeTabl(void)\r\n",
      "      ^\r\n",
      "ic22.c:431:8: warning: no previous prototype for ‘ic22nuar_’ [-Wmissing-prototypes]\r\n",
      " double ic22nuar_(double* E)  { return IC22nuAr(*E);  }\r\n",
      "        ^\r\n",
      "ic22.c:432:8: warning: no previous prototype for ‘ic22nubarar_’ [-Wmissing-prototypes]\r\n",
      " double ic22nubarar_(double*E){ return IC22nuBarAr(*E);}\r\n",
      "        ^\r\n",
      "ic22.c:434:8: warning: no previous prototype for ‘ic22bgdcos_’ [-Wmissing-prototypes]\r\n",
      " double ic22bgdcos_(double*cs){ return IC22BGdCos(*cs); }\r\n",
      "        ^\r\n",
      "ic22.c:435:8: warning: no previous prototype for ‘ic22sigma_’ [-Wmissing-prototypes]\r\n",
      " double ic22sigma_(double*E)  { return IC22sigma(*E); }\r\n",
      "        ^\r\n",
      "ic22.c:437:6: warning: no previous prototype for ‘ic22events_’ [-Wmissing-prototypes]\r\n",
      " int  ic22events_(double *nu, double * nuB, double * phi_cut, double *Nsig,double *Nbg, int*Nobs) \r\n",
      "      ^\r\n",
      "ic22.c:441:8: warning: no previous prototype for ‘exlevic22_’ [-Wmissing-prototypes]\r\n",
      " double exlevic22_(double*nu,double*NU,double*L)\r\n",
      "        ^\r\n",
      "ic22.c:444:8: warning: no previous prototype for ‘fluxfactoric22_’ [-Wmissing-prototypes]\r\n",
      " double fluxfactoric22_( double* pval,double *NU,double*NUbar)\r\n",
      "        ^\r\n",
      "spectraFort.c:6:8: warning: no previous prototype for ‘hprofilezhao_’ [-Wmissing-prototypes]\r\n",
      " double hprofilezhao_(double *r) {return hProfileZhao(*r);}\r\n",
      "        ^\r\n",
      "spectraFort.c:7:8: warning: no previous prototype for ‘noclamps_’ [-Wmissing-prototypes]\r\n",
      " double noclamps_(double *r) {return 1;}\r\n",
      "        ^\r\n",
      "spectraFort.c:10:6: warning: no previous prototype for ‘setprofilezhao_’ [-Wmissing-prototypes]\r\n",
      " void setprofilezhao_(double *alpha, double*beta, double*gamma, double*rc)\r\n",
      "      ^\r\n",
      "spectraFort.c:13:8: warning: no previous prototype for ‘hprofileeinasto’ [-Wmissing-prototypes]\r\n",
      " double hprofileeinasto(double * r){ return hProfileEinasto(*r);}\r\n",
      "        ^\r\n",
      "spectraFort.c:14:7: warning: no previous prototype for ‘setprofileeinasto_’ [-Wmissing-prototypes]\r\n",
      " void  setprofileeinasto_(double *alpha){ setProfileEinasto(*alpha);}\r\n",
      "       ^\r\n",
      "spectraFort.c:22:6: warning: no previous prototype for ‘sethaloprofile_’ [-Wmissing-prototypes]\r\n",
      " void sethaloprofile_(double(*hProfile)(double*))\r\n",
      "      ^\r\n",
      "spectraFort.c:28:6: warning: no previous prototype for ‘setrhoclumps_’ [-Wmissing-prototypes]\r\n",
      " void setrhoclumps_(double(*cProfile)(double*))\r\n",
      "      ^\r\n",
      "spectraFort.c:34:6: warning: no previous prototype for ‘setclumpconst_’ [-Wmissing-prototypes]\r\n",
      " void setclumpconst_(double*f,double*rho) {  setClumpConst(*f,*rho); }\r\n",
      "      ^\r\n",
      "spectraFort.c:57:8: warning: no previous prototype for ‘spectdnde_’ [-Wmissing-prototypes]\r\n",
      " double spectdnde_(double *E, double *tab){ return SpectdNdE(*E, tab); }   \r\n",
      "        ^\r\n",
      "spectraFort.c:69:6: warning: no previous prototype for ‘gammafluxtab_’ [-Wmissing-prototypes]\r\n",
      " void gammafluxtab_(double *fi, double * dfi, double *sigmaV, double *Sp, double *Sobs)\r\n",
      "      ^\r\n",
      "spectraFort.c:72:8: warning: no previous prototype for ‘gammaflux_’ [-Wmissing-prototypes]\r\n",
      " double gammaflux_(double *fi, double *dfi,  double *dSigmadE)\r\n",
      "        ^\r\n",
      "spectraFort.c:75:6: warning: no previous prototype for ‘posifluxtab_’ [-Wmissing-prototypes]\r\n",
      " void posifluxtab_(double* Emin, double*sigmav, double *tab ,double *tabOut)\r\n",
      "      ^\r\n",
      "spectraFort.c:78:6: warning: no previous prototype for ‘pbarfluxtab_’ [-Wmissing-prototypes]\r\n",
      " void pbarfluxtab_(double* Emin, double*sigmav, double *tab,double *tabOut)\r\n",
      "      ^\r\n",
      "spectraFort.c:82:14: warning: no previous prototype for ‘solarmodulation_’ [-Wmissing-prototypes]\r\n",
      " extern void  solarmodulation_(double *PHI, double *mass, double * inTab, double * outTab)\r\n",
      "              ^\r\n",
      "spectraFort.c:85:5: warning: no previous prototype for ‘basicspectra_’ [-Wmissing-prototypes]\r\n",
      " int basicspectra_(double *Mass, int *pdgN, int *outN, double * tab)\r\n",
      "     ^\r\n",
      "spectraFort.c:88:5: warning: no previous prototype for ‘basicnuspectra_’ [-Wmissing-prototypes]\r\n",
      " int basicnuspectra_(int*forSun, double *Mass, int *pdgN, int*pol, double * nu, double * nuB)\r\n",
      "     ^\r\n",
      "spectraFort.c:96:6: warning: no previous prototype for ‘displayfunc_’ [-Wmissing-prototypes]\r\n",
      " void displayfunc_(double (*F)(double*),double *x1,double *x2,char *fmess,int len)\r\n",
      "      ^\r\n",
      "spectraFort.c:104:9: warning: no previous prototype for ‘spectrint’ [-Wmissing-prototypes]\r\n",
      " double  spectrint(double *Emin,double *Emax, double * tab)\r\n",
      "         ^\r\n",
      "spectraFort.c:113:6: warning: no previous prototype for ‘spectrmult_’ [-Wmissing-prototypes]\r\n",
      " void spectrmult_( double *spect, double(*func)(double*))\r\n",
      "      ^\r\n",
      "common.c:55:6: warning: no previous prototype for ‘forceug_’ [-Wmissing-prototypes]\r\n",
      " void forceug_(int * key) { ForceUG=*key;}\r\n",
      "      ^\r\n",
      "fortran.c:66:6: warning: no previous prototype for ‘nextodd_’ [-Wmissing-prototypes]\r\n",
      " void nextodd_(int *n, char * pName, double *pMass,int len)\r\n",
      "      ^\r\n",
      "fortran.c:74:6: warning: no previous prototype for ‘pdg2name_’ [-Wmissing-prototypes]\r\n",
      " void pdg2name_(int * pdg, char * name,int len)\r\n",
      "      ^\r\n",
      "fortran.c:82:8: warning: no previous prototype for ‘pmass_’ [-Wmissing-prototypes]\r\n",
      " double pmass_(char * pName, int len)\r\n",
      "        ^\r\n",
      "fortran.c:88:5: warning: no previous prototype for ‘qnumbers_’ [-Wmissing-prototypes]\r\n",
      " int qnumbers_(char*pname, int *spin2,int*charge3,int*cdim,int len)\r\n",
      "     ^\r\n",
      "fortran.c:98:8: warning: no previous prototype for ‘darkomegafo_’ [-Wmissing-prototypes]\r\n",
      " double darkomegafo_(double*Xf,int*fast,double*Beps){return darkOmegaFO(Xf,*fast,*Beps);}\r\n",
      "        ^\r\n",
      "fortran.c:99:8: warning: no previous prototype for ‘darkomega2_’ [-Wmissing-prototypes]\r\n",
      " double darkomega2_(int*Fast,double *Beps){return darkOmega2(*Fast,*Beps);}\r\n",
      "        ^\r\n",
      "fortran.c:101:10: warning: no previous prototype for ‘vs1120f_’ [-Wmissing-prototypes]\r\n",
      "  double  vs1120f_(double *T){ return  vs1120F(*T);}\r\n",
      "          ^\r\n",
      "fortran.c:102:10: warning: no previous prototype for ‘vs2200f_’ [-Wmissing-prototypes]\r\n",
      "  double  vs2200f_(double *T){ return  vs2200F(*T);}\r\n",
      "          ^\r\n",
      "fortran.c:103:10: warning: no previous prototype for ‘vs1100f_’ [-Wmissing-prototypes]\r\n",
      "  double  vs1100f_(double *T){ return  vs1100F(*T);}\r\n",
      "          ^\r\n",
      "fortran.c:104:10: warning: no previous prototype for ‘vs1210f_’ [-Wmissing-prototypes]\r\n",
      "  double  vs1210f_(double *T){ return  vs1210F(*T);}\r\n",
      "          ^\r\n",
      "fortran.c:105:10: warning: no previous prototype for ‘vs1122f_’ [-Wmissing-prototypes]\r\n",
      "  double  vs1122f_(double *T){ return  vs1122F(*T);}\r\n",
      "          ^\r\n",
      "fortran.c:106:10: warning: no previous prototype for ‘vs2211f_’ [-Wmissing-prototypes]\r\n",
      "  double  vs2211f_(double *T){ return  vs2211F(*T);}\r\n",
      "          ^\r\n",
      "fortran.c:107:10: warning: no previous prototype for ‘vs1110f_’ [-Wmissing-prototypes]\r\n",
      "  double  vs1110f_(double *T){ return  vs1110F(*T);}\r\n",
      "          ^\r\n",
      "fortran.c:108:10: warning: no previous prototype for ‘vs2220f_’ [-Wmissing-prototypes]\r\n",
      "  double  vs2220f_(double *T){ return  vs2220F(*T);}\r\n",
      "          ^\r\n",
      "fortran.c:109:10: warning: no previous prototype for ‘vs1112f_’ [-Wmissing-prototypes]\r\n",
      "  double  vs1112f_(double *T){ return  vs1112F(*T);}\r\n",
      "          ^\r\n",
      "fortran.c:110:10: warning: no previous prototype for ‘vs1222f_’ [-Wmissing-prototypes]\r\n",
      "  double  vs1222f_(double *T){ return  vs1222F(*T);}\r\n",
      "          ^\r\n",
      "fortran.c:111:10: warning: no previous prototype for ‘vs1220f_’ [-Wmissing-prototypes]\r\n",
      "  double  vs1220f_(double *T){ return  vs1220F(*T);}\r\n",
      "          ^\r\n",
      "fortran.c:112:10: warning: no previous prototype for ‘vs2210f_’ [-Wmissing-prototypes]\r\n",
      "  double  vs2210f_(double *T){ return  vs2210F(*T);}\r\n",
      "          ^\r\n",
      "fortran.c:113:10: warning: no previous prototype for ‘vs2221f_’ [-Wmissing-prototypes]\r\n",
      "  double  vs2221f_(double *T){ return  vs2221F(*T);}\r\n",
      "          ^\r\n",
      "fortran.c:114:10: warning: no previous prototype for ‘vs1211f_’ [-Wmissing-prototypes]\r\n",
      "  double  vs1211f_(double *T){ return  vs1211F(*T);}\r\n",
      "          ^\r\n",
      "fortran.c:131:8: warning: no previous prototype for ‘onechannel_’ [-Wmissing-prototypes]\r\n",
      " double onechannel_(double *Xf,double *Beps,char*fn1,char*fn2,char*fn3,char*fn4,\r\n",
      "        ^\r\n",
      "fortran.c:160:5: warning: no previous prototype for ‘slhadecayprint_’ [-Wmissing-prototypes]\r\n",
      " int slhadecayprint_(char * pname,int*dVirt,int *Nch,int len)\r\n",
      "     ^\r\n",
      "fortran.c:176:8: warning: no previous prototype for ‘vsigma_’ [-Wmissing-prototypes]\r\n",
      " double vsigma_(double*T,double*Beps,int*Fast)\r\n",
      "        ^\r\n",
      "fortran.c:204:5: warning: no previous prototype for ‘omegach_’ [-Wmissing-prototypes]\r\n",
      " int omegach_(int*i,double*w,int*pdg,char*txt,int len)   {return channels(omegaCh,  i,w,pdg,txt,len);}\r\n",
      "     ^\r\n",
      "fortran.c:206:5: warning: no previous prototype for ‘vsigmatch_’ [-Wmissing-prototypes]\r\n",
      " int vsigmatch_(int *i,double*w,int*pdg,char*txt,int len){return channels(vSigmaTCh,i,w,pdg,txt,len);}\r\n",
      "     ^\r\n",
      "fortran.c:208:5: warning: no previous prototype for ‘vsigmach_’ [-Wmissing-prototypes]\r\n",
      " int vsigmach_(int *i,double*w,int*pdg,char*txt,int len) {return channels(vSigmaCh, i,w,pdg,txt,len);}\r\n",
      "     ^\r\n",
      "fortran.c:214:6: warning: no previous prototype for ‘cleandecaytable_’ [-Wmissing-prototypes]\r\n",
      " void cleandecaytable_(void) { cleanDecayTable(); } \r\n",
      "      ^\r\n",
      "fortran.c:215:6: warning: no previous prototype for ‘setvvdecay_’ [-Wmissing-prototypes]\r\n",
      " void setvvdecay_(int*vwdecay,int*vzdecay ){ VWdecay=*vwdecay;  VZdecay=*vzdecay;  cleanDecayTable(); }\r\n",
      "      ^\r\n",
      "fortran.c:219:5: warning: no previous prototype for ‘neutrinoflux_’ [-Wmissing-prototypes]\r\n",
      " int neutrinoflux_( double(*fDv)(double*), int* forSun, double* nu, double * Nu)\r\n",
      "     ^\r\n",
      "fortran.c:228:6: warning: no previous prototype for ‘muonupward_’ [-Wmissing-prototypes]\r\n",
      " void muonupward_(double*nu, double*Nu, double*mu) { muonUpward(nu, Nu, mu);}\r\n",
      "      ^\r\n",
      "fortran.c:229:6: warning: no previous prototype for ‘muoncontained_’ [-Wmissing-prototypes]\r\n",
      " void muoncontained_(double*nu,double*Nu,double *rho, double*mu) { muonContained(nu,Nu,*rho, mu);}\r\n",
      "      ^\r\n",
      "fortran.c:232:8: warning: no previous prototype for ‘captureaux_’ [-Wmissing-prototypes]\r\n",
      " double captureaux_(double(*fDv)(double*),int*forSun, double *Mass, double*csIp,double*csIn,double*csDp, double*csDn)\r\n",
      "        ^\r\n",
      "decayFort.c:7:8: warning: no previous prototype for ‘pwidth_’ [-Wmissing-prototypes]\r\n",
      " double pwidth_(char * name, txtList *L , int len)\r\n",
      "        ^\r\n",
      "decayFort.c:14:6: warning: no previous prototype for ‘printtxtlist_’ [-Wmissing-prototypes]\r\n",
      " void printtxtlist_(txtList * list, int * Nch)\r\n",
      "      ^\r\n",
      "decayFort.c:27:9: warning: no previous prototype for ‘findbr_’ [-Wmissing-prototypes]\r\n",
      " double  findbr_(txtList*list, char * name,int len)\r\n",
      "         ^\r\n",
      "var_service.c:104:6: warning: no previous prototype for ‘assignval_’ [-Wmissing-prototypes]\r\n",
      " int  assignval_(char * f_name, double * val, int len)\r\n",
      "      ^\r\n",
      "var_service.c:110:5: warning: no previous prototype for ‘findval_’ [-Wmissing-prototypes]\r\n",
      " int findval_(char*f_name, double*val, int len)\r\n",
      "     ^\r\n",
      "var_service.c:118:6: warning: no previous prototype for ‘assignvalw_’ [-Wmissing-prototypes]\r\n",
      " void assignvalw_(char* f_name, double * val, int len)\r\n",
      "      ^\r\n",
      "var_service.c:124:8: warning: no previous prototype for ‘findvalw_’ [-Wmissing-prototypes]\r\n",
      " double findvalw_(char*f_name, int len)  /*FORTRAN*/\r\n",
      "        ^\r\n",
      "spectra.c:774:6: warning: no previous prototype for ‘sumSpectra’ [-Wmissing-prototypes]\r\n",
      " void sumSpectra(double*A,double*B,double*S)\r\n",
      "      ^\r\n",
      "dynamic_cs.c:44:8: warning: no previous prototype for ‘width1cc_’ [-Wmissing-prototypes]\r\n",
      " double width1cc_(int*ccf, int *err)\r\n",
      "        ^\r\n",
      "dynamic_cs.c: In function ‘width1cc_’:\r\n",
      "dynamic_cs.c:47:3: warning: implicit declaration of function ‘width1CC’ [-Wimplicit-function-declaration]\r\n",
      "   return width1CC(cc, err);\r\n",
      "   ^\r\n",
      "displayPlot.c:96:7: warning: no previous prototype for ‘killplots_’ [-Wmissing-prototypes]\r\n",
      " void  killplots_(void) { killPlots();}\r\n",
      "       ^\r\n",
      "smodels.c:221:6: warning: no previous prototype for ‘smodels_’ [-Wmissing-prototypes]\r\n",
      " void smodels_(double *Pcm, int *nf,double *csMinFb, char*fileName,int *wrt,int len)\r\n",
      "      ^\r\n",
      "vsigma.c:268:8: warning: no previous prototype for ‘vsigmacc_’ [-Wmissing-prototypes]\r\n",
      " double vsigmacc_(double *T, int *ccf)\r\n",
      "        ^\r\n",
      "directDet.c:746:6: warning: no previous prototype for ‘setrecoilrnergygrid_’ [-Wmissing-prototypes]\r\n",
      " void setrecoilrnergygrid_(double * step, int * nSteps)\r\n",
      "      ^\r\n",
      "kin23.c:140:8: warning: no previous prototype for ‘cs23’ [-Wmissing-prototypes]\r\n",
      " double cs23(numout*cc, int nsub, double Pcm, int ii3) \r\n",
      "        ^\r\n",
      "kin23.c:212:8: warning: no previous prototype for ‘cs23Vegas’ [-Wmissing-prototypes]\r\n",
      " double cs23Vegas(numout * cc, int nsub, double Pcm, int ii3, \r\n",
      "        ^\r\n",
      "kin23.c:371:8: warning: no previous prototype for ‘cs24Vegas’ [-Wmissing-prototypes]\r\n",
      " double cs24Vegas(numout * cc, int nsub, double Pcm, int ii3, int ii4, \r\n",
      "        ^\r\n",
      "ar: creating work_aux.a\r\n",
      "ar: creating aLib.a\r\n"
     ]
    }
   ],
   "source": [
    "cd ../micromegas\n",
    "make > /dev/null\n",
    "make > /dev/null\n",
    "cd $MODEL\n",
    "make main=CalcOmega.cpp > /dev/null"
   ]
  },
  {
   "cell_type": "markdown",
   "metadata": {},
   "source": [
    "###  Include Indirect Detection"
   ]
  },
  {
   "cell_type": "code",
   "execution_count": 10,
   "metadata": {
    "collapsed": false
   },
   "outputs": [
    {
     "name": "stdout",
     "output_type": "stream",
     "text": [
      "======== Indirect Detection ========\r\n",
      "already included\r\n"
     ]
    }
   ],
   "source": [
    "micromegas_with_DDetection=CalcOmega_with_DDetection_MOv4.2.cpp \n",
    "IDmsg=\"======== Indirect Detection ========\"\n",
    "if [ -f \"$micromegas_with_DDetection\" ]  && [ ! \"$(grep \"$IDmsg\" \"$micromegas_with_DDetection\" )\" ]; then\n",
    "    tmpfile=$(mktemp /tmp/CalcOmega_UP.XXXXXX)\n",
    "    grep -B 1000 'fclose(channels);' \"$micromegas_with_DDetection\" | grep -v 'fclose(channels);' > \"$tmpfile\"\n",
    "    echo \"\n",
    "{\n",
    "  double Emin=1,/* Energy cut  in GeV   */  sigmaV;\n",
    "  double vcs_gz,vcs_gg;\n",
    "  char txt[100];\n",
    "  double SpA[NZ],SpE[NZ],SpP[NZ];\n",
    "  double FluxA[NZ],FluxE[NZ],FluxP[NZ];\n",
    "  double * SpNe=NULL,*SpNm=NULL,*SpNl=NULL;\n",
    "  double Etest=Mcdm/2;\n",
    "\n",
    "  printf(\\\"\\n$IDmsg\\n\\\"); \n",
    "  sigmaV=calcSpectrum(1+2+4,SpA,SpE,SpP,SpNe,SpNm,SpNl ,&err);\n",
    "\n",
    "}\" >> \"$tmpfile\"\n",
    "\n",
    "  grep -A 1000 'fclose(channels);' \"$micromegas_with_DDetection\" >> \"$tmpfile\"\n",
    "  mv \"$tmpfile\" \"$micromegas_with_DDetection\"\n",
    "else \n",
    "  echo \"$IDmsg\"\n",
    "  echo \"already included\"\n",
    "fi"
   ]
  },
  {
   "cell_type": "markdown",
   "metadata": {},
   "source": [
    "Compile `micrOMEGAS` with direct detection"
   ]
  },
  {
   "cell_type": "code",
   "execution_count": 11,
   "metadata": {
    "collapsed": false
   },
   "outputs": [
    {
     "name": "stdout",
     "output_type": "stream",
     "text": []
    }
   ],
   "source": [
    "make main=\"$micromegas_with_DDetection\" > /dev/null"
   ]
  },
  {
   "cell_type": "code",
   "execution_count": 12,
   "metadata": {
    "collapsed": false
   },
   "outputs": [
    {
     "name": "stdout",
     "output_type": "stream",
     "text": [
      "\r\n",
      "Masses of odd sector Particles:\r\n",
      "~Ss  : MSs   =    28.4 || ~Re  : MRe   =   400.0 || \r\n",
      "PROCESS: ~Ss,~Ss->AllEven,1*x{,h,g,A,Z,Wp,Wm,nu1,Nu1,nu2,Nu2,nu3,Nu3,d1,D1,d2,D2,d3,D3,u1,U1,u2,U2,u3,U3,e1,E1,e2,E2,e3,E3\r\n",
      "PROCESS: Z->2*x\r\n",
      "PROCESS: Wp->2*x\r\n",
      "PROCESS: ~Ss,~Ss->Wm,E1,nu1\r\n",
      "Delete diagrams with %Z+W<1\r\n",
      "Xf=1.61e+01 Omega h^2=2.23e+01\r\n",
      "\r\n",
      "# Channels which contribute to 1/(omega) more than 1%.\r\n",
      "# Relative contributions in % are displayed\r\n",
      "   85% ~Ss ~Ss ->d3 D3 \r\n",
      "    8% ~Ss ~Ss ->e3 E3 \r\n",
      "    4% ~Ss ~Ss ->u2 U2 \r\n",
      "    2% ~Ss ~Ss ->g g \r\n",
      "\r\n",
      "==== Calculation of CDM-nucleons amplitudes  =====\r\n",
      "         TREE LEVEL\r\n",
      "PROCESS: QUARKS,~Ss->QUARKS,~Ss{d1,D1,d2,D2,d3,D3,u1,U1,u2,U2,u3,U3\r\n",
      "Delete diagrams with _S0_!=1,_V5_,A\r\n",
      "CDM-nucleon micrOMEGAs amplitudes:\r\n",
      "proton:  SI  2.479E-09  SD  0.000E+00\r\n",
      "neutron: SI  2.510E-09  SD  0.000E+00\r\n",
      "         BOX DIAGRAMS\r\n",
      "CDM-nucleon micrOMEGAs amplitudes:\r\n",
      "proton:  SI  2.479E-09  SD  0.000E+00\r\n",
      "neutron: SI  2.510E-09  SD  0.000E+00\r\n",
      "CDM-nucleon cross sections[pb]:\r\n",
      " proton  SI 2.517E-09  SD 0.000E+00\r\n",
      " neutron SI 2.580E-09  SD 0.000E+00\r\n",
      "\r\n",
      "======== Direct Detection ========\r\n",
      "73Ge: Total number of events=1.35E-03 /day/kg\r\n",
      "Number of events in 10 - 50 KeV region=4.38E-04 /day/kg\r\n",
      "131Xe: Total number of events=2.78E-03 /day/kg\r\n",
      "Number of events in 10 - 50 KeV region=4.68E-04 /day/kg\r\n",
      "23Na: Total number of events=1.83E-04 /day/kg\r\n",
      "Number of events in 10 - 50 KeV region=7.91E-05 /day/kg\r\n",
      "I127: Total number of events=2.69E-03 /day/kg\r\n",
      "Number of events in 10 - 50 KeV region=4.76E-04 /day/kg\r\n",
      "\r\n",
      "======== Indirect Detection ========\r\n",
      "    Channel          vcs[cm^3/s]\r\n",
      "==================================\r\n",
      " annihilation cross section 7.71E-29 cm^3/s\r\n",
      " contribution of processes\r\n",
      "  ~Ss,~Ss -> d3 D3      8.53E-01\r\n",
      "  ~Ss,~Ss -> e3 E3      8.00E-02\r\n",
      "  ~Ss,~Ss -> u2 U2      4.40E-02\r\n",
      "  ~Ss,~Ss -> g g        2.17E-02\r\n",
      "  ~Ss,~Ss -> A A        7.03E-04\r\n",
      "  ~Ss,~Ss -> d2 D2      6.90E-04\r\n",
      "  ~Ss,~Ss -> e2 E2      2.84E-04\r\n"
     ]
    }
   ],
   "source": [
    "cd ../../test_compilation\n",
    "../micromegas/$MODEL/$(basename \"$micromegas_with_DDetection\" .cpp) SPheno.spc.$MODEL"
   ]
  },
  {
   "cell_type": "markdown",
   "metadata": {},
   "source": [
    "##  Madgraph\n",
    "\n",
    "We are using [MG5_aMC_v2_3_3](https://launchpad.net/mg5amcnlo/2.0/2.3.x/+download/MG5_aMC_v2.3.3.tar.gz).\n",
    "\n",
    "We follow here clossely the SARAH Manual: _Exploring new models in all detail with_ `SARAH`, [arxiv.org:1503.04200](https://arxiv.org/pdf/1503.04200.pdf), Sec. \"Dilepton analysis with MadGraph\", pag. 118, but adapted to our problem.\n",
    "\n",
    "The command to generate the UFO files is\n",
    "\n",
    " `MakeUFO []`\n",
    " \n",
    "Within the SARAH toolbox used here, this `Mathematica` command is automatically executed and the resulting code is copied into the proper `MadGraph` folder at `madgraph/models/$MODEL`\n",
    "\n",
    "Here, we use an input file for MadGraph: `install_and_check.mdg`  which contains the following lines.\n",
    "(If all tests are passed hit `<ENTER>`)"
   ]
  },
  {
   "cell_type": "code",
   "execution_count": 16,
   "metadata": {
    "collapsed": false
   },
   "outputs": [
    {
     "name": "stdout",
     "output_type": "stream",
     "text": []
    }
   ],
   "source": [
    "cat << EOF > install_and_check.mdg #Creates the file with the folloing content before EOF\n",
    "#install pythia-pgs  \n",
    "## Check your root installation and install Delphes\n",
    "#install Delphes\n",
    "## Check SARAH model\n",
    "import model $MODEL -modelname\n",
    "# p is already defined if imported from\tMadGraph console\n",
    "define p g d1 d1bar d2 d2bar u1 u1bar u2 u2bar\n",
    "check p p > e2 e2bar\n",
    "EOF"
   ]
  },
  {
   "cell_type": "code",
   "execution_count": 17,
   "metadata": {
    "collapsed": false
   },
   "outputs": [
    {
     "name": "stdout",
     "output_type": "stream",
     "text": [
      "************************************************************\r\n",
      "load MG5 configuration from input/mg5_configuration.txt \r\n",
      "fastjet-config does not seem to correspond to a valid fastjet-config executable (v3+). We will use fjcore instead.\r\n",
      " Please set the 'fastjet'variable to the full (absolute) /PATH/TO/fastjet-config (including fastjet-config).\r\n",
      " MG5_aMC> set fastjet /PATH/TO/fastjet-config\r\n",
      "\r\n",
      "set lhapdf to lhapdf-config\r\n",
      "Using default eps viewer \"evince\". Set another one in ./input/mg5_configuration.txt\r\n",
      "Using default web browser \"firefox\". Set another one in ./input/mg5_configuration.txt\r\n",
      "import /home/restrepo/prog/toolbox/toolbox/test_compilation/install_and_check.mdg\r\n",
      "The import format was not given, so we guess it as command\r\n",
      "import model SimplifiedDMSDFDM -modelname\r\n",
      "Defined multiparticle all = g a nu1 nu2 nu3 nu1bar nu2bar nu3bar d1 d2 d3 u1 u2 u3 d1bar d2bar d3bar u1bar u2bar u3bar h z wp wpc re e1 e2 e3 chi1 chi2 chi3 rebar e1bar e2bar e3bar\r\n",
      "define p g d1 d1bar d2 d2bar u1 u1bar u2 u2bar\r\n",
      "Defined multiparticle p = g d1 d2 u1 u2 d1bar d2bar u1bar u2bar\r\n",
      "check p p > e2 e2bar\r\n",
      "check: PJFRY not available on your system; it will be skipped.\u001b[0m\r\n",
      "check: GOLEM not available on your system; it will be skipped.\u001b[0m\r\n",
      "\r\n",
      "\r\n"
     ]
    }
   ],
   "source": [
    "cd ../madgraph  \n",
    "./bin/mg5_aMC ../test_compilation/install_and_check.mdg 2>/dev/null | tail -n20\n",
    "cd ../test_compilation"
   ]
  },
  {
   "cell_type": "markdown",
   "metadata": {},
   "source": [
    "Now we can generate some processes. We just check that the lightest righ handed neutrino does no couple with the photon.\n",
    "The possible VBF processes is in a commented line."
   ]
  },
  {
   "cell_type": "code",
   "execution_count": 18,
   "metadata": {
    "collapsed": false
   },
   "outputs": [
    {
     "name": "stdout",
     "output_type": "stream",
     "text": [
      "save configuration file to /home/restrepo/prog/toolbox/toolbox/test_compilation/MadOut/Cards/me5_configuration.txt\r\n",
      "INFO: Use Fortran compiler gfortran \r\n",
      "INFO: Generate jpeg diagrams \r\n",
      "INFO: Generate web pages \r\n",
      "Output to directory /home/restrepo/prog/toolbox/toolbox/test_compilation/MadOut done.\r\n",
      "Type \"launch\" to generate events from this process, or see\r\n",
      "/home/restrepo/prog/toolbox/toolbox/test_compilation/MadOut/README\r\n",
      "Run \"open index.html\" to see more information about this process.\r\n",
      "exit\r\n",
      " \r\n",
      "quit\r\n",
      " \r\n",
      "\r\n",
      " \r\n",
      "\r\n"
     ]
    }
   ],
   "source": [
    "cat << EOF > VBF.mdg #Creates the file with the folloing content before EOF \n",
    "#See: http://www.niu.edu/spmartin/madgraph/madsyntax.html\n",
    "import model $MODEL -modelname\n",
    "#p is already defined if imported from\tMadGraph console\n",
    "define p g d1 d1bar d2 d2bar u1 u1bar u2 u2bar\n",
    "define j g d1 d1bar d2 d2bar u1 u1bar u2 u2bar   \n",
    "#Just check that right-handed neutrino does no couples to foton:\n",
    "generate p p > e2 e2bar QCD=0\n",
    "output MadOut -f\n",
    "exit\n",
    "EOF\n",
    "../madgraph/bin/mg5_aMC VBF.mdg  2> /dev/null | tail -n15"
   ]
  },
  {
   "cell_type": "markdown",
   "metadata": {
    "collapsed": false
   },
   "source": [
    "In the first of line `VBF.mdg`, we import the model in `MadGraph`. The option `-modelname` is used to keep the names of the particles as given in the model files. By default, `MadGraph` will try to use the default naming conventions. However, this would fail for this model. We define a multi-particle called `p` which consists of gluon and all the light quarks. If we import the model direcly from the `MadGraph` console, `p` is definded automatically from the new model name particles.\n",
    "\n",
    "The output for MadEvent is written to a new subdirectory `test_compilation/MadOut`  and we close `MadGraph` when it is done via exit. \n",
    "\n",
    "After MadGraph has created the output for MadEvent and finished, we can enter the new subdirectory `test_compilation/MadOut`. The important settings to generate events are done via the files in the Cards-directory: the file `param_card.dat` is used to give the input for all parameters, `run_card.dat` controls the event generations. In the last file, the user can for instance set the beam type and energy, define the renormalization scale, apply cuts, and fix the number of events. We want to use, of course, the spectrum file as written by SPheno. \n",
    "\n",
    "When we have the spectrum file in the correct form, we can copy this file to the Cards directory as\n",
    "`param_card.dat`."
   ]
  },
  {
   "cell_type": "code",
   "execution_count": 19,
   "metadata": {
    "collapsed": false
   },
   "outputs": [
    {
     "name": "stdout",
     "output_type": "stream",
     "text": []
    }
   ],
   "source": [
    "cp SPheno.spc.$MODEL MadOut/Cards/param_card.dat "
   ]
  },
  {
   "cell_type": "markdown",
   "metadata": {},
   "source": [
    "Changes in any of the input parameters, require to update the `SPheno` output and overwrite the `MadOut/Cards/param_card.dat` file"
   ]
  },
  {
   "cell_type": "code",
   "execution_count": 26,
   "metadata": {
    "collapsed": false
   },
   "outputs": [
    {
     "name": "stdout",
     "output_type": "stream",
     "text": [
      "     Cross-section :   825.3 +- 1.873 pb\r\n"
     ]
    }
   ],
   "source": [
    "cat << EOF > launch.mdg\n",
    "launch MadOut -f\n",
    "EOF\n",
    "../madgraph/bin/mg5_aMC launch.mdg 2>/dev/null | grep ' Cross-section :'"
   ]
  },
  {
   "cell_type": "markdown",
   "metadata": {
    "collapsed": true
   },
   "source": [
    "## Go now to: \n",
    "* [main ipyrhon file](./tests/SimplifiedDM-SSSFDM.ipynb) → Singlet Scalar Singlet (charged) Fermion Dark Matter"
   ]
  },
  {
   "cell_type": "code",
   "execution_count": null,
   "metadata": {
    "collapsed": true
   },
   "outputs": [],
   "source": []
  }
 ],
 "metadata": {
  "kernelspec": {
   "display_name": "Bash",
   "language": "bash",
   "name": "bash"
  },
  "language_info": {
   "codemirror_mode": "shell",
   "file_extension": ".sh",
   "mimetype": "text/x-sh",
   "name": "bash"
  }
 },
 "nbformat": 4,
 "nbformat_minor": 0
}
